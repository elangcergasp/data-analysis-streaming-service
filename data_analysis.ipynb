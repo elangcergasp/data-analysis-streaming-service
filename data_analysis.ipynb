{
 "cells": [
  {
   "cell_type": "markdown",
   "id": "a1f96029",
   "metadata": {},
   "source": [
    "# **I. Introduction**"
   ]
  },
  {
   "cell_type": "markdown",
   "id": "5bff958d",
   "metadata": {},
   "source": [
    "**Nama : Elang Cergas Pembrani**"
   ]
  },
  {
   "cell_type": "markdown",
   "id": "ecc09c19",
   "metadata": {},
   "source": [
    "---"
   ]
  },
  {
   "cell_type": "markdown",
   "id": "4b5ce0ec",
   "metadata": {},
   "source": [
    "# **II. Problem Statement and Dataset Description**"
   ]
  },
  {
   "cell_type": "markdown",
   "id": "31e26493",
   "metadata": {},
   "source": [
    "## **A. Topik Permasalahan : `Analisis Streaming Service Data`**"
   ]
  },
  {
   "cell_type": "markdown",
   "id": "aef7e100",
   "metadata": {},
   "source": [
    "## **B. Latar Belakang**"
   ]
  },
  {
   "cell_type": "markdown",
   "id": "023c544b",
   "metadata": {},
   "source": [
    "Saya adalah seorang Data Scientist di pada suatu tim Streaming Service (seperti Netflix dll). Selama ini, tim saya tidak menerapkan strategi yang spesifik untuk bisa menarik dan mempertahankan customer. Untuk itu, saya akan menganalisis dataset dari streaming service lain untuk melihat gambaran demografi dan perilaku customer streaming di platform lain. Dari informasi tersebut, saya bisa menarik kesimpulan dan mengatur potensi strategi yang bisa diterapkan untuk mempertahankan customer di Streaming Service saya."
   ]
  },
  {
   "cell_type": "markdown",
   "id": "ebfa0b0e",
   "metadata": {},
   "source": [
    "## **C. Problem Statement**"
   ]
  },
  {
   "cell_type": "markdown",
   "id": "3959d99b",
   "metadata": {},
   "source": [
    "Untuk mendefinisikan tujuan yang ingin dicapai, saya akan menggunakan SMART Framework seperti berikut:"
   ]
  },
  {
   "cell_type": "markdown",
   "id": "bc02efa2",
   "metadata": {},
   "source": [
    "|   | SMART | Framework |\n",
    "| - | - | - |\n",
    "| S | Specific | Menentukan strategi untuk mempertahankan customer streaming |\n",
    "| M | Measurable | Menganalisis demografi, perilaku dan _engagement_ customer streaming dalam kurun waktu 1 tahun terakhir |\n",
    "| A | Achieveable | Analisis demografi, perilaku dan _engagement_ customer streaming bisa dilakukan dengan menganalisis dataset tentang Streaming Service |\n",
    "| R | Relevant | Analisis demografi, perilaku dan _engagement_ customer streaming bisa menjadi petunjuk untuk menentukan strategi yang dapat menjadi kunci untuk mempertahankan customer streaming |\n",
    "| T | Time-bound | Analisis dilakukan dalam kurun waktu 1 minggu |"
   ]
  },
  {
   "cell_type": "markdown",
   "id": "1bf31139",
   "metadata": {},
   "source": [
    "> Menganalisis demografi, perilaku dan _engagement_ customer streaming dalam kurun waktu 1 minggu dengan cara menganalisis dataset Streaming Service 1 tahun terakhir, sehingga dapat menentukan strategi yang tepat untuk mempertahankan customer streaming"
   ]
  },
  {
   "cell_type": "markdown",
   "id": "20b367f5",
   "metadata": {},
   "source": [
    "## **D. Sumber Dataset**"
   ]
  },
  {
   "cell_type": "markdown",
   "id": "ef47d8e4",
   "metadata": {},
   "source": [
    "Untuk menjawab problem statement yang sudah didefinisikan, saya menggunakan dataset terbuka dari Kaggle berjudul `Streaming Service Data` dengan URL link berikut : \n",
    "\n",
    "[Kaggle - Streaming Service Data](https://www.kaggle.com/datasets/akashanandt/streaming-service-data)\n",
    "\n",
    "Dataset ini diasumsikan adalah dataset dari streaming service kompetitor yang menyediakan konten yang serupa (misal TV shows) dengan tim streaming service saya sehingga isi data customer dianggap relevan dengan tim streaming service saya.\n"
   ]
  },
  {
   "cell_type": "markdown",
   "id": "e55eb010",
   "metadata": {},
   "source": [
    "Berikut adalah kutipan deskripsi dataset yang diambil langsung dari sumber dataset:\n",
    "> The dataset consists of 5,000 customer records, capturing various aspects of their demographic, behavioral, and transactional information. It includes details such as customer age, gender, subscription length, region, and payment method. Additionally, the dataset tracks customer interactions, such as the number of support tickets raised and satisfaction scores, as well as financial data like monthly spend and discounts offered. The \"Last_Activity\" field indicates how recently a customer has engaged with the service. Finally, the dataset includes a churn indicator, showing whether a customer has ended their subscription. Some variables, like Age and Satisfaction_Score, contain missing values. This dataset provides valuable insights into customer behavior and can be used for analyzing churn patterns, satisfaction levels, and spending trends.\n",
    "\n",
    "Secara sederhana, dataset dideskripsikan oleh _owner_-nya sebagai dataset yang berisi 5.000 data pelanggan, yang melingkupi berbagai aspek demografis, perilaku, dan informasi transaksi. Dataset juga melacak interaksi pelanggan, seperti jumlah tiket bantuan yang diajukan dan nilai kepuasan, serta data finansial seperti besaran langganan per bulan dan diskon yang telah ditawarkan. Terdapat kolom khusus untuk melacak kapan pelanggan terakhir kali berinteraksi dengan layanan Streaming. Yang terakhir ada indikator _churn_, yang menunjukkan apakah pelanggan sudah mengakhiri _subscription_ mereka.\n"
   ]
  },
  {
   "cell_type": "markdown",
   "id": "f2e64eb7",
   "metadata": {},
   "source": [
    "## **E. Penjabaran Masalah**"
   ]
  },
  {
   "cell_type": "markdown",
   "id": "7e1c0fc2",
   "metadata": {},
   "source": [
    "Problem Statement: **Menganalisis demografi, perilaku dan _engagement_ customer streaming**\n",
    "\n",
    "Penjabaran Masalah:\n",
    "  1. [Demografi customer seperti apa jika dilihat dari kelompok usia dan jenis kelamin?](#1-demografi-customer-seperti-apa-jika-dilihat-dari-kelompok-usia-dan-jenis-kelamin)\n",
    "  2. [Demografi customer seperti apa yang paling sering menonton streaming?](#2-demografi-customer-seperti-apa-yang-paling-sering-menonton-streaming)\n",
    "  3. [Berapa rata-rata jangka waktu customer telah melakukan _subscribe_ berdasarkan demografi?](#3-berapa-rata-rata-jangka-waktu-customer-telah-melakukan-subscribe-berdasarkan-demografi)\n",
    "  4. [Berapa rata-rata pengeluaran _subscription_ per bulan customer berdasarkan demografi?](#4-berapa-rata-rata-pengeluaran-subscription-per-bulan-customer-berdasarkan-demografi)\n",
    "  5. [Bagaimana diskon yang ditawarkan mempengaruhi pengeluaran langganan per bulan?](#5-bagaimana-diskon-yang-ditawarkan-mempengaruhi-pengeluaran-langganan-per-bulan)\n",
    "  6. [Apakah ada hubungan antara tiket bantuan yang diajukan dengan nilai kepuasan customer?](#6-apakah-ada-hubungan-antara-tiket-bantuan-yang-diajukan-dengan-nilai-kepuasan-customer)\n",
    "  7. [Apakah tiket bantuan yang diajukan mempengaruhi berhentinya customer mengikuti streaming?](#7-apakah-tiket-bantuan-yang-diajukan-mempengaruhi-berhentinya-customer-mengikuti-streaming)\n",
    "  8. [Apakah metode pembayaran mempengaruhi pengeluaran langganan per bulan?](#8-apakah-metode-pembayaran-mempengaruhi-pengeluaran-langganan-per-bulan)\n",
    "  9. [Apakah penilaian kepuasan customer yang masih berlangganan sama dengan customer yang sudah tidak berlangganan?](#9-apakah-penilaian-kepuasan-customer-yang-masih-berlangganan-sama-dengan-customer-yang-sudah-tidak-berlangganan)\n"
   ]
  },
  {
   "cell_type": "markdown",
   "id": "784273fa",
   "metadata": {},
   "source": [
    "---"
   ]
  },
  {
   "cell_type": "markdown",
   "id": "a836d4aa",
   "metadata": {},
   "source": [
    "# **III. Data Loading**"
   ]
  },
  {
   "cell_type": "markdown",
   "id": "28fbacfc",
   "metadata": {},
   "source": [
    "## **A. Preparation**"
   ]
  },
  {
   "cell_type": "markdown",
   "id": "846d88cf",
   "metadata": {},
   "source": [
    "Sebelum rangkaian proses data loading, dilakukan dulu proses import _library_ yang dibutuhkan dalam seluruh rangkaian program seperti Pandas, Scipy dan lain-lain."
   ]
  },
  {
   "cell_type": "code",
   "execution_count": 848,
   "id": "063b75f8",
   "metadata": {},
   "outputs": [],
   "source": [
    "# Import Library\n",
    "import pandas as pd\n",
    "import numpy as np\n",
    "from scipy import stats\n",
    "import matplotlib.pyplot as plt\n",
    "import seaborn as sns\n",
    "\n",
    "plot_dir = './plot'"
   ]
  },
  {
   "cell_type": "markdown",
   "id": "8863ce7b",
   "metadata": {},
   "source": [
    "## **B. Import Dataset**"
   ]
  },
  {
   "cell_type": "markdown",
   "id": "606ae0f0",
   "metadata": {},
   "source": [
    "Dataset yang didapatkan dari [Kaggle](https://www.kaggle.com/datasets/akashanandt/streaming-service-data) seperti di atas sudah berbentuk [kompresi ZIP](./streaming-service-data.zip) berisi satu file CSV. Untuk melakukan loading data tersebut saya akan melakukan import file CSV menjadi _DataFrame_. File CSV bernama [streaming.csv](./streaming.csv).\n"
   ]
  },
  {
   "cell_type": "code",
   "execution_count": 849,
   "id": "feab84af",
   "metadata": {},
   "outputs": [
    {
     "data": {
      "text/html": [
       "<div>\n",
       "<style scoped>\n",
       "    .dataframe tbody tr th:only-of-type {\n",
       "        vertical-align: middle;\n",
       "    }\n",
       "\n",
       "    .dataframe tbody tr th {\n",
       "        vertical-align: top;\n",
       "    }\n",
       "\n",
       "    .dataframe thead th {\n",
       "        text-align: right;\n",
       "    }\n",
       "</style>\n",
       "<table border=\"1\" class=\"dataframe\">\n",
       "  <thead>\n",
       "    <tr style=\"text-align: right;\">\n",
       "      <th></th>\n",
       "      <th>Customer_ID</th>\n",
       "      <th>Age</th>\n",
       "      <th>Gender</th>\n",
       "      <th>Subscription_Length</th>\n",
       "      <th>Region</th>\n",
       "      <th>Payment_Method</th>\n",
       "      <th>Support_Tickets_Raised</th>\n",
       "      <th>Satisfaction_Score</th>\n",
       "      <th>Discount_Offered</th>\n",
       "      <th>Last_Activity</th>\n",
       "      <th>Monthly_Spend</th>\n",
       "      <th>Churned</th>\n",
       "    </tr>\n",
       "  </thead>\n",
       "  <tbody>\n",
       "    <tr>\n",
       "      <th>0</th>\n",
       "      <td>CUST000001</td>\n",
       "      <td>56.0</td>\n",
       "      <td>Male</td>\n",
       "      <td>54</td>\n",
       "      <td>South</td>\n",
       "      <td>PayPal</td>\n",
       "      <td>0</td>\n",
       "      <td>9.0</td>\n",
       "      <td>6.42</td>\n",
       "      <td>319</td>\n",
       "      <td>62.11</td>\n",
       "      <td>1</td>\n",
       "    </tr>\n",
       "    <tr>\n",
       "      <th>1</th>\n",
       "      <td>CUST000002</td>\n",
       "      <td>69.0</td>\n",
       "      <td>Female</td>\n",
       "      <td>21</td>\n",
       "      <td>East</td>\n",
       "      <td>Debit Card</td>\n",
       "      <td>1</td>\n",
       "      <td>2.0</td>\n",
       "      <td>13.77</td>\n",
       "      <td>166</td>\n",
       "      <td>37.27</td>\n",
       "      <td>1</td>\n",
       "    </tr>\n",
       "    <tr>\n",
       "      <th>2</th>\n",
       "      <td>CUST000003</td>\n",
       "      <td>46.0</td>\n",
       "      <td>Female</td>\n",
       "      <td>49</td>\n",
       "      <td>East</td>\n",
       "      <td>PayPal</td>\n",
       "      <td>3</td>\n",
       "      <td>8.0</td>\n",
       "      <td>19.91</td>\n",
       "      <td>207</td>\n",
       "      <td>61.82</td>\n",
       "      <td>0</td>\n",
       "    </tr>\n",
       "    <tr>\n",
       "      <th>3</th>\n",
       "      <td>CUST000004</td>\n",
       "      <td>32.0</td>\n",
       "      <td>Male</td>\n",
       "      <td>47</td>\n",
       "      <td>West</td>\n",
       "      <td>Debit Card</td>\n",
       "      <td>3</td>\n",
       "      <td>1.0</td>\n",
       "      <td>13.39</td>\n",
       "      <td>108</td>\n",
       "      <td>40.96</td>\n",
       "      <td>1</td>\n",
       "    </tr>\n",
       "    <tr>\n",
       "      <th>4</th>\n",
       "      <td>CUST000005</td>\n",
       "      <td>60.0</td>\n",
       "      <td>Male</td>\n",
       "      <td>6</td>\n",
       "      <td>East</td>\n",
       "      <td>Credit Card</td>\n",
       "      <td>2</td>\n",
       "      <td>NaN</td>\n",
       "      <td>13.18</td>\n",
       "      <td>65</td>\n",
       "      <td>45.97</td>\n",
       "      <td>0</td>\n",
       "    </tr>\n",
       "    <tr>\n",
       "      <th>...</th>\n",
       "      <td>...</td>\n",
       "      <td>...</td>\n",
       "      <td>...</td>\n",
       "      <td>...</td>\n",
       "      <td>...</td>\n",
       "      <td>...</td>\n",
       "      <td>...</td>\n",
       "      <td>...</td>\n",
       "      <td>...</td>\n",
       "      <td>...</td>\n",
       "      <td>...</td>\n",
       "      <td>...</td>\n",
       "    </tr>\n",
       "    <tr>\n",
       "      <th>4995</th>\n",
       "      <td>CUST004996</td>\n",
       "      <td>24.0</td>\n",
       "      <td>Male</td>\n",
       "      <td>5</td>\n",
       "      <td>East</td>\n",
       "      <td>Debit Card</td>\n",
       "      <td>0</td>\n",
       "      <td>8.0</td>\n",
       "      <td>18.03</td>\n",
       "      <td>121</td>\n",
       "      <td>51.61</td>\n",
       "      <td>0</td>\n",
       "    </tr>\n",
       "    <tr>\n",
       "      <th>4996</th>\n",
       "      <td>CUST004997</td>\n",
       "      <td>66.0</td>\n",
       "      <td>Female</td>\n",
       "      <td>12</td>\n",
       "      <td>East</td>\n",
       "      <td>PayPal</td>\n",
       "      <td>3</td>\n",
       "      <td>5.0</td>\n",
       "      <td>5.84</td>\n",
       "      <td>192</td>\n",
       "      <td>36.32</td>\n",
       "      <td>0</td>\n",
       "    </tr>\n",
       "    <tr>\n",
       "      <th>4997</th>\n",
       "      <td>CUST004998</td>\n",
       "      <td>26.0</td>\n",
       "      <td>Female</td>\n",
       "      <td>1</td>\n",
       "      <td>East</td>\n",
       "      <td>Credit Card</td>\n",
       "      <td>2</td>\n",
       "      <td>8.0</td>\n",
       "      <td>6.76</td>\n",
       "      <td>354</td>\n",
       "      <td>42.07</td>\n",
       "      <td>1</td>\n",
       "    </tr>\n",
       "    <tr>\n",
       "      <th>4998</th>\n",
       "      <td>CUST004999</td>\n",
       "      <td>53.0</td>\n",
       "      <td>Female</td>\n",
       "      <td>44</td>\n",
       "      <td>South</td>\n",
       "      <td>Debit Card</td>\n",
       "      <td>1</td>\n",
       "      <td>10.0</td>\n",
       "      <td>5.95</td>\n",
       "      <td>31</td>\n",
       "      <td>60.09</td>\n",
       "      <td>0</td>\n",
       "    </tr>\n",
       "    <tr>\n",
       "      <th>4999</th>\n",
       "      <td>CUST005000</td>\n",
       "      <td>36.0</td>\n",
       "      <td>Female</td>\n",
       "      <td>22</td>\n",
       "      <td>East</td>\n",
       "      <td>Debit Card</td>\n",
       "      <td>1</td>\n",
       "      <td>8.0</td>\n",
       "      <td>11.36</td>\n",
       "      <td>357</td>\n",
       "      <td>49.48</td>\n",
       "      <td>1</td>\n",
       "    </tr>\n",
       "  </tbody>\n",
       "</table>\n",
       "<p>5000 rows × 12 columns</p>\n",
       "</div>"
      ],
      "text/plain": [
       "     Customer_ID   Age  Gender  Subscription_Length Region Payment_Method  \\\n",
       "0     CUST000001  56.0    Male                   54  South         PayPal   \n",
       "1     CUST000002  69.0  Female                   21   East     Debit Card   \n",
       "2     CUST000003  46.0  Female                   49   East         PayPal   \n",
       "3     CUST000004  32.0    Male                   47   West     Debit Card   \n",
       "4     CUST000005  60.0    Male                    6   East    Credit Card   \n",
       "...          ...   ...     ...                  ...    ...            ...   \n",
       "4995  CUST004996  24.0    Male                    5   East     Debit Card   \n",
       "4996  CUST004997  66.0  Female                   12   East         PayPal   \n",
       "4997  CUST004998  26.0  Female                    1   East    Credit Card   \n",
       "4998  CUST004999  53.0  Female                   44  South     Debit Card   \n",
       "4999  CUST005000  36.0  Female                   22   East     Debit Card   \n",
       "\n",
       "      Support_Tickets_Raised  Satisfaction_Score  Discount_Offered  \\\n",
       "0                          0                 9.0              6.42   \n",
       "1                          1                 2.0             13.77   \n",
       "2                          3                 8.0             19.91   \n",
       "3                          3                 1.0             13.39   \n",
       "4                          2                 NaN             13.18   \n",
       "...                      ...                 ...               ...   \n",
       "4995                       0                 8.0             18.03   \n",
       "4996                       3                 5.0              5.84   \n",
       "4997                       2                 8.0              6.76   \n",
       "4998                       1                10.0              5.95   \n",
       "4999                       1                 8.0             11.36   \n",
       "\n",
       "      Last_Activity  Monthly_Spend  Churned  \n",
       "0               319          62.11        1  \n",
       "1               166          37.27        1  \n",
       "2               207          61.82        0  \n",
       "3               108          40.96        1  \n",
       "4                65          45.97        0  \n",
       "...             ...            ...      ...  \n",
       "4995            121          51.61        0  \n",
       "4996            192          36.32        0  \n",
       "4997            354          42.07        1  \n",
       "4998             31          60.09        0  \n",
       "4999            357          49.48        1  \n",
       "\n",
       "[5000 rows x 12 columns]"
      ]
     },
     "execution_count": 849,
     "metadata": {},
     "output_type": "execute_result"
    }
   ],
   "source": [
    "# Import Data\n",
    "csv_file = './streaming.csv'\n",
    "df = pd.read_csv(csv_file)\n",
    "\n",
    "df"
   ]
  },
  {
   "cell_type": "markdown",
   "id": "1d561bc8",
   "metadata": {},
   "source": [
    "## **C. Eksplorasi Data Sederhana**"
   ]
  },
  {
   "cell_type": "markdown",
   "id": "161de037",
   "metadata": {},
   "source": [
    "### **1. Jumlah Baris dan Kolom Dataset**"
   ]
  },
  {
   "cell_type": "markdown",
   "id": "d102e0a2",
   "metadata": {},
   "source": [
    "Data mentah yang didapatkan dari dataset berjumlah `5.000` baris dan `12` kolom."
   ]
  },
  {
   "cell_type": "code",
   "execution_count": 850,
   "id": "1cc4052a",
   "metadata": {},
   "outputs": [
    {
     "name": "stdout",
     "output_type": "stream",
     "text": [
      "Jumlah Baris: 5000\n",
      "Jumlah Kolom: 12\n"
     ]
    }
   ],
   "source": [
    "print('Jumlah Baris:', df.shape[0])\n",
    "print('Jumlah Kolom:', df.shape[1])"
   ]
  },
  {
   "cell_type": "markdown",
   "id": "a5808efe",
   "metadata": {},
   "source": [
    "### **2. Sampling Data**"
   ]
  },
  {
   "cell_type": "markdown",
   "id": "98250c0d",
   "metadata": {},
   "source": [
    "Untuk melihat sekilas isi data, bisa dilakukan _sampling data_. Berikut adalah sampel `10` baris data pertama."
   ]
  },
  {
   "cell_type": "code",
   "execution_count": 851,
   "id": "908d8b6f",
   "metadata": {},
   "outputs": [
    {
     "data": {
      "text/html": [
       "<div>\n",
       "<style scoped>\n",
       "    .dataframe tbody tr th:only-of-type {\n",
       "        vertical-align: middle;\n",
       "    }\n",
       "\n",
       "    .dataframe tbody tr th {\n",
       "        vertical-align: top;\n",
       "    }\n",
       "\n",
       "    .dataframe thead th {\n",
       "        text-align: right;\n",
       "    }\n",
       "</style>\n",
       "<table border=\"1\" class=\"dataframe\">\n",
       "  <thead>\n",
       "    <tr style=\"text-align: right;\">\n",
       "      <th></th>\n",
       "      <th>Customer_ID</th>\n",
       "      <th>Age</th>\n",
       "      <th>Gender</th>\n",
       "      <th>Subscription_Length</th>\n",
       "      <th>Region</th>\n",
       "      <th>Payment_Method</th>\n",
       "      <th>Support_Tickets_Raised</th>\n",
       "      <th>Satisfaction_Score</th>\n",
       "      <th>Discount_Offered</th>\n",
       "      <th>Last_Activity</th>\n",
       "      <th>Monthly_Spend</th>\n",
       "      <th>Churned</th>\n",
       "    </tr>\n",
       "  </thead>\n",
       "  <tbody>\n",
       "    <tr>\n",
       "      <th>0</th>\n",
       "      <td>CUST000001</td>\n",
       "      <td>56.0</td>\n",
       "      <td>Male</td>\n",
       "      <td>54</td>\n",
       "      <td>South</td>\n",
       "      <td>PayPal</td>\n",
       "      <td>0</td>\n",
       "      <td>9.0</td>\n",
       "      <td>6.42</td>\n",
       "      <td>319</td>\n",
       "      <td>62.11</td>\n",
       "      <td>1</td>\n",
       "    </tr>\n",
       "    <tr>\n",
       "      <th>1</th>\n",
       "      <td>CUST000002</td>\n",
       "      <td>69.0</td>\n",
       "      <td>Female</td>\n",
       "      <td>21</td>\n",
       "      <td>East</td>\n",
       "      <td>Debit Card</td>\n",
       "      <td>1</td>\n",
       "      <td>2.0</td>\n",
       "      <td>13.77</td>\n",
       "      <td>166</td>\n",
       "      <td>37.27</td>\n",
       "      <td>1</td>\n",
       "    </tr>\n",
       "    <tr>\n",
       "      <th>2</th>\n",
       "      <td>CUST000003</td>\n",
       "      <td>46.0</td>\n",
       "      <td>Female</td>\n",
       "      <td>49</td>\n",
       "      <td>East</td>\n",
       "      <td>PayPal</td>\n",
       "      <td>3</td>\n",
       "      <td>8.0</td>\n",
       "      <td>19.91</td>\n",
       "      <td>207</td>\n",
       "      <td>61.82</td>\n",
       "      <td>0</td>\n",
       "    </tr>\n",
       "    <tr>\n",
       "      <th>3</th>\n",
       "      <td>CUST000004</td>\n",
       "      <td>32.0</td>\n",
       "      <td>Male</td>\n",
       "      <td>47</td>\n",
       "      <td>West</td>\n",
       "      <td>Debit Card</td>\n",
       "      <td>3</td>\n",
       "      <td>1.0</td>\n",
       "      <td>13.39</td>\n",
       "      <td>108</td>\n",
       "      <td>40.96</td>\n",
       "      <td>1</td>\n",
       "    </tr>\n",
       "    <tr>\n",
       "      <th>4</th>\n",
       "      <td>CUST000005</td>\n",
       "      <td>60.0</td>\n",
       "      <td>Male</td>\n",
       "      <td>6</td>\n",
       "      <td>East</td>\n",
       "      <td>Credit Card</td>\n",
       "      <td>2</td>\n",
       "      <td>NaN</td>\n",
       "      <td>13.18</td>\n",
       "      <td>65</td>\n",
       "      <td>45.97</td>\n",
       "      <td>0</td>\n",
       "    </tr>\n",
       "    <tr>\n",
       "      <th>5</th>\n",
       "      <td>CUST000006</td>\n",
       "      <td>25.0</td>\n",
       "      <td>Female</td>\n",
       "      <td>48</td>\n",
       "      <td>East</td>\n",
       "      <td>PayPal</td>\n",
       "      <td>2</td>\n",
       "      <td>NaN</td>\n",
       "      <td>5.60</td>\n",
       "      <td>267</td>\n",
       "      <td>43.48</td>\n",
       "      <td>1</td>\n",
       "    </tr>\n",
       "    <tr>\n",
       "      <th>6</th>\n",
       "      <td>CUST000007</td>\n",
       "      <td>38.0</td>\n",
       "      <td>Female</td>\n",
       "      <td>49</td>\n",
       "      <td>East</td>\n",
       "      <td>Debit Card</td>\n",
       "      <td>2</td>\n",
       "      <td>5.0</td>\n",
       "      <td>7.09</td>\n",
       "      <td>353</td>\n",
       "      <td>48.90</td>\n",
       "      <td>1</td>\n",
       "    </tr>\n",
       "    <tr>\n",
       "      <th>7</th>\n",
       "      <td>CUST000008</td>\n",
       "      <td>56.0</td>\n",
       "      <td>Female</td>\n",
       "      <td>3</td>\n",
       "      <td>East</td>\n",
       "      <td>Credit Card</td>\n",
       "      <td>0</td>\n",
       "      <td>1.0</td>\n",
       "      <td>12.70</td>\n",
       "      <td>185</td>\n",
       "      <td>29.09</td>\n",
       "      <td>1</td>\n",
       "    </tr>\n",
       "    <tr>\n",
       "      <th>8</th>\n",
       "      <td>CUST000009</td>\n",
       "      <td>36.0</td>\n",
       "      <td>Female</td>\n",
       "      <td>10</td>\n",
       "      <td>South</td>\n",
       "      <td>PayPal</td>\n",
       "      <td>3</td>\n",
       "      <td>1.0</td>\n",
       "      <td>19.78</td>\n",
       "      <td>224</td>\n",
       "      <td>31.56</td>\n",
       "      <td>1</td>\n",
       "    </tr>\n",
       "    <tr>\n",
       "      <th>9</th>\n",
       "      <td>CUST000010</td>\n",
       "      <td>NaN</td>\n",
       "      <td>Female</td>\n",
       "      <td>5</td>\n",
       "      <td>East</td>\n",
       "      <td>PayPal</td>\n",
       "      <td>2</td>\n",
       "      <td>6.0</td>\n",
       "      <td>18.15</td>\n",
       "      <td>153</td>\n",
       "      <td>43.79</td>\n",
       "      <td>0</td>\n",
       "    </tr>\n",
       "  </tbody>\n",
       "</table>\n",
       "</div>"
      ],
      "text/plain": [
       "  Customer_ID   Age  Gender  Subscription_Length Region Payment_Method  \\\n",
       "0  CUST000001  56.0    Male                   54  South         PayPal   \n",
       "1  CUST000002  69.0  Female                   21   East     Debit Card   \n",
       "2  CUST000003  46.0  Female                   49   East         PayPal   \n",
       "3  CUST000004  32.0    Male                   47   West     Debit Card   \n",
       "4  CUST000005  60.0    Male                    6   East    Credit Card   \n",
       "5  CUST000006  25.0  Female                   48   East         PayPal   \n",
       "6  CUST000007  38.0  Female                   49   East     Debit Card   \n",
       "7  CUST000008  56.0  Female                    3   East    Credit Card   \n",
       "8  CUST000009  36.0  Female                   10  South         PayPal   \n",
       "9  CUST000010   NaN  Female                    5   East         PayPal   \n",
       "\n",
       "   Support_Tickets_Raised  Satisfaction_Score  Discount_Offered  \\\n",
       "0                       0                 9.0              6.42   \n",
       "1                       1                 2.0             13.77   \n",
       "2                       3                 8.0             19.91   \n",
       "3                       3                 1.0             13.39   \n",
       "4                       2                 NaN             13.18   \n",
       "5                       2                 NaN              5.60   \n",
       "6                       2                 5.0              7.09   \n",
       "7                       0                 1.0             12.70   \n",
       "8                       3                 1.0             19.78   \n",
       "9                       2                 6.0             18.15   \n",
       "\n",
       "   Last_Activity  Monthly_Spend  Churned  \n",
       "0            319          62.11        1  \n",
       "1            166          37.27        1  \n",
       "2            207          61.82        0  \n",
       "3            108          40.96        1  \n",
       "4             65          45.97        0  \n",
       "5            267          43.48        1  \n",
       "6            353          48.90        1  \n",
       "7            185          29.09        1  \n",
       "8            224          31.56        1  \n",
       "9            153          43.79        0  "
      ]
     },
     "execution_count": 851,
     "metadata": {},
     "output_type": "execute_result"
    }
   ],
   "source": [
    "df.head(10)"
   ]
  },
  {
   "cell_type": "markdown",
   "id": "d6be8509",
   "metadata": {},
   "source": [
    "### **3. Deskripsi Kolom**"
   ]
  },
  {
   "cell_type": "markdown",
   "id": "b04f4fc9",
   "metadata": {},
   "source": [
    "Berdasarkan kode berikut terdapat `12` kolom pada data, yaitu:\n",
    "\n",
    "| No. | Kolom | Jenis Data | Kosong? | Deskripsi |\n",
    "| - | - | - | - | - |\n",
    "| 1 | `Customer_ID` | Kategorikal | - | ID customer dengan menggunakan pengkodean dalam format tertentu. |\n",
    "| 2 | `Age` | Numerik Desimal | `500` | Umur customer dalam bentuk desimal. |\n",
    "| 3 | `Gender` | Kategorikal | - | Jenis kelamin customer. |\n",
    "| 4 | `Subscription_Length` | Numerik Diskrit | - | Berapa lama customer telah melakukan _subscribe_ (dalam satuan bulan). |\n",
    "| 5 | `Region` | Kategorikal | - | Wilayah asal customer. |\n",
    "| 6 | `Payment_Method` | Kategorikal | - | Metode pembayaran customer. |\n",
    "| 7 | `Support_Tickets_Raised` | Numerik Diskrit | - | Jumlah tiket bantuan yang telah diajukan oleh customer. |\n",
    "| 8 | `Satisfaction_Score` | Ordinal | `500` | Nilai kepuasan customer (1 = tidak puas dan 10 = sangat puas). |\n",
    "| 9 | `Discount_Offered` | Numerik Desimal | - | Diskon yang telah ditawarkan ke customer (satuan dalam dolar). |\n",
    "| 10 | `Last_Activity` | Numerik Diskrit | - | Berapa lama customer tidak mengunjungi streaming service dalam hitungan hari. |\n",
    "| 11 | `Monthly_Spend` | Numerik Desimal | - | Jumlah pengeluaran customer pada streaming service (satuan dalam dolar). |\n",
    "| 12 | `Churned` | Kategorikal | - | Apakah customer sudah tidak mengikuti streaming. `1` untuk tidak mengikuti dan `0` bila masih mengikuti |\n"
   ]
  },
  {
   "cell_type": "code",
   "execution_count": 852,
   "id": "3eb7b7d5",
   "metadata": {},
   "outputs": [
    {
     "name": "stdout",
     "output_type": "stream",
     "text": [
      "<class 'pandas.core.frame.DataFrame'>\n",
      "RangeIndex: 5000 entries, 0 to 4999\n",
      "Data columns (total 12 columns):\n",
      " #   Column                  Non-Null Count  Dtype  \n",
      "---  ------                  --------------  -----  \n",
      " 0   Customer_ID             5000 non-null   object \n",
      " 1   Age                     4500 non-null   float64\n",
      " 2   Gender                  5000 non-null   object \n",
      " 3   Subscription_Length     5000 non-null   int64  \n",
      " 4   Region                  5000 non-null   object \n",
      " 5   Payment_Method          5000 non-null   object \n",
      " 6   Support_Tickets_Raised  5000 non-null   int64  \n",
      " 7   Satisfaction_Score      4500 non-null   float64\n",
      " 8   Discount_Offered        5000 non-null   float64\n",
      " 9   Last_Activity           5000 non-null   int64  \n",
      " 10  Monthly_Spend           5000 non-null   float64\n",
      " 11  Churned                 5000 non-null   int64  \n",
      "dtypes: float64(4), int64(4), object(4)\n",
      "memory usage: 468.9+ KB\n"
     ]
    }
   ],
   "source": [
    "df.info()"
   ]
  },
  {
   "cell_type": "markdown",
   "id": "18f0352c",
   "metadata": {},
   "source": [
    "### **4. Deskripsi Kolom Kategorikal**"
   ]
  },
  {
   "cell_type": "markdown",
   "id": "38b45607",
   "metadata": {},
   "source": [
    "#### **a. Kolom `Customer_ID`**"
   ]
  },
  {
   "cell_type": "markdown",
   "id": "33d0a457",
   "metadata": {},
   "source": [
    "Kolom `Customer_ID` berisi data ID customer. Karena setiap baris data dalam tabel merepresentasikan satu customer yang _unique_, maka seharusnya kolom ini adalah kolom dengan nilai _unique_ yang bisa digunakan sebagai _index_ atau _key_ dalam identifikasi baris data.\n",
    "\n",
    "Dari kode berikut, terlihat bahwa jumlah nilai _unique_ pada kolom `Customer_ID` yaitu sebanyak `5.000`. Jumlah ini sama dengan jumlah total baris pada tabel, yang artinya kolom ini bisa dijadikan sebagai _index_ tabel pada tahap _Data Cleaning_. Selain itu ini juga menunjukkan bahwa semua data customer sudah _unique_ dan tidak terjadi duplikasi data."
   ]
  },
  {
   "cell_type": "code",
   "execution_count": 853,
   "id": "51e9dfc5",
   "metadata": {},
   "outputs": [
    {
     "name": "stdout",
     "output_type": "stream",
     "text": [
      "Nilai unique pada kolom [Customer_ID] : 5000\n"
     ]
    }
   ],
   "source": [
    "print('Nilai unique pada kolom [Customer_ID] :', df['Customer_ID'].nunique())"
   ]
  },
  {
   "cell_type": "markdown",
   "id": "f2461538",
   "metadata": {},
   "source": [
    "#### **b. Kolom `Gender`**"
   ]
  },
  {
   "cell_type": "markdown",
   "id": "96ac57af",
   "metadata": {},
   "source": [
    "Kolom `Gender` berisi data jenis kelamin customer.\n",
    "\n",
    "Dari kode berikut, terlihat bahwa ada `2` nilai _unique_ pada kolom `Gender`."
   ]
  },
  {
   "cell_type": "code",
   "execution_count": 854,
   "id": "cd159bb0",
   "metadata": {},
   "outputs": [
    {
     "name": "stdout",
     "output_type": "stream",
     "text": [
      "Nilai unique pada kolom [Gender] : 2\n"
     ]
    }
   ],
   "source": [
    "print('Nilai unique pada kolom [Gender] :', df['Gender'].nunique())"
   ]
  },
  {
   "cell_type": "markdown",
   "id": "2ef638c8",
   "metadata": {},
   "source": [
    "Karena nilai _unique_ hanya ada `2`, bisa ditampilkan daftar nilai _unique_ pada kolom `Gender`, yaitu `Male` dan `Female` seperti berikut:"
   ]
  },
  {
   "cell_type": "code",
   "execution_count": 855,
   "id": "501fffb8",
   "metadata": {},
   "outputs": [
    {
     "name": "stdout",
     "output_type": "stream",
     "text": [
      "Daftar nilai unique pada kolom Gender\n",
      "Female    2514\n",
      "Male      2486\n",
      "Name: count, dtype: int64\n"
     ]
    }
   ],
   "source": [
    "print('Daftar nilai unique pada kolom', df['Gender'].value_counts())"
   ]
  },
  {
   "cell_type": "markdown",
   "id": "e3e377c3",
   "metadata": {},
   "source": [
    "#### **c. Kolom `Region`**"
   ]
  },
  {
   "cell_type": "markdown",
   "id": "40eff85c",
   "metadata": {},
   "source": [
    "Kolom `Region` berisi data wilayah asal customer.\n",
    "\n",
    "Dari kode berikut, terlihat bahwa ada `4` nilai _unique_ pada kolom `Region`."
   ]
  },
  {
   "cell_type": "code",
   "execution_count": 856,
   "id": "29fa5df4",
   "metadata": {},
   "outputs": [
    {
     "name": "stdout",
     "output_type": "stream",
     "text": [
      "Nilai unique pada kolom [Region] : 4\n"
     ]
    }
   ],
   "source": [
    "print('Nilai unique pada kolom [Region] :', df['Region'].nunique())"
   ]
  },
  {
   "cell_type": "markdown",
   "id": "efbaa96d",
   "metadata": {},
   "source": [
    "Karena nilai _unique_ hanya ada `4`, bisa ditampilkan daftar nilai _unique_ pada kolom `Region`, yaitu `North`, `South`, `East` dan `West` seperti berikut:"
   ]
  },
  {
   "cell_type": "code",
   "execution_count": 857,
   "id": "62c1b736",
   "metadata": {},
   "outputs": [
    {
     "name": "stdout",
     "output_type": "stream",
     "text": [
      "Daftar nilai unique pada kolom Region\n",
      "West     1316\n",
      "North    1243\n",
      "South    1239\n",
      "East     1202\n",
      "Name: count, dtype: int64\n"
     ]
    }
   ],
   "source": [
    "print('Daftar nilai unique pada kolom', df['Region'].value_counts())"
   ]
  },
  {
   "cell_type": "markdown",
   "id": "883c7074",
   "metadata": {},
   "source": [
    "#### **d. Kolom `Payment_Method`**"
   ]
  },
  {
   "cell_type": "markdown",
   "id": "0066adc0",
   "metadata": {},
   "source": [
    "Kolom `Payment_Method` berisi data jenis metode pembayaran customer.\n",
    "\n",
    "Dari kode berikut, terlihat bahwa ada `3` nilai _unique_ pada kolom `Payment_Method`."
   ]
  },
  {
   "cell_type": "code",
   "execution_count": 858,
   "id": "1667fb9f",
   "metadata": {},
   "outputs": [
    {
     "name": "stdout",
     "output_type": "stream",
     "text": [
      "Nilai unique pada kolom [Payment_Method] : 3\n"
     ]
    }
   ],
   "source": [
    "print('Nilai unique pada kolom [Payment_Method] :', df['Payment_Method'].nunique())"
   ]
  },
  {
   "cell_type": "markdown",
   "id": "cdb8685a",
   "metadata": {},
   "source": [
    "Karena nilai _unique_ hanya ada `3`, bisa ditampilkan daftar nilai _unique_ pada kolom `Payment_Method`, yaitu `Debit Card`, `Paypal` dan `Credit Card` seperti berikut:"
   ]
  },
  {
   "cell_type": "code",
   "execution_count": 859,
   "id": "025130c0",
   "metadata": {},
   "outputs": [
    {
     "name": "stdout",
     "output_type": "stream",
     "text": [
      "Daftar nilai unique pada kolom Payment_Method\n",
      "Debit Card     1697\n",
      "PayPal         1673\n",
      "Credit Card    1630\n",
      "Name: count, dtype: int64\n"
     ]
    }
   ],
   "source": [
    "print('Daftar nilai unique pada kolom', df['Payment_Method'].value_counts())"
   ]
  },
  {
   "cell_type": "markdown",
   "id": "215eb6c2",
   "metadata": {},
   "source": [
    "#### **e. Kolom `Churned`**"
   ]
  },
  {
   "cell_type": "markdown",
   "id": "6e6c5b2c",
   "metadata": {},
   "source": [
    "Kolom `Churned` berisi data apakah customer sudah tidak mengikuti streaming. Kolom ini berbentuk numerik bilangan bulat, namun sebenarnya isi data adalah berupa kategorikal _boolean_. Nilai kebenaran _boolean_ disimbolkan dengan angka `1` untuk benar dan `0` untuk tidak benar.\n",
    "\n",
    "Dari kode berikut, terlihat bahwa ada `2` nilai _unique_ pada kolom `Churned`."
   ]
  },
  {
   "cell_type": "code",
   "execution_count": 860,
   "id": "2b0bb96f",
   "metadata": {},
   "outputs": [
    {
     "name": "stdout",
     "output_type": "stream",
     "text": [
      "Nilai unique pada kolom [Churned] : 2\n"
     ]
    }
   ],
   "source": [
    "print('Nilai unique pada kolom [Churned] :', df['Churned'].nunique())"
   ]
  },
  {
   "cell_type": "markdown",
   "id": "217ede0b",
   "metadata": {},
   "source": [
    "Karena nilai _unique_ hanya ada `2`, bisa ditampilkan daftar nilai _unique_ pada kolom `Churned`, yaitu `1` untuk sudah tidak mengikuti streaming dan `0` untuk masih mengikuti streaming, seperti berikut:"
   ]
  },
  {
   "cell_type": "code",
   "execution_count": 861,
   "id": "a216f360",
   "metadata": {},
   "outputs": [
    {
     "name": "stdout",
     "output_type": "stream",
     "text": [
      "Daftar nilai unique pada kolom Churned\n",
      "0    2760\n",
      "1    2240\n",
      "Name: count, dtype: int64\n"
     ]
    }
   ],
   "source": [
    "print('Daftar nilai unique pada kolom', df['Churned'].value_counts())"
   ]
  },
  {
   "cell_type": "markdown",
   "id": "4da864e4",
   "metadata": {},
   "source": [
    "#### **f. Kolom `Age`**"
   ]
  },
  {
   "cell_type": "markdown",
   "id": "65a48069",
   "metadata": {},
   "source": [
    "Kolom `Age` berisi data umur customer. Meskipun data ini adalah data numerik, namun sebagai kebutuhan analisis demografi maka dibutuhkan pengelompokkan data berdasarkan umur. Pengelompokkan dilakukan dengan rentang `10` tahun, seperti `0-10`, `11-20` dan seterusnya.\n",
    "\n",
    "Untuk bisa menentukan daftar kelompok umur maka akan dilihat batas bawah (_minimum_) dan batas atas (_maksimum_) dari kolom `Age`. Dari kode berikut terlihat bahwa batas bawah usia adalah `18` dan batas atas usia adalah `69`. Maka dari itu saya menentukan kelompok usia sebagai berikut:\n",
    "  1. `15-24`\n",
    "  2. `25-34`\n",
    "  3. `35-44`\n",
    "  4. `45-54`\n",
    "  5. `55-64`\n",
    "  6. `65-74`\n"
   ]
  },
  {
   "cell_type": "code",
   "execution_count": 862,
   "id": "9bb14486",
   "metadata": {},
   "outputs": [
    {
     "name": "stdout",
     "output_type": "stream",
     "text": [
      "[MAX] Batas Atas Kolom Age  : 69.0\n",
      "[MIN] Batas Bawah Kolom Age : 18.0\n"
     ]
    }
   ],
   "source": [
    "print('[MAX] Batas Atas Kolom Age  :', df['Age'].max())\n",
    "print('[MIN] Batas Bawah Kolom Age :', df['Age'].min())"
   ]
  },
  {
   "cell_type": "markdown",
   "id": "4af17607",
   "metadata": {},
   "source": [
    "#### **g. Kolom `Satisfaction_Score`**"
   ]
  },
  {
   "cell_type": "markdown",
   "id": "95420bc7",
   "metadata": {},
   "source": [
    "Kolom `Satisfaction_Score` berisi data nilai kepuasan customer yang berupa data ordinal berbentuk numerik.\n",
    "\n",
    "Dari kode berikut, terlihat bahwa ada `10` nilai _unique_ pada kolom `Satisfaction_Score`."
   ]
  },
  {
   "cell_type": "code",
   "execution_count": 863,
   "id": "9bc08804",
   "metadata": {},
   "outputs": [
    {
     "name": "stdout",
     "output_type": "stream",
     "text": [
      "Nilai unique pada kolom [Satisfaction_Score] : 10\n"
     ]
    }
   ],
   "source": [
    "print('Nilai unique pada kolom [Satisfaction_Score] :', df['Satisfaction_Score'].nunique())"
   ]
  },
  {
   "cell_type": "markdown",
   "id": "5ab06dfc",
   "metadata": {},
   "source": [
    "Karena nilai _unique_ hanya ada `10`, bisa ditampilkan daftar nilai _unique_ pada kolom `Satisfaction_Score` seperti berikut:"
   ]
  },
  {
   "cell_type": "code",
   "execution_count": 864,
   "id": "8f00281a",
   "metadata": {},
   "outputs": [
    {
     "name": "stdout",
     "output_type": "stream",
     "text": [
      "Daftar nilai unique pada kolom Satisfaction_Score\n",
      "1.0     450\n",
      "2.0     439\n",
      "3.0     407\n",
      "4.0     469\n",
      "5.0     436\n",
      "6.0     477\n",
      "7.0     463\n",
      "8.0     449\n",
      "9.0     443\n",
      "10.0    467\n",
      "NaN     500\n",
      "Name: count, dtype: int64\n"
     ]
    }
   ],
   "source": [
    "print('Daftar nilai unique pada kolom', df['Satisfaction_Score'].value_counts(dropna=False).sort_index())"
   ]
  },
  {
   "cell_type": "markdown",
   "id": "0742f9fe",
   "metadata": {},
   "source": [
    "## **D. Kesimpulan Data Loading untuk Data Cleaning**"
   ]
  },
  {
   "cell_type": "markdown",
   "id": "8f9a6964",
   "metadata": {},
   "source": [
    "Berdasarkan tahapan pada _Data Loading_, berikut kesimpulan yang dapat diambil:\n",
    "  1. Kolom `Customer_ID` akan dijadikan sebagai _index_ tabel.\n",
    "  2. Semua kolom kecuali kolom `Churned` sudah menggunakan tipe data yang tepat. Untuk itu **data pada kolom `Churned` akan diubah menjadi tipe data _boolean_** berupa _True_/_False_ agar data dapat direpresentasikan dengan lebih jelas.\n",
    "  3. Kolom `Region` berisi data wilayah asal customer yang nilainya berupa kategori berdasarkan arah mata angin. Kategori wilayah asal customer yang didasarkan pada arah mata angin kurang akurat dan kurang spesifik, sehingga **kolom `Region` akan dihapus karena kurang relevan**.\n",
    "  4. Kolom `Discount_Offered` dan `Monthly_Spend` sudah berupa bilangan desimal, tapi masih dalam satuan mata uang USD. Agar data lebih relevan, maka **data pada kolom `Discount_Offered` dan kolom `Monthly_Spend` akan dikonversi dari mata uang USD menjadi rupiah IDR. Nilai tukar USD ke  IDR akan ditetapkan menjadi `16.864` (per tanggal `22 April 2025`)**. Ada bagian kode opsional untuk mengambil nilai tukar dari API internet.\n",
    "  5. Penambahan kolom baru `Age_Group` untuk mengelompokkan kolom `Age`, terbagi menjadi `6` kelompok:\n",
    "     1. `15-24`\n",
    "     2. `25-34`\n",
    "     3. `35-44`\n",
    "     4. `45-54`\n",
    "     5. `55-64`\n",
    "     6. `65-74`\n",
    "  6. Mengubah isi kolom `Gender` ke Bahasa Indonesia:\n",
    "     - `Male` => `Laki-laki`\n",
    "     - `Female` => `Perempuan`\n",
    "  7. Terdapat dua kolom yang memiliki data kosong, yaitu kolom `Gender` dan kolom `Satisfaction_Score`. Kedua kolom ini tidak merepresentasikan data yang secara signifikan bisa mempengaruhi integritas data, untuk itu **data kosong pada kolom `Gender` dan kolom `Satisfaction_Score` tidak diproses lebih lanjut, dan baris data juga tidak dieliminasi**.\n",
    "  \n"
   ]
  },
  {
   "cell_type": "markdown",
   "id": "1d379f0a",
   "metadata": {},
   "source": [
    "---"
   ]
  },
  {
   "cell_type": "markdown",
   "id": "d75f36b0",
   "metadata": {},
   "source": [
    "# **IV. Data Cleaning**"
   ]
  },
  {
   "cell_type": "markdown",
   "id": "b3a40c1b",
   "metadata": {},
   "source": [
    "## **A. Proses Data Cleaning**"
   ]
  },
  {
   "cell_type": "markdown",
   "id": "ca0dc19b",
   "metadata": {},
   "source": [
    "### **1. Kolom `Customer_ID` Sebagai Index Tabel**"
   ]
  },
  {
   "cell_type": "code",
   "execution_count": 865,
   "id": "fdfc51c4",
   "metadata": {},
   "outputs": [
    {
     "data": {
      "text/html": [
       "<div>\n",
       "<style scoped>\n",
       "    .dataframe tbody tr th:only-of-type {\n",
       "        vertical-align: middle;\n",
       "    }\n",
       "\n",
       "    .dataframe tbody tr th {\n",
       "        vertical-align: top;\n",
       "    }\n",
       "\n",
       "    .dataframe thead th {\n",
       "        text-align: right;\n",
       "    }\n",
       "</style>\n",
       "<table border=\"1\" class=\"dataframe\">\n",
       "  <thead>\n",
       "    <tr style=\"text-align: right;\">\n",
       "      <th></th>\n",
       "      <th>Age</th>\n",
       "      <th>Gender</th>\n",
       "      <th>Subscription_Length</th>\n",
       "      <th>Region</th>\n",
       "      <th>Payment_Method</th>\n",
       "      <th>Support_Tickets_Raised</th>\n",
       "      <th>Satisfaction_Score</th>\n",
       "      <th>Discount_Offered</th>\n",
       "      <th>Last_Activity</th>\n",
       "      <th>Monthly_Spend</th>\n",
       "      <th>Churned</th>\n",
       "    </tr>\n",
       "    <tr>\n",
       "      <th>Customer_ID</th>\n",
       "      <th></th>\n",
       "      <th></th>\n",
       "      <th></th>\n",
       "      <th></th>\n",
       "      <th></th>\n",
       "      <th></th>\n",
       "      <th></th>\n",
       "      <th></th>\n",
       "      <th></th>\n",
       "      <th></th>\n",
       "      <th></th>\n",
       "    </tr>\n",
       "  </thead>\n",
       "  <tbody>\n",
       "    <tr>\n",
       "      <th>CUST000001</th>\n",
       "      <td>56.0</td>\n",
       "      <td>Male</td>\n",
       "      <td>54</td>\n",
       "      <td>South</td>\n",
       "      <td>PayPal</td>\n",
       "      <td>0</td>\n",
       "      <td>9.0</td>\n",
       "      <td>6.42</td>\n",
       "      <td>319</td>\n",
       "      <td>62.11</td>\n",
       "      <td>1</td>\n",
       "    </tr>\n",
       "    <tr>\n",
       "      <th>CUST000002</th>\n",
       "      <td>69.0</td>\n",
       "      <td>Female</td>\n",
       "      <td>21</td>\n",
       "      <td>East</td>\n",
       "      <td>Debit Card</td>\n",
       "      <td>1</td>\n",
       "      <td>2.0</td>\n",
       "      <td>13.77</td>\n",
       "      <td>166</td>\n",
       "      <td>37.27</td>\n",
       "      <td>1</td>\n",
       "    </tr>\n",
       "    <tr>\n",
       "      <th>CUST000003</th>\n",
       "      <td>46.0</td>\n",
       "      <td>Female</td>\n",
       "      <td>49</td>\n",
       "      <td>East</td>\n",
       "      <td>PayPal</td>\n",
       "      <td>3</td>\n",
       "      <td>8.0</td>\n",
       "      <td>19.91</td>\n",
       "      <td>207</td>\n",
       "      <td>61.82</td>\n",
       "      <td>0</td>\n",
       "    </tr>\n",
       "    <tr>\n",
       "      <th>CUST000004</th>\n",
       "      <td>32.0</td>\n",
       "      <td>Male</td>\n",
       "      <td>47</td>\n",
       "      <td>West</td>\n",
       "      <td>Debit Card</td>\n",
       "      <td>3</td>\n",
       "      <td>1.0</td>\n",
       "      <td>13.39</td>\n",
       "      <td>108</td>\n",
       "      <td>40.96</td>\n",
       "      <td>1</td>\n",
       "    </tr>\n",
       "    <tr>\n",
       "      <th>CUST000005</th>\n",
       "      <td>60.0</td>\n",
       "      <td>Male</td>\n",
       "      <td>6</td>\n",
       "      <td>East</td>\n",
       "      <td>Credit Card</td>\n",
       "      <td>2</td>\n",
       "      <td>NaN</td>\n",
       "      <td>13.18</td>\n",
       "      <td>65</td>\n",
       "      <td>45.97</td>\n",
       "      <td>0</td>\n",
       "    </tr>\n",
       "    <tr>\n",
       "      <th>...</th>\n",
       "      <td>...</td>\n",
       "      <td>...</td>\n",
       "      <td>...</td>\n",
       "      <td>...</td>\n",
       "      <td>...</td>\n",
       "      <td>...</td>\n",
       "      <td>...</td>\n",
       "      <td>...</td>\n",
       "      <td>...</td>\n",
       "      <td>...</td>\n",
       "      <td>...</td>\n",
       "    </tr>\n",
       "    <tr>\n",
       "      <th>CUST004996</th>\n",
       "      <td>24.0</td>\n",
       "      <td>Male</td>\n",
       "      <td>5</td>\n",
       "      <td>East</td>\n",
       "      <td>Debit Card</td>\n",
       "      <td>0</td>\n",
       "      <td>8.0</td>\n",
       "      <td>18.03</td>\n",
       "      <td>121</td>\n",
       "      <td>51.61</td>\n",
       "      <td>0</td>\n",
       "    </tr>\n",
       "    <tr>\n",
       "      <th>CUST004997</th>\n",
       "      <td>66.0</td>\n",
       "      <td>Female</td>\n",
       "      <td>12</td>\n",
       "      <td>East</td>\n",
       "      <td>PayPal</td>\n",
       "      <td>3</td>\n",
       "      <td>5.0</td>\n",
       "      <td>5.84</td>\n",
       "      <td>192</td>\n",
       "      <td>36.32</td>\n",
       "      <td>0</td>\n",
       "    </tr>\n",
       "    <tr>\n",
       "      <th>CUST004998</th>\n",
       "      <td>26.0</td>\n",
       "      <td>Female</td>\n",
       "      <td>1</td>\n",
       "      <td>East</td>\n",
       "      <td>Credit Card</td>\n",
       "      <td>2</td>\n",
       "      <td>8.0</td>\n",
       "      <td>6.76</td>\n",
       "      <td>354</td>\n",
       "      <td>42.07</td>\n",
       "      <td>1</td>\n",
       "    </tr>\n",
       "    <tr>\n",
       "      <th>CUST004999</th>\n",
       "      <td>53.0</td>\n",
       "      <td>Female</td>\n",
       "      <td>44</td>\n",
       "      <td>South</td>\n",
       "      <td>Debit Card</td>\n",
       "      <td>1</td>\n",
       "      <td>10.0</td>\n",
       "      <td>5.95</td>\n",
       "      <td>31</td>\n",
       "      <td>60.09</td>\n",
       "      <td>0</td>\n",
       "    </tr>\n",
       "    <tr>\n",
       "      <th>CUST005000</th>\n",
       "      <td>36.0</td>\n",
       "      <td>Female</td>\n",
       "      <td>22</td>\n",
       "      <td>East</td>\n",
       "      <td>Debit Card</td>\n",
       "      <td>1</td>\n",
       "      <td>8.0</td>\n",
       "      <td>11.36</td>\n",
       "      <td>357</td>\n",
       "      <td>49.48</td>\n",
       "      <td>1</td>\n",
       "    </tr>\n",
       "  </tbody>\n",
       "</table>\n",
       "<p>5000 rows × 11 columns</p>\n",
       "</div>"
      ],
      "text/plain": [
       "              Age  Gender  Subscription_Length Region Payment_Method  \\\n",
       "Customer_ID                                                            \n",
       "CUST000001   56.0    Male                   54  South         PayPal   \n",
       "CUST000002   69.0  Female                   21   East     Debit Card   \n",
       "CUST000003   46.0  Female                   49   East         PayPal   \n",
       "CUST000004   32.0    Male                   47   West     Debit Card   \n",
       "CUST000005   60.0    Male                    6   East    Credit Card   \n",
       "...           ...     ...                  ...    ...            ...   \n",
       "CUST004996   24.0    Male                    5   East     Debit Card   \n",
       "CUST004997   66.0  Female                   12   East         PayPal   \n",
       "CUST004998   26.0  Female                    1   East    Credit Card   \n",
       "CUST004999   53.0  Female                   44  South     Debit Card   \n",
       "CUST005000   36.0  Female                   22   East     Debit Card   \n",
       "\n",
       "             Support_Tickets_Raised  Satisfaction_Score  Discount_Offered  \\\n",
       "Customer_ID                                                                 \n",
       "CUST000001                        0                 9.0              6.42   \n",
       "CUST000002                        1                 2.0             13.77   \n",
       "CUST000003                        3                 8.0             19.91   \n",
       "CUST000004                        3                 1.0             13.39   \n",
       "CUST000005                        2                 NaN             13.18   \n",
       "...                             ...                 ...               ...   \n",
       "CUST004996                        0                 8.0             18.03   \n",
       "CUST004997                        3                 5.0              5.84   \n",
       "CUST004998                        2                 8.0              6.76   \n",
       "CUST004999                        1                10.0              5.95   \n",
       "CUST005000                        1                 8.0             11.36   \n",
       "\n",
       "             Last_Activity  Monthly_Spend  Churned  \n",
       "Customer_ID                                         \n",
       "CUST000001             319          62.11        1  \n",
       "CUST000002             166          37.27        1  \n",
       "CUST000003             207          61.82        0  \n",
       "CUST000004             108          40.96        1  \n",
       "CUST000005              65          45.97        0  \n",
       "...                    ...            ...      ...  \n",
       "CUST004996             121          51.61        0  \n",
       "CUST004997             192          36.32        0  \n",
       "CUST004998             354          42.07        1  \n",
       "CUST004999              31          60.09        0  \n",
       "CUST005000             357          49.48        1  \n",
       "\n",
       "[5000 rows x 11 columns]"
      ]
     },
     "execution_count": 865,
     "metadata": {},
     "output_type": "execute_result"
    }
   ],
   "source": [
    "df_1 = df.set_index('Customer_ID')\n",
    "\n",
    "df_1"
   ]
  },
  {
   "cell_type": "markdown",
   "id": "5cebe15b",
   "metadata": {},
   "source": [
    "### **2. Tipe Data Kolom `Churned` Menjadi _Boolean_**"
   ]
  },
  {
   "cell_type": "code",
   "execution_count": 866,
   "id": "e8e06cc9",
   "metadata": {},
   "outputs": [
    {
     "data": {
      "text/html": [
       "<div>\n",
       "<style scoped>\n",
       "    .dataframe tbody tr th:only-of-type {\n",
       "        vertical-align: middle;\n",
       "    }\n",
       "\n",
       "    .dataframe tbody tr th {\n",
       "        vertical-align: top;\n",
       "    }\n",
       "\n",
       "    .dataframe thead th {\n",
       "        text-align: right;\n",
       "    }\n",
       "</style>\n",
       "<table border=\"1\" class=\"dataframe\">\n",
       "  <thead>\n",
       "    <tr style=\"text-align: right;\">\n",
       "      <th></th>\n",
       "      <th>Churned</th>\n",
       "    </tr>\n",
       "    <tr>\n",
       "      <th>Customer_ID</th>\n",
       "      <th></th>\n",
       "    </tr>\n",
       "  </thead>\n",
       "  <tbody>\n",
       "    <tr>\n",
       "      <th>CUST000001</th>\n",
       "      <td>True</td>\n",
       "    </tr>\n",
       "    <tr>\n",
       "      <th>CUST000002</th>\n",
       "      <td>True</td>\n",
       "    </tr>\n",
       "    <tr>\n",
       "      <th>CUST000003</th>\n",
       "      <td>False</td>\n",
       "    </tr>\n",
       "    <tr>\n",
       "      <th>CUST000004</th>\n",
       "      <td>True</td>\n",
       "    </tr>\n",
       "    <tr>\n",
       "      <th>CUST000005</th>\n",
       "      <td>False</td>\n",
       "    </tr>\n",
       "    <tr>\n",
       "      <th>...</th>\n",
       "      <td>...</td>\n",
       "    </tr>\n",
       "    <tr>\n",
       "      <th>CUST004996</th>\n",
       "      <td>False</td>\n",
       "    </tr>\n",
       "    <tr>\n",
       "      <th>CUST004997</th>\n",
       "      <td>False</td>\n",
       "    </tr>\n",
       "    <tr>\n",
       "      <th>CUST004998</th>\n",
       "      <td>True</td>\n",
       "    </tr>\n",
       "    <tr>\n",
       "      <th>CUST004999</th>\n",
       "      <td>False</td>\n",
       "    </tr>\n",
       "    <tr>\n",
       "      <th>CUST005000</th>\n",
       "      <td>True</td>\n",
       "    </tr>\n",
       "  </tbody>\n",
       "</table>\n",
       "<p>5000 rows × 1 columns</p>\n",
       "</div>"
      ],
      "text/plain": [
       "             Churned\n",
       "Customer_ID         \n",
       "CUST000001      True\n",
       "CUST000002      True\n",
       "CUST000003     False\n",
       "CUST000004      True\n",
       "CUST000005     False\n",
       "...              ...\n",
       "CUST004996     False\n",
       "CUST004997     False\n",
       "CUST004998      True\n",
       "CUST004999     False\n",
       "CUST005000      True\n",
       "\n",
       "[5000 rows x 1 columns]"
      ]
     },
     "execution_count": 866,
     "metadata": {},
     "output_type": "execute_result"
    }
   ],
   "source": [
    "df_2 = df_1.copy()\n",
    "df_2['Churned'] = df_2['Churned'].astype(bool)\n",
    "\n",
    "df_2.loc[:, ['Churned']]"
   ]
  },
  {
   "cell_type": "markdown",
   "id": "3b0e5016",
   "metadata": {},
   "source": [
    "### **3. Kolom `Region` Dihapus**"
   ]
  },
  {
   "cell_type": "code",
   "execution_count": 867,
   "id": "85bb7352",
   "metadata": {},
   "outputs": [
    {
     "data": {
      "text/html": [
       "<div>\n",
       "<style scoped>\n",
       "    .dataframe tbody tr th:only-of-type {\n",
       "        vertical-align: middle;\n",
       "    }\n",
       "\n",
       "    .dataframe tbody tr th {\n",
       "        vertical-align: top;\n",
       "    }\n",
       "\n",
       "    .dataframe thead th {\n",
       "        text-align: right;\n",
       "    }\n",
       "</style>\n",
       "<table border=\"1\" class=\"dataframe\">\n",
       "  <thead>\n",
       "    <tr style=\"text-align: right;\">\n",
       "      <th></th>\n",
       "      <th>Age</th>\n",
       "      <th>Gender</th>\n",
       "      <th>Subscription_Length</th>\n",
       "      <th>Payment_Method</th>\n",
       "      <th>Support_Tickets_Raised</th>\n",
       "      <th>Satisfaction_Score</th>\n",
       "      <th>Discount_Offered</th>\n",
       "      <th>Last_Activity</th>\n",
       "      <th>Monthly_Spend</th>\n",
       "      <th>Churned</th>\n",
       "    </tr>\n",
       "    <tr>\n",
       "      <th>Customer_ID</th>\n",
       "      <th></th>\n",
       "      <th></th>\n",
       "      <th></th>\n",
       "      <th></th>\n",
       "      <th></th>\n",
       "      <th></th>\n",
       "      <th></th>\n",
       "      <th></th>\n",
       "      <th></th>\n",
       "      <th></th>\n",
       "    </tr>\n",
       "  </thead>\n",
       "  <tbody>\n",
       "    <tr>\n",
       "      <th>CUST000001</th>\n",
       "      <td>56.0</td>\n",
       "      <td>Male</td>\n",
       "      <td>54</td>\n",
       "      <td>PayPal</td>\n",
       "      <td>0</td>\n",
       "      <td>9.0</td>\n",
       "      <td>6.42</td>\n",
       "      <td>319</td>\n",
       "      <td>62.11</td>\n",
       "      <td>True</td>\n",
       "    </tr>\n",
       "    <tr>\n",
       "      <th>CUST000002</th>\n",
       "      <td>69.0</td>\n",
       "      <td>Female</td>\n",
       "      <td>21</td>\n",
       "      <td>Debit Card</td>\n",
       "      <td>1</td>\n",
       "      <td>2.0</td>\n",
       "      <td>13.77</td>\n",
       "      <td>166</td>\n",
       "      <td>37.27</td>\n",
       "      <td>True</td>\n",
       "    </tr>\n",
       "    <tr>\n",
       "      <th>CUST000003</th>\n",
       "      <td>46.0</td>\n",
       "      <td>Female</td>\n",
       "      <td>49</td>\n",
       "      <td>PayPal</td>\n",
       "      <td>3</td>\n",
       "      <td>8.0</td>\n",
       "      <td>19.91</td>\n",
       "      <td>207</td>\n",
       "      <td>61.82</td>\n",
       "      <td>False</td>\n",
       "    </tr>\n",
       "    <tr>\n",
       "      <th>CUST000004</th>\n",
       "      <td>32.0</td>\n",
       "      <td>Male</td>\n",
       "      <td>47</td>\n",
       "      <td>Debit Card</td>\n",
       "      <td>3</td>\n",
       "      <td>1.0</td>\n",
       "      <td>13.39</td>\n",
       "      <td>108</td>\n",
       "      <td>40.96</td>\n",
       "      <td>True</td>\n",
       "    </tr>\n",
       "    <tr>\n",
       "      <th>CUST000005</th>\n",
       "      <td>60.0</td>\n",
       "      <td>Male</td>\n",
       "      <td>6</td>\n",
       "      <td>Credit Card</td>\n",
       "      <td>2</td>\n",
       "      <td>NaN</td>\n",
       "      <td>13.18</td>\n",
       "      <td>65</td>\n",
       "      <td>45.97</td>\n",
       "      <td>False</td>\n",
       "    </tr>\n",
       "    <tr>\n",
       "      <th>...</th>\n",
       "      <td>...</td>\n",
       "      <td>...</td>\n",
       "      <td>...</td>\n",
       "      <td>...</td>\n",
       "      <td>...</td>\n",
       "      <td>...</td>\n",
       "      <td>...</td>\n",
       "      <td>...</td>\n",
       "      <td>...</td>\n",
       "      <td>...</td>\n",
       "    </tr>\n",
       "    <tr>\n",
       "      <th>CUST004996</th>\n",
       "      <td>24.0</td>\n",
       "      <td>Male</td>\n",
       "      <td>5</td>\n",
       "      <td>Debit Card</td>\n",
       "      <td>0</td>\n",
       "      <td>8.0</td>\n",
       "      <td>18.03</td>\n",
       "      <td>121</td>\n",
       "      <td>51.61</td>\n",
       "      <td>False</td>\n",
       "    </tr>\n",
       "    <tr>\n",
       "      <th>CUST004997</th>\n",
       "      <td>66.0</td>\n",
       "      <td>Female</td>\n",
       "      <td>12</td>\n",
       "      <td>PayPal</td>\n",
       "      <td>3</td>\n",
       "      <td>5.0</td>\n",
       "      <td>5.84</td>\n",
       "      <td>192</td>\n",
       "      <td>36.32</td>\n",
       "      <td>False</td>\n",
       "    </tr>\n",
       "    <tr>\n",
       "      <th>CUST004998</th>\n",
       "      <td>26.0</td>\n",
       "      <td>Female</td>\n",
       "      <td>1</td>\n",
       "      <td>Credit Card</td>\n",
       "      <td>2</td>\n",
       "      <td>8.0</td>\n",
       "      <td>6.76</td>\n",
       "      <td>354</td>\n",
       "      <td>42.07</td>\n",
       "      <td>True</td>\n",
       "    </tr>\n",
       "    <tr>\n",
       "      <th>CUST004999</th>\n",
       "      <td>53.0</td>\n",
       "      <td>Female</td>\n",
       "      <td>44</td>\n",
       "      <td>Debit Card</td>\n",
       "      <td>1</td>\n",
       "      <td>10.0</td>\n",
       "      <td>5.95</td>\n",
       "      <td>31</td>\n",
       "      <td>60.09</td>\n",
       "      <td>False</td>\n",
       "    </tr>\n",
       "    <tr>\n",
       "      <th>CUST005000</th>\n",
       "      <td>36.0</td>\n",
       "      <td>Female</td>\n",
       "      <td>22</td>\n",
       "      <td>Debit Card</td>\n",
       "      <td>1</td>\n",
       "      <td>8.0</td>\n",
       "      <td>11.36</td>\n",
       "      <td>357</td>\n",
       "      <td>49.48</td>\n",
       "      <td>True</td>\n",
       "    </tr>\n",
       "  </tbody>\n",
       "</table>\n",
       "<p>5000 rows × 10 columns</p>\n",
       "</div>"
      ],
      "text/plain": [
       "              Age  Gender  Subscription_Length Payment_Method  \\\n",
       "Customer_ID                                                     \n",
       "CUST000001   56.0    Male                   54         PayPal   \n",
       "CUST000002   69.0  Female                   21     Debit Card   \n",
       "CUST000003   46.0  Female                   49         PayPal   \n",
       "CUST000004   32.0    Male                   47     Debit Card   \n",
       "CUST000005   60.0    Male                    6    Credit Card   \n",
       "...           ...     ...                  ...            ...   \n",
       "CUST004996   24.0    Male                    5     Debit Card   \n",
       "CUST004997   66.0  Female                   12         PayPal   \n",
       "CUST004998   26.0  Female                    1    Credit Card   \n",
       "CUST004999   53.0  Female                   44     Debit Card   \n",
       "CUST005000   36.0  Female                   22     Debit Card   \n",
       "\n",
       "             Support_Tickets_Raised  Satisfaction_Score  Discount_Offered  \\\n",
       "Customer_ID                                                                 \n",
       "CUST000001                        0                 9.0              6.42   \n",
       "CUST000002                        1                 2.0             13.77   \n",
       "CUST000003                        3                 8.0             19.91   \n",
       "CUST000004                        3                 1.0             13.39   \n",
       "CUST000005                        2                 NaN             13.18   \n",
       "...                             ...                 ...               ...   \n",
       "CUST004996                        0                 8.0             18.03   \n",
       "CUST004997                        3                 5.0              5.84   \n",
       "CUST004998                        2                 8.0              6.76   \n",
       "CUST004999                        1                10.0              5.95   \n",
       "CUST005000                        1                 8.0             11.36   \n",
       "\n",
       "             Last_Activity  Monthly_Spend  Churned  \n",
       "Customer_ID                                         \n",
       "CUST000001             319          62.11     True  \n",
       "CUST000002             166          37.27     True  \n",
       "CUST000003             207          61.82    False  \n",
       "CUST000004             108          40.96     True  \n",
       "CUST000005              65          45.97    False  \n",
       "...                    ...            ...      ...  \n",
       "CUST004996             121          51.61    False  \n",
       "CUST004997             192          36.32    False  \n",
       "CUST004998             354          42.07     True  \n",
       "CUST004999              31          60.09    False  \n",
       "CUST005000             357          49.48     True  \n",
       "\n",
       "[5000 rows x 10 columns]"
      ]
     },
     "execution_count": 867,
     "metadata": {},
     "output_type": "execute_result"
    }
   ],
   "source": [
    "df_3 = df_2.drop('Region', axis=1)\n",
    "\n",
    "df_3"
   ]
  },
  {
   "cell_type": "markdown",
   "id": "d2eb755d",
   "metadata": {},
   "source": [
    "### **4. Konversi Mata Uang USD ke IDR pada Kolom `Discount_Offered` dan `Monthly_Spend`**"
   ]
  },
  {
   "cell_type": "markdown",
   "id": "af051026",
   "metadata": {},
   "source": [
    "#### **a. Default nilai tukar USD ke IDR per tanggal `22 April 2025` adalah `16.864`**"
   ]
  },
  {
   "cell_type": "code",
   "execution_count": 868,
   "id": "9a38405d",
   "metadata": {},
   "outputs": [
    {
     "name": "stdout",
     "output_type": "stream",
     "text": [
      "Nilai tukar USD ke IDR pada [2025-04-22] = 16864\n"
     ]
    }
   ],
   "source": [
    "# 2025-04-22\n",
    "currency_code_from = 'usd'\n",
    "currency_code_to   = 'idr'\n",
    "currency_rate_date = '2025-04-22'\n",
    "usd_to_idr_rate_default = 16864\n",
    "usd_to_idr_rate = usd_to_idr_rate_default\n",
    "\n",
    "print(f'Nilai tukar {currency_code_from.upper()} ke {currency_code_to.upper()} pada [{currency_rate_date}] = {usd_to_idr_rate}')"
   ]
  },
  {
   "cell_type": "markdown",
   "id": "7c6d54db",
   "metadata": {},
   "source": [
    "#### **b. Kode Opsional untuk mengambil nilai tukar USD ke IDR terkini dari API Internet**"
   ]
  },
  {
   "cell_type": "markdown",
   "id": "893962fb",
   "metadata": {},
   "source": [
    "Kode berikut adalah kode untuk mengambil nilai tukar USD ke IDR terkini dari API Internet.\n",
    "\n",
    "Sumber data nilai tukar berbentuk _json_ yang dapat diakses pada link [berikut](https://cdn.jsdelivr.net/npm/@fawazahmed0/currency-api@latest/v1/currencies/usd.json) atau pada [_fallback link_](https://latest.currency-api.pages.dev/v1/currencies/usd.json) oleh [GitHub @fawazahmed0](https://github.com/fawazahmed0/exchange-api)."
   ]
  },
  {
   "cell_type": "code",
   "execution_count": 869,
   "id": "390275d4",
   "metadata": {},
   "outputs": [
    {
     "name": "stdout",
     "output_type": "stream",
     "text": [
      "Nilai tukar USD ke IDR pada [2025-04-23] = 16848.21253071\n"
     ]
    }
   ],
   "source": [
    "# OPTIONAL - GET FROM API - https://cdn.jsdelivr.net/npm/@fawazahmed0/currency-api@latest/v1/currencies/usd.json\n",
    "import requests\n",
    "try:\n",
    "    api_currency_endpoint = 'https://cdn.jsdelivr.net/npm/@fawazahmed0/currency-api@latest/v1/currencies/usd.json'\n",
    "    api_currency_response = requests.get(api_currency_endpoint)\n",
    "    api_currency_response.raise_for_status()\n",
    "\n",
    "    api_currency_data     = api_currency_response.json()\n",
    "    api_currency_date     = api_currency_data['date']\n",
    "    api_currency_from     = api_currency_data[currency_code_from]\n",
    "\n",
    "    currency_rate_date    = api_currency_date\n",
    "    usd_to_idr_rate       = api_currency_from[currency_code_to]\n",
    "except:\n",
    "    try:\n",
    "        api_currency_endpoint2 = 'https://latest.currency-api.pages.dev/v1/currencies/usd.json'\n",
    "        api_currency_response2 = requests.get(api_currency_endpoint2)\n",
    "        api_currency_response2.raise_for_status()\n",
    "\n",
    "        api_currency_data     = api_currency_response2.json()\n",
    "        api_currency_date     = api_currency_data['date']\n",
    "        api_currency_from     = api_currency_data[currency_code_from]\n",
    "\n",
    "        currency_rate_date    = api_currency_date\n",
    "        usd_to_idr_rate       = api_currency_from[currency_code_to]\n",
    "    except:\n",
    "        usd_to_idr_rate = usd_to_idr_rate_default\n",
    "\n",
    "print(f'Nilai tukar {currency_code_from.upper()} ke {currency_code_to.upper()} pada [{currency_rate_date}] = {usd_to_idr_rate}')"
   ]
  },
  {
   "cell_type": "markdown",
   "id": "0c7a7aef",
   "metadata": {},
   "source": [
    "#### **c. Konversi Data Mata Uang**"
   ]
  },
  {
   "cell_type": "code",
   "execution_count": 870,
   "id": "037c6569",
   "metadata": {},
   "outputs": [
    {
     "data": {
      "text/html": [
       "<div>\n",
       "<style scoped>\n",
       "    .dataframe tbody tr th:only-of-type {\n",
       "        vertical-align: middle;\n",
       "    }\n",
       "\n",
       "    .dataframe tbody tr th {\n",
       "        vertical-align: top;\n",
       "    }\n",
       "\n",
       "    .dataframe thead th {\n",
       "        text-align: right;\n",
       "    }\n",
       "</style>\n",
       "<table border=\"1\" class=\"dataframe\">\n",
       "  <thead>\n",
       "    <tr style=\"text-align: right;\">\n",
       "      <th></th>\n",
       "      <th>Age</th>\n",
       "      <th>Gender</th>\n",
       "      <th>Subscription_Length</th>\n",
       "      <th>Payment_Method</th>\n",
       "      <th>Support_Tickets_Raised</th>\n",
       "      <th>Satisfaction_Score</th>\n",
       "      <th>Discount_Offered</th>\n",
       "      <th>Last_Activity</th>\n",
       "      <th>Monthly_Spend</th>\n",
       "      <th>Churned</th>\n",
       "    </tr>\n",
       "    <tr>\n",
       "      <th>Customer_ID</th>\n",
       "      <th></th>\n",
       "      <th></th>\n",
       "      <th></th>\n",
       "      <th></th>\n",
       "      <th></th>\n",
       "      <th></th>\n",
       "      <th></th>\n",
       "      <th></th>\n",
       "      <th></th>\n",
       "      <th></th>\n",
       "    </tr>\n",
       "  </thead>\n",
       "  <tbody>\n",
       "    <tr>\n",
       "      <th>CUST000001</th>\n",
       "      <td>56.0</td>\n",
       "      <td>Male</td>\n",
       "      <td>54</td>\n",
       "      <td>PayPal</td>\n",
       "      <td>0</td>\n",
       "      <td>9.0</td>\n",
       "      <td>108165.52</td>\n",
       "      <td>319</td>\n",
       "      <td>1046442.48</td>\n",
       "      <td>True</td>\n",
       "    </tr>\n",
       "    <tr>\n",
       "      <th>CUST000002</th>\n",
       "      <td>69.0</td>\n",
       "      <td>Female</td>\n",
       "      <td>21</td>\n",
       "      <td>Debit Card</td>\n",
       "      <td>1</td>\n",
       "      <td>2.0</td>\n",
       "      <td>231999.89</td>\n",
       "      <td>166</td>\n",
       "      <td>627932.88</td>\n",
       "      <td>True</td>\n",
       "    </tr>\n",
       "    <tr>\n",
       "      <th>CUST000003</th>\n",
       "      <td>46.0</td>\n",
       "      <td>Female</td>\n",
       "      <td>49</td>\n",
       "      <td>PayPal</td>\n",
       "      <td>3</td>\n",
       "      <td>8.0</td>\n",
       "      <td>335447.91</td>\n",
       "      <td>207</td>\n",
       "      <td>1041556.50</td>\n",
       "      <td>False</td>\n",
       "    </tr>\n",
       "    <tr>\n",
       "      <th>CUST000004</th>\n",
       "      <td>32.0</td>\n",
       "      <td>Male</td>\n",
       "      <td>47</td>\n",
       "      <td>Debit Card</td>\n",
       "      <td>3</td>\n",
       "      <td>1.0</td>\n",
       "      <td>225597.57</td>\n",
       "      <td>108</td>\n",
       "      <td>690102.79</td>\n",
       "      <td>True</td>\n",
       "    </tr>\n",
       "    <tr>\n",
       "      <th>CUST000005</th>\n",
       "      <td>60.0</td>\n",
       "      <td>Male</td>\n",
       "      <td>6</td>\n",
       "      <td>Credit Card</td>\n",
       "      <td>2</td>\n",
       "      <td>NaN</td>\n",
       "      <td>222059.44</td>\n",
       "      <td>65</td>\n",
       "      <td>774512.33</td>\n",
       "      <td>False</td>\n",
       "    </tr>\n",
       "    <tr>\n",
       "      <th>...</th>\n",
       "      <td>...</td>\n",
       "      <td>...</td>\n",
       "      <td>...</td>\n",
       "      <td>...</td>\n",
       "      <td>...</td>\n",
       "      <td>...</td>\n",
       "      <td>...</td>\n",
       "      <td>...</td>\n",
       "      <td>...</td>\n",
       "      <td>...</td>\n",
       "    </tr>\n",
       "    <tr>\n",
       "      <th>CUST004996</th>\n",
       "      <td>24.0</td>\n",
       "      <td>Male</td>\n",
       "      <td>5</td>\n",
       "      <td>Debit Card</td>\n",
       "      <td>0</td>\n",
       "      <td>8.0</td>\n",
       "      <td>303773.27</td>\n",
       "      <td>121</td>\n",
       "      <td>869536.25</td>\n",
       "      <td>False</td>\n",
       "    </tr>\n",
       "    <tr>\n",
       "      <th>CUST004997</th>\n",
       "      <td>66.0</td>\n",
       "      <td>Female</td>\n",
       "      <td>12</td>\n",
       "      <td>PayPal</td>\n",
       "      <td>3</td>\n",
       "      <td>5.0</td>\n",
       "      <td>98393.56</td>\n",
       "      <td>192</td>\n",
       "      <td>611927.08</td>\n",
       "      <td>False</td>\n",
       "    </tr>\n",
       "    <tr>\n",
       "      <th>CUST004998</th>\n",
       "      <td>26.0</td>\n",
       "      <td>Female</td>\n",
       "      <td>1</td>\n",
       "      <td>Credit Card</td>\n",
       "      <td>2</td>\n",
       "      <td>8.0</td>\n",
       "      <td>113893.92</td>\n",
       "      <td>354</td>\n",
       "      <td>708804.30</td>\n",
       "      <td>True</td>\n",
       "    </tr>\n",
       "    <tr>\n",
       "      <th>CUST004999</th>\n",
       "      <td>53.0</td>\n",
       "      <td>Female</td>\n",
       "      <td>44</td>\n",
       "      <td>Debit Card</td>\n",
       "      <td>1</td>\n",
       "      <td>10.0</td>\n",
       "      <td>100246.86</td>\n",
       "      <td>31</td>\n",
       "      <td>1012409.09</td>\n",
       "      <td>False</td>\n",
       "    </tr>\n",
       "    <tr>\n",
       "      <th>CUST005000</th>\n",
       "      <td>36.0</td>\n",
       "      <td>Female</td>\n",
       "      <td>22</td>\n",
       "      <td>Debit Card</td>\n",
       "      <td>1</td>\n",
       "      <td>8.0</td>\n",
       "      <td>191395.69</td>\n",
       "      <td>357</td>\n",
       "      <td>833649.56</td>\n",
       "      <td>True</td>\n",
       "    </tr>\n",
       "  </tbody>\n",
       "</table>\n",
       "<p>5000 rows × 10 columns</p>\n",
       "</div>"
      ],
      "text/plain": [
       "              Age  Gender  Subscription_Length Payment_Method  \\\n",
       "Customer_ID                                                     \n",
       "CUST000001   56.0    Male                   54         PayPal   \n",
       "CUST000002   69.0  Female                   21     Debit Card   \n",
       "CUST000003   46.0  Female                   49         PayPal   \n",
       "CUST000004   32.0    Male                   47     Debit Card   \n",
       "CUST000005   60.0    Male                    6    Credit Card   \n",
       "...           ...     ...                  ...            ...   \n",
       "CUST004996   24.0    Male                    5     Debit Card   \n",
       "CUST004997   66.0  Female                   12         PayPal   \n",
       "CUST004998   26.0  Female                    1    Credit Card   \n",
       "CUST004999   53.0  Female                   44     Debit Card   \n",
       "CUST005000   36.0  Female                   22     Debit Card   \n",
       "\n",
       "             Support_Tickets_Raised  Satisfaction_Score  Discount_Offered  \\\n",
       "Customer_ID                                                                 \n",
       "CUST000001                        0                 9.0         108165.52   \n",
       "CUST000002                        1                 2.0         231999.89   \n",
       "CUST000003                        3                 8.0         335447.91   \n",
       "CUST000004                        3                 1.0         225597.57   \n",
       "CUST000005                        2                 NaN         222059.44   \n",
       "...                             ...                 ...               ...   \n",
       "CUST004996                        0                 8.0         303773.27   \n",
       "CUST004997                        3                 5.0          98393.56   \n",
       "CUST004998                        2                 8.0         113893.92   \n",
       "CUST004999                        1                10.0         100246.86   \n",
       "CUST005000                        1                 8.0         191395.69   \n",
       "\n",
       "             Last_Activity  Monthly_Spend  Churned  \n",
       "Customer_ID                                         \n",
       "CUST000001             319     1046442.48     True  \n",
       "CUST000002             166      627932.88     True  \n",
       "CUST000003             207     1041556.50    False  \n",
       "CUST000004             108      690102.79     True  \n",
       "CUST000005              65      774512.33    False  \n",
       "...                    ...            ...      ...  \n",
       "CUST004996             121      869536.25    False  \n",
       "CUST004997             192      611927.08    False  \n",
       "CUST004998             354      708804.30     True  \n",
       "CUST004999              31     1012409.09    False  \n",
       "CUST005000             357      833649.56     True  \n",
       "\n",
       "[5000 rows x 10 columns]"
      ]
     },
     "execution_count": 870,
     "metadata": {},
     "output_type": "execute_result"
    }
   ],
   "source": [
    "df_4 = df_3.copy()\n",
    "df_4['Discount_Offered'] = round(df_4['Discount_Offered'] * usd_to_idr_rate, 2)\n",
    "df_4['Monthly_Spend']    = round(df_4['Monthly_Spend'] * usd_to_idr_rate, 2)\n",
    "\n",
    "df_4"
   ]
  },
  {
   "cell_type": "markdown",
   "id": "b6d378d8",
   "metadata": {},
   "source": [
    "### **5. Penambahan Kolom `Age_Group`**"
   ]
  },
  {
   "cell_type": "code",
   "execution_count": 871,
   "id": "22857545",
   "metadata": {},
   "outputs": [
    {
     "data": {
      "text/html": [
       "<div>\n",
       "<style scoped>\n",
       "    .dataframe tbody tr th:only-of-type {\n",
       "        vertical-align: middle;\n",
       "    }\n",
       "\n",
       "    .dataframe tbody tr th {\n",
       "        vertical-align: top;\n",
       "    }\n",
       "\n",
       "    .dataframe thead th {\n",
       "        text-align: right;\n",
       "    }\n",
       "</style>\n",
       "<table border=\"1\" class=\"dataframe\">\n",
       "  <thead>\n",
       "    <tr style=\"text-align: right;\">\n",
       "      <th></th>\n",
       "      <th>Age</th>\n",
       "      <th>Age_Group</th>\n",
       "      <th>Gender</th>\n",
       "      <th>Subscription_Length</th>\n",
       "      <th>Payment_Method</th>\n",
       "      <th>Support_Tickets_Raised</th>\n",
       "      <th>Satisfaction_Score</th>\n",
       "      <th>Discount_Offered</th>\n",
       "      <th>Last_Activity</th>\n",
       "      <th>Monthly_Spend</th>\n",
       "      <th>Churned</th>\n",
       "    </tr>\n",
       "    <tr>\n",
       "      <th>Customer_ID</th>\n",
       "      <th></th>\n",
       "      <th></th>\n",
       "      <th></th>\n",
       "      <th></th>\n",
       "      <th></th>\n",
       "      <th></th>\n",
       "      <th></th>\n",
       "      <th></th>\n",
       "      <th></th>\n",
       "      <th></th>\n",
       "      <th></th>\n",
       "    </tr>\n",
       "  </thead>\n",
       "  <tbody>\n",
       "    <tr>\n",
       "      <th>CUST000001</th>\n",
       "      <td>56.0</td>\n",
       "      <td>55-64</td>\n",
       "      <td>Male</td>\n",
       "      <td>54</td>\n",
       "      <td>PayPal</td>\n",
       "      <td>0</td>\n",
       "      <td>9.0</td>\n",
       "      <td>108165.52</td>\n",
       "      <td>319</td>\n",
       "      <td>1046442.48</td>\n",
       "      <td>True</td>\n",
       "    </tr>\n",
       "    <tr>\n",
       "      <th>CUST000002</th>\n",
       "      <td>69.0</td>\n",
       "      <td>65-74</td>\n",
       "      <td>Female</td>\n",
       "      <td>21</td>\n",
       "      <td>Debit Card</td>\n",
       "      <td>1</td>\n",
       "      <td>2.0</td>\n",
       "      <td>231999.89</td>\n",
       "      <td>166</td>\n",
       "      <td>627932.88</td>\n",
       "      <td>True</td>\n",
       "    </tr>\n",
       "    <tr>\n",
       "      <th>CUST000003</th>\n",
       "      <td>46.0</td>\n",
       "      <td>45-54</td>\n",
       "      <td>Female</td>\n",
       "      <td>49</td>\n",
       "      <td>PayPal</td>\n",
       "      <td>3</td>\n",
       "      <td>8.0</td>\n",
       "      <td>335447.91</td>\n",
       "      <td>207</td>\n",
       "      <td>1041556.50</td>\n",
       "      <td>False</td>\n",
       "    </tr>\n",
       "    <tr>\n",
       "      <th>CUST000004</th>\n",
       "      <td>32.0</td>\n",
       "      <td>25-34</td>\n",
       "      <td>Male</td>\n",
       "      <td>47</td>\n",
       "      <td>Debit Card</td>\n",
       "      <td>3</td>\n",
       "      <td>1.0</td>\n",
       "      <td>225597.57</td>\n",
       "      <td>108</td>\n",
       "      <td>690102.79</td>\n",
       "      <td>True</td>\n",
       "    </tr>\n",
       "    <tr>\n",
       "      <th>CUST000005</th>\n",
       "      <td>60.0</td>\n",
       "      <td>55-64</td>\n",
       "      <td>Male</td>\n",
       "      <td>6</td>\n",
       "      <td>Credit Card</td>\n",
       "      <td>2</td>\n",
       "      <td>NaN</td>\n",
       "      <td>222059.44</td>\n",
       "      <td>65</td>\n",
       "      <td>774512.33</td>\n",
       "      <td>False</td>\n",
       "    </tr>\n",
       "    <tr>\n",
       "      <th>...</th>\n",
       "      <td>...</td>\n",
       "      <td>...</td>\n",
       "      <td>...</td>\n",
       "      <td>...</td>\n",
       "      <td>...</td>\n",
       "      <td>...</td>\n",
       "      <td>...</td>\n",
       "      <td>...</td>\n",
       "      <td>...</td>\n",
       "      <td>...</td>\n",
       "      <td>...</td>\n",
       "    </tr>\n",
       "    <tr>\n",
       "      <th>CUST004996</th>\n",
       "      <td>24.0</td>\n",
       "      <td>15-24</td>\n",
       "      <td>Male</td>\n",
       "      <td>5</td>\n",
       "      <td>Debit Card</td>\n",
       "      <td>0</td>\n",
       "      <td>8.0</td>\n",
       "      <td>303773.27</td>\n",
       "      <td>121</td>\n",
       "      <td>869536.25</td>\n",
       "      <td>False</td>\n",
       "    </tr>\n",
       "    <tr>\n",
       "      <th>CUST004997</th>\n",
       "      <td>66.0</td>\n",
       "      <td>65-74</td>\n",
       "      <td>Female</td>\n",
       "      <td>12</td>\n",
       "      <td>PayPal</td>\n",
       "      <td>3</td>\n",
       "      <td>5.0</td>\n",
       "      <td>98393.56</td>\n",
       "      <td>192</td>\n",
       "      <td>611927.08</td>\n",
       "      <td>False</td>\n",
       "    </tr>\n",
       "    <tr>\n",
       "      <th>CUST004998</th>\n",
       "      <td>26.0</td>\n",
       "      <td>25-34</td>\n",
       "      <td>Female</td>\n",
       "      <td>1</td>\n",
       "      <td>Credit Card</td>\n",
       "      <td>2</td>\n",
       "      <td>8.0</td>\n",
       "      <td>113893.92</td>\n",
       "      <td>354</td>\n",
       "      <td>708804.30</td>\n",
       "      <td>True</td>\n",
       "    </tr>\n",
       "    <tr>\n",
       "      <th>CUST004999</th>\n",
       "      <td>53.0</td>\n",
       "      <td>45-54</td>\n",
       "      <td>Female</td>\n",
       "      <td>44</td>\n",
       "      <td>Debit Card</td>\n",
       "      <td>1</td>\n",
       "      <td>10.0</td>\n",
       "      <td>100246.86</td>\n",
       "      <td>31</td>\n",
       "      <td>1012409.09</td>\n",
       "      <td>False</td>\n",
       "    </tr>\n",
       "    <tr>\n",
       "      <th>CUST005000</th>\n",
       "      <td>36.0</td>\n",
       "      <td>35-44</td>\n",
       "      <td>Female</td>\n",
       "      <td>22</td>\n",
       "      <td>Debit Card</td>\n",
       "      <td>1</td>\n",
       "      <td>8.0</td>\n",
       "      <td>191395.69</td>\n",
       "      <td>357</td>\n",
       "      <td>833649.56</td>\n",
       "      <td>True</td>\n",
       "    </tr>\n",
       "  </tbody>\n",
       "</table>\n",
       "<p>5000 rows × 11 columns</p>\n",
       "</div>"
      ],
      "text/plain": [
       "              Age Age_Group  Gender  Subscription_Length Payment_Method  \\\n",
       "Customer_ID                                                               \n",
       "CUST000001   56.0     55-64    Male                   54         PayPal   \n",
       "CUST000002   69.0     65-74  Female                   21     Debit Card   \n",
       "CUST000003   46.0     45-54  Female                   49         PayPal   \n",
       "CUST000004   32.0     25-34    Male                   47     Debit Card   \n",
       "CUST000005   60.0     55-64    Male                    6    Credit Card   \n",
       "...           ...       ...     ...                  ...            ...   \n",
       "CUST004996   24.0     15-24    Male                    5     Debit Card   \n",
       "CUST004997   66.0     65-74  Female                   12         PayPal   \n",
       "CUST004998   26.0     25-34  Female                    1    Credit Card   \n",
       "CUST004999   53.0     45-54  Female                   44     Debit Card   \n",
       "CUST005000   36.0     35-44  Female                   22     Debit Card   \n",
       "\n",
       "             Support_Tickets_Raised  Satisfaction_Score  Discount_Offered  \\\n",
       "Customer_ID                                                                 \n",
       "CUST000001                        0                 9.0         108165.52   \n",
       "CUST000002                        1                 2.0         231999.89   \n",
       "CUST000003                        3                 8.0         335447.91   \n",
       "CUST000004                        3                 1.0         225597.57   \n",
       "CUST000005                        2                 NaN         222059.44   \n",
       "...                             ...                 ...               ...   \n",
       "CUST004996                        0                 8.0         303773.27   \n",
       "CUST004997                        3                 5.0          98393.56   \n",
       "CUST004998                        2                 8.0         113893.92   \n",
       "CUST004999                        1                10.0         100246.86   \n",
       "CUST005000                        1                 8.0         191395.69   \n",
       "\n",
       "             Last_Activity  Monthly_Spend  Churned  \n",
       "Customer_ID                                         \n",
       "CUST000001             319     1046442.48     True  \n",
       "CUST000002             166      627932.88     True  \n",
       "CUST000003             207     1041556.50    False  \n",
       "CUST000004             108      690102.79     True  \n",
       "CUST000005              65      774512.33    False  \n",
       "...                    ...            ...      ...  \n",
       "CUST004996             121      869536.25    False  \n",
       "CUST004997             192      611927.08    False  \n",
       "CUST004998             354      708804.30     True  \n",
       "CUST004999              31     1012409.09    False  \n",
       "CUST005000             357      833649.56     True  \n",
       "\n",
       "[5000 rows x 11 columns]"
      ]
     },
     "execution_count": 871,
     "metadata": {},
     "output_type": "execute_result"
    }
   ],
   "source": [
    "def classify_age(age: float):\n",
    "    if 0 <= age < 15:\n",
    "        return  '0-14'\n",
    "    elif 15 <= age < 25:\n",
    "        return '15-24'\n",
    "    elif 25 <= age < 35:\n",
    "        return '25-34'\n",
    "    elif 35 <= age < 45:\n",
    "        return '35-44'\n",
    "    elif 45 <= age < 55:\n",
    "        return '45-54'\n",
    "    elif 55 <= age < 65:\n",
    "        return '55-64'\n",
    "    elif 65 <= age < 75:\n",
    "        return '65-74'\n",
    "    else:\n",
    "        return pd.NA\n",
    "\n",
    "df_5 = df_4.copy()\n",
    "df_5.insert(1, 'Age_Group', df_5['Age'].apply(classify_age))\n",
    "\n",
    "df_5"
   ]
  },
  {
   "cell_type": "markdown",
   "id": "4eb7be46",
   "metadata": {},
   "source": [
    "### **6. Mengubah Isi Kolom `Gender` ke Bahasa Indonesia**"
   ]
  },
  {
   "cell_type": "code",
   "execution_count": 872,
   "id": "844f966e",
   "metadata": {},
   "outputs": [
    {
     "data": {
      "text/html": [
       "<div>\n",
       "<style scoped>\n",
       "    .dataframe tbody tr th:only-of-type {\n",
       "        vertical-align: middle;\n",
       "    }\n",
       "\n",
       "    .dataframe tbody tr th {\n",
       "        vertical-align: top;\n",
       "    }\n",
       "\n",
       "    .dataframe thead th {\n",
       "        text-align: right;\n",
       "    }\n",
       "</style>\n",
       "<table border=\"1\" class=\"dataframe\">\n",
       "  <thead>\n",
       "    <tr style=\"text-align: right;\">\n",
       "      <th></th>\n",
       "      <th>Age</th>\n",
       "      <th>Age_Group</th>\n",
       "      <th>Gender</th>\n",
       "      <th>Subscription_Length</th>\n",
       "      <th>Payment_Method</th>\n",
       "      <th>Support_Tickets_Raised</th>\n",
       "      <th>Satisfaction_Score</th>\n",
       "      <th>Discount_Offered</th>\n",
       "      <th>Last_Activity</th>\n",
       "      <th>Monthly_Spend</th>\n",
       "      <th>Churned</th>\n",
       "    </tr>\n",
       "    <tr>\n",
       "      <th>Customer_ID</th>\n",
       "      <th></th>\n",
       "      <th></th>\n",
       "      <th></th>\n",
       "      <th></th>\n",
       "      <th></th>\n",
       "      <th></th>\n",
       "      <th></th>\n",
       "      <th></th>\n",
       "      <th></th>\n",
       "      <th></th>\n",
       "      <th></th>\n",
       "    </tr>\n",
       "  </thead>\n",
       "  <tbody>\n",
       "    <tr>\n",
       "      <th>CUST000001</th>\n",
       "      <td>56.0</td>\n",
       "      <td>55-64</td>\n",
       "      <td>Laki-laki</td>\n",
       "      <td>54</td>\n",
       "      <td>PayPal</td>\n",
       "      <td>0</td>\n",
       "      <td>9.0</td>\n",
       "      <td>108165.52</td>\n",
       "      <td>319</td>\n",
       "      <td>1046442.48</td>\n",
       "      <td>True</td>\n",
       "    </tr>\n",
       "    <tr>\n",
       "      <th>CUST000002</th>\n",
       "      <td>69.0</td>\n",
       "      <td>65-74</td>\n",
       "      <td>Perempuan</td>\n",
       "      <td>21</td>\n",
       "      <td>Debit Card</td>\n",
       "      <td>1</td>\n",
       "      <td>2.0</td>\n",
       "      <td>231999.89</td>\n",
       "      <td>166</td>\n",
       "      <td>627932.88</td>\n",
       "      <td>True</td>\n",
       "    </tr>\n",
       "    <tr>\n",
       "      <th>CUST000003</th>\n",
       "      <td>46.0</td>\n",
       "      <td>45-54</td>\n",
       "      <td>Perempuan</td>\n",
       "      <td>49</td>\n",
       "      <td>PayPal</td>\n",
       "      <td>3</td>\n",
       "      <td>8.0</td>\n",
       "      <td>335447.91</td>\n",
       "      <td>207</td>\n",
       "      <td>1041556.50</td>\n",
       "      <td>False</td>\n",
       "    </tr>\n",
       "    <tr>\n",
       "      <th>CUST000004</th>\n",
       "      <td>32.0</td>\n",
       "      <td>25-34</td>\n",
       "      <td>Laki-laki</td>\n",
       "      <td>47</td>\n",
       "      <td>Debit Card</td>\n",
       "      <td>3</td>\n",
       "      <td>1.0</td>\n",
       "      <td>225597.57</td>\n",
       "      <td>108</td>\n",
       "      <td>690102.79</td>\n",
       "      <td>True</td>\n",
       "    </tr>\n",
       "    <tr>\n",
       "      <th>CUST000005</th>\n",
       "      <td>60.0</td>\n",
       "      <td>55-64</td>\n",
       "      <td>Laki-laki</td>\n",
       "      <td>6</td>\n",
       "      <td>Credit Card</td>\n",
       "      <td>2</td>\n",
       "      <td>NaN</td>\n",
       "      <td>222059.44</td>\n",
       "      <td>65</td>\n",
       "      <td>774512.33</td>\n",
       "      <td>False</td>\n",
       "    </tr>\n",
       "    <tr>\n",
       "      <th>...</th>\n",
       "      <td>...</td>\n",
       "      <td>...</td>\n",
       "      <td>...</td>\n",
       "      <td>...</td>\n",
       "      <td>...</td>\n",
       "      <td>...</td>\n",
       "      <td>...</td>\n",
       "      <td>...</td>\n",
       "      <td>...</td>\n",
       "      <td>...</td>\n",
       "      <td>...</td>\n",
       "    </tr>\n",
       "    <tr>\n",
       "      <th>CUST004996</th>\n",
       "      <td>24.0</td>\n",
       "      <td>15-24</td>\n",
       "      <td>Laki-laki</td>\n",
       "      <td>5</td>\n",
       "      <td>Debit Card</td>\n",
       "      <td>0</td>\n",
       "      <td>8.0</td>\n",
       "      <td>303773.27</td>\n",
       "      <td>121</td>\n",
       "      <td>869536.25</td>\n",
       "      <td>False</td>\n",
       "    </tr>\n",
       "    <tr>\n",
       "      <th>CUST004997</th>\n",
       "      <td>66.0</td>\n",
       "      <td>65-74</td>\n",
       "      <td>Perempuan</td>\n",
       "      <td>12</td>\n",
       "      <td>PayPal</td>\n",
       "      <td>3</td>\n",
       "      <td>5.0</td>\n",
       "      <td>98393.56</td>\n",
       "      <td>192</td>\n",
       "      <td>611927.08</td>\n",
       "      <td>False</td>\n",
       "    </tr>\n",
       "    <tr>\n",
       "      <th>CUST004998</th>\n",
       "      <td>26.0</td>\n",
       "      <td>25-34</td>\n",
       "      <td>Perempuan</td>\n",
       "      <td>1</td>\n",
       "      <td>Credit Card</td>\n",
       "      <td>2</td>\n",
       "      <td>8.0</td>\n",
       "      <td>113893.92</td>\n",
       "      <td>354</td>\n",
       "      <td>708804.30</td>\n",
       "      <td>True</td>\n",
       "    </tr>\n",
       "    <tr>\n",
       "      <th>CUST004999</th>\n",
       "      <td>53.0</td>\n",
       "      <td>45-54</td>\n",
       "      <td>Perempuan</td>\n",
       "      <td>44</td>\n",
       "      <td>Debit Card</td>\n",
       "      <td>1</td>\n",
       "      <td>10.0</td>\n",
       "      <td>100246.86</td>\n",
       "      <td>31</td>\n",
       "      <td>1012409.09</td>\n",
       "      <td>False</td>\n",
       "    </tr>\n",
       "    <tr>\n",
       "      <th>CUST005000</th>\n",
       "      <td>36.0</td>\n",
       "      <td>35-44</td>\n",
       "      <td>Perempuan</td>\n",
       "      <td>22</td>\n",
       "      <td>Debit Card</td>\n",
       "      <td>1</td>\n",
       "      <td>8.0</td>\n",
       "      <td>191395.69</td>\n",
       "      <td>357</td>\n",
       "      <td>833649.56</td>\n",
       "      <td>True</td>\n",
       "    </tr>\n",
       "  </tbody>\n",
       "</table>\n",
       "<p>5000 rows × 11 columns</p>\n",
       "</div>"
      ],
      "text/plain": [
       "              Age Age_Group     Gender  Subscription_Length Payment_Method  \\\n",
       "Customer_ID                                                                  \n",
       "CUST000001   56.0     55-64  Laki-laki                   54         PayPal   \n",
       "CUST000002   69.0     65-74  Perempuan                   21     Debit Card   \n",
       "CUST000003   46.0     45-54  Perempuan                   49         PayPal   \n",
       "CUST000004   32.0     25-34  Laki-laki                   47     Debit Card   \n",
       "CUST000005   60.0     55-64  Laki-laki                    6    Credit Card   \n",
       "...           ...       ...        ...                  ...            ...   \n",
       "CUST004996   24.0     15-24  Laki-laki                    5     Debit Card   \n",
       "CUST004997   66.0     65-74  Perempuan                   12         PayPal   \n",
       "CUST004998   26.0     25-34  Perempuan                    1    Credit Card   \n",
       "CUST004999   53.0     45-54  Perempuan                   44     Debit Card   \n",
       "CUST005000   36.0     35-44  Perempuan                   22     Debit Card   \n",
       "\n",
       "             Support_Tickets_Raised  Satisfaction_Score  Discount_Offered  \\\n",
       "Customer_ID                                                                 \n",
       "CUST000001                        0                 9.0         108165.52   \n",
       "CUST000002                        1                 2.0         231999.89   \n",
       "CUST000003                        3                 8.0         335447.91   \n",
       "CUST000004                        3                 1.0         225597.57   \n",
       "CUST000005                        2                 NaN         222059.44   \n",
       "...                             ...                 ...               ...   \n",
       "CUST004996                        0                 8.0         303773.27   \n",
       "CUST004997                        3                 5.0          98393.56   \n",
       "CUST004998                        2                 8.0         113893.92   \n",
       "CUST004999                        1                10.0         100246.86   \n",
       "CUST005000                        1                 8.0         191395.69   \n",
       "\n",
       "             Last_Activity  Monthly_Spend  Churned  \n",
       "Customer_ID                                         \n",
       "CUST000001             319     1046442.48     True  \n",
       "CUST000002             166      627932.88     True  \n",
       "CUST000003             207     1041556.50    False  \n",
       "CUST000004             108      690102.79     True  \n",
       "CUST000005              65      774512.33    False  \n",
       "...                    ...            ...      ...  \n",
       "CUST004996             121      869536.25    False  \n",
       "CUST004997             192      611927.08    False  \n",
       "CUST004998             354      708804.30     True  \n",
       "CUST004999              31     1012409.09    False  \n",
       "CUST005000             357      833649.56     True  \n",
       "\n",
       "[5000 rows x 11 columns]"
      ]
     },
     "execution_count": 872,
     "metadata": {},
     "output_type": "execute_result"
    }
   ],
   "source": [
    "def classify_gender(gender: str):\n",
    "    if str(gender).upper() == 'MALE':\n",
    "        return 'Laki-laki'\n",
    "    elif str(gender).upper() == 'FEMALE':\n",
    "        return 'Perempuan'\n",
    "    else:\n",
    "        return pd.NA\n",
    "\n",
    "df_6 = df_5.copy()\n",
    "df_6['Gender'] = df_6['Gender'].apply(classify_gender)\n",
    "\n",
    "df_6"
   ]
  },
  {
   "cell_type": "markdown",
   "id": "04dbfc53",
   "metadata": {},
   "source": [
    "## **B. Hasil Akhir Data Cleaning**"
   ]
  },
  {
   "cell_type": "markdown",
   "id": "7b943feb",
   "metadata": {},
   "source": [
    "### **1. Hasil DataFrame**"
   ]
  },
  {
   "cell_type": "markdown",
   "id": "6939042c",
   "metadata": {},
   "source": [
    "Hasil akhir dari proses _data cleaning_ adalah sebuah _DataFrame_ dengan nama variabel `df_clean`."
   ]
  },
  {
   "cell_type": "code",
   "execution_count": 873,
   "id": "4dd6fb26",
   "metadata": {},
   "outputs": [
    {
     "data": {
      "text/html": [
       "<div>\n",
       "<style scoped>\n",
       "    .dataframe tbody tr th:only-of-type {\n",
       "        vertical-align: middle;\n",
       "    }\n",
       "\n",
       "    .dataframe tbody tr th {\n",
       "        vertical-align: top;\n",
       "    }\n",
       "\n",
       "    .dataframe thead th {\n",
       "        text-align: right;\n",
       "    }\n",
       "</style>\n",
       "<table border=\"1\" class=\"dataframe\">\n",
       "  <thead>\n",
       "    <tr style=\"text-align: right;\">\n",
       "      <th></th>\n",
       "      <th>Age</th>\n",
       "      <th>Age_Group</th>\n",
       "      <th>Gender</th>\n",
       "      <th>Subscription_Length</th>\n",
       "      <th>Payment_Method</th>\n",
       "      <th>Support_Tickets_Raised</th>\n",
       "      <th>Satisfaction_Score</th>\n",
       "      <th>Discount_Offered</th>\n",
       "      <th>Last_Activity</th>\n",
       "      <th>Monthly_Spend</th>\n",
       "      <th>Churned</th>\n",
       "    </tr>\n",
       "    <tr>\n",
       "      <th>Customer_ID</th>\n",
       "      <th></th>\n",
       "      <th></th>\n",
       "      <th></th>\n",
       "      <th></th>\n",
       "      <th></th>\n",
       "      <th></th>\n",
       "      <th></th>\n",
       "      <th></th>\n",
       "      <th></th>\n",
       "      <th></th>\n",
       "      <th></th>\n",
       "    </tr>\n",
       "  </thead>\n",
       "  <tbody>\n",
       "    <tr>\n",
       "      <th>CUST000001</th>\n",
       "      <td>56.0</td>\n",
       "      <td>55-64</td>\n",
       "      <td>Laki-laki</td>\n",
       "      <td>54</td>\n",
       "      <td>PayPal</td>\n",
       "      <td>0</td>\n",
       "      <td>9.0</td>\n",
       "      <td>108165.52</td>\n",
       "      <td>319</td>\n",
       "      <td>1046442.48</td>\n",
       "      <td>True</td>\n",
       "    </tr>\n",
       "    <tr>\n",
       "      <th>CUST000002</th>\n",
       "      <td>69.0</td>\n",
       "      <td>65-74</td>\n",
       "      <td>Perempuan</td>\n",
       "      <td>21</td>\n",
       "      <td>Debit Card</td>\n",
       "      <td>1</td>\n",
       "      <td>2.0</td>\n",
       "      <td>231999.89</td>\n",
       "      <td>166</td>\n",
       "      <td>627932.88</td>\n",
       "      <td>True</td>\n",
       "    </tr>\n",
       "    <tr>\n",
       "      <th>CUST000003</th>\n",
       "      <td>46.0</td>\n",
       "      <td>45-54</td>\n",
       "      <td>Perempuan</td>\n",
       "      <td>49</td>\n",
       "      <td>PayPal</td>\n",
       "      <td>3</td>\n",
       "      <td>8.0</td>\n",
       "      <td>335447.91</td>\n",
       "      <td>207</td>\n",
       "      <td>1041556.50</td>\n",
       "      <td>False</td>\n",
       "    </tr>\n",
       "    <tr>\n",
       "      <th>CUST000004</th>\n",
       "      <td>32.0</td>\n",
       "      <td>25-34</td>\n",
       "      <td>Laki-laki</td>\n",
       "      <td>47</td>\n",
       "      <td>Debit Card</td>\n",
       "      <td>3</td>\n",
       "      <td>1.0</td>\n",
       "      <td>225597.57</td>\n",
       "      <td>108</td>\n",
       "      <td>690102.79</td>\n",
       "      <td>True</td>\n",
       "    </tr>\n",
       "    <tr>\n",
       "      <th>CUST000005</th>\n",
       "      <td>60.0</td>\n",
       "      <td>55-64</td>\n",
       "      <td>Laki-laki</td>\n",
       "      <td>6</td>\n",
       "      <td>Credit Card</td>\n",
       "      <td>2</td>\n",
       "      <td>NaN</td>\n",
       "      <td>222059.44</td>\n",
       "      <td>65</td>\n",
       "      <td>774512.33</td>\n",
       "      <td>False</td>\n",
       "    </tr>\n",
       "    <tr>\n",
       "      <th>...</th>\n",
       "      <td>...</td>\n",
       "      <td>...</td>\n",
       "      <td>...</td>\n",
       "      <td>...</td>\n",
       "      <td>...</td>\n",
       "      <td>...</td>\n",
       "      <td>...</td>\n",
       "      <td>...</td>\n",
       "      <td>...</td>\n",
       "      <td>...</td>\n",
       "      <td>...</td>\n",
       "    </tr>\n",
       "    <tr>\n",
       "      <th>CUST004996</th>\n",
       "      <td>24.0</td>\n",
       "      <td>15-24</td>\n",
       "      <td>Laki-laki</td>\n",
       "      <td>5</td>\n",
       "      <td>Debit Card</td>\n",
       "      <td>0</td>\n",
       "      <td>8.0</td>\n",
       "      <td>303773.27</td>\n",
       "      <td>121</td>\n",
       "      <td>869536.25</td>\n",
       "      <td>False</td>\n",
       "    </tr>\n",
       "    <tr>\n",
       "      <th>CUST004997</th>\n",
       "      <td>66.0</td>\n",
       "      <td>65-74</td>\n",
       "      <td>Perempuan</td>\n",
       "      <td>12</td>\n",
       "      <td>PayPal</td>\n",
       "      <td>3</td>\n",
       "      <td>5.0</td>\n",
       "      <td>98393.56</td>\n",
       "      <td>192</td>\n",
       "      <td>611927.08</td>\n",
       "      <td>False</td>\n",
       "    </tr>\n",
       "    <tr>\n",
       "      <th>CUST004998</th>\n",
       "      <td>26.0</td>\n",
       "      <td>25-34</td>\n",
       "      <td>Perempuan</td>\n",
       "      <td>1</td>\n",
       "      <td>Credit Card</td>\n",
       "      <td>2</td>\n",
       "      <td>8.0</td>\n",
       "      <td>113893.92</td>\n",
       "      <td>354</td>\n",
       "      <td>708804.30</td>\n",
       "      <td>True</td>\n",
       "    </tr>\n",
       "    <tr>\n",
       "      <th>CUST004999</th>\n",
       "      <td>53.0</td>\n",
       "      <td>45-54</td>\n",
       "      <td>Perempuan</td>\n",
       "      <td>44</td>\n",
       "      <td>Debit Card</td>\n",
       "      <td>1</td>\n",
       "      <td>10.0</td>\n",
       "      <td>100246.86</td>\n",
       "      <td>31</td>\n",
       "      <td>1012409.09</td>\n",
       "      <td>False</td>\n",
       "    </tr>\n",
       "    <tr>\n",
       "      <th>CUST005000</th>\n",
       "      <td>36.0</td>\n",
       "      <td>35-44</td>\n",
       "      <td>Perempuan</td>\n",
       "      <td>22</td>\n",
       "      <td>Debit Card</td>\n",
       "      <td>1</td>\n",
       "      <td>8.0</td>\n",
       "      <td>191395.69</td>\n",
       "      <td>357</td>\n",
       "      <td>833649.56</td>\n",
       "      <td>True</td>\n",
       "    </tr>\n",
       "  </tbody>\n",
       "</table>\n",
       "<p>5000 rows × 11 columns</p>\n",
       "</div>"
      ],
      "text/plain": [
       "              Age Age_Group     Gender  Subscription_Length Payment_Method  \\\n",
       "Customer_ID                                                                  \n",
       "CUST000001   56.0     55-64  Laki-laki                   54         PayPal   \n",
       "CUST000002   69.0     65-74  Perempuan                   21     Debit Card   \n",
       "CUST000003   46.0     45-54  Perempuan                   49         PayPal   \n",
       "CUST000004   32.0     25-34  Laki-laki                   47     Debit Card   \n",
       "CUST000005   60.0     55-64  Laki-laki                    6    Credit Card   \n",
       "...           ...       ...        ...                  ...            ...   \n",
       "CUST004996   24.0     15-24  Laki-laki                    5     Debit Card   \n",
       "CUST004997   66.0     65-74  Perempuan                   12         PayPal   \n",
       "CUST004998   26.0     25-34  Perempuan                    1    Credit Card   \n",
       "CUST004999   53.0     45-54  Perempuan                   44     Debit Card   \n",
       "CUST005000   36.0     35-44  Perempuan                   22     Debit Card   \n",
       "\n",
       "             Support_Tickets_Raised  Satisfaction_Score  Discount_Offered  \\\n",
       "Customer_ID                                                                 \n",
       "CUST000001                        0                 9.0         108165.52   \n",
       "CUST000002                        1                 2.0         231999.89   \n",
       "CUST000003                        3                 8.0         335447.91   \n",
       "CUST000004                        3                 1.0         225597.57   \n",
       "CUST000005                        2                 NaN         222059.44   \n",
       "...                             ...                 ...               ...   \n",
       "CUST004996                        0                 8.0         303773.27   \n",
       "CUST004997                        3                 5.0          98393.56   \n",
       "CUST004998                        2                 8.0         113893.92   \n",
       "CUST004999                        1                10.0         100246.86   \n",
       "CUST005000                        1                 8.0         191395.69   \n",
       "\n",
       "             Last_Activity  Monthly_Spend  Churned  \n",
       "Customer_ID                                         \n",
       "CUST000001             319     1046442.48     True  \n",
       "CUST000002             166      627932.88     True  \n",
       "CUST000003             207     1041556.50    False  \n",
       "CUST000004             108      690102.79     True  \n",
       "CUST000005              65      774512.33    False  \n",
       "...                    ...            ...      ...  \n",
       "CUST004996             121      869536.25    False  \n",
       "CUST004997             192      611927.08    False  \n",
       "CUST004998             354      708804.30     True  \n",
       "CUST004999              31     1012409.09    False  \n",
       "CUST005000             357      833649.56     True  \n",
       "\n",
       "[5000 rows x 11 columns]"
      ]
     },
     "execution_count": 873,
     "metadata": {},
     "output_type": "execute_result"
    }
   ],
   "source": [
    "df_clean = df_6\n",
    "\n",
    "df_clean"
   ]
  },
  {
   "cell_type": "markdown",
   "id": "ebe9093a",
   "metadata": {},
   "source": [
    "Jumlah baris `5.000` dan jumlah kolom `11` plus kolom _index_ `Customer_ID`"
   ]
  },
  {
   "cell_type": "code",
   "execution_count": 874,
   "id": "fccedd7d",
   "metadata": {},
   "outputs": [
    {
     "name": "stdout",
     "output_type": "stream",
     "text": [
      "Jumlah Baris: 5000\n",
      "Jumlah Kolom: 11\n"
     ]
    }
   ],
   "source": [
    "print('Jumlah Baris:', df_clean.shape[0])\n",
    "print('Jumlah Kolom:', df_clean.shape[1])"
   ]
  },
  {
   "cell_type": "markdown",
   "id": "a36fdcab",
   "metadata": {},
   "source": [
    "### **2. Export Data ke File CSV**"
   ]
  },
  {
   "cell_type": "markdown",
   "id": "9e5ca487",
   "metadata": {},
   "source": [
    "Data yang telah dibersihkan akan di-export ke dalam bentuk CSV supaya bisa diproses dalam bentuk Dashboard Tableau.\n",
    "\n",
    "File hasil _data cleaning_ adalah [streaming_clean.csv](./streaming_clean.csv)"
   ]
  },
  {
   "cell_type": "code",
   "execution_count": 875,
   "id": "ea4451b7",
   "metadata": {},
   "outputs": [],
   "source": [
    "export_csv_filename = 'streaming_clean.csv'\n",
    "df_clean.to_csv(f'./{export_csv_filename}')"
   ]
  },
  {
   "cell_type": "markdown",
   "id": "6e62510e",
   "metadata": {},
   "source": [
    "---"
   ]
  },
  {
   "cell_type": "markdown",
   "id": "1f57c66f",
   "metadata": {},
   "source": [
    "# **V. Exploration and Analysis**"
   ]
  },
  {
   "cell_type": "markdown",
   "id": "260511fc",
   "metadata": {},
   "source": [
    "Analisis distribusi pada data streaming service dibagi menjadi dua, yaitu:\n",
    "  1. Analisis pada kolom numerik yang menggunakan _central tendency_ dan _normal test_\n",
    "  2. Analisis pada kolom kategorikal yang menggunakan agregasi _count_"
   ]
  },
  {
   "cell_type": "markdown",
   "id": "1c56511b",
   "metadata": {},
   "source": [
    "## **A. Analisis Distribusi Kolom Numerik**"
   ]
  },
  {
   "cell_type": "markdown",
   "id": "240f636a",
   "metadata": {},
   "source": [
    "### **1. Kolom Numerik `Last_Activity`**"
   ]
  },
  {
   "cell_type": "markdown",
   "id": "dbdf33ba",
   "metadata": {},
   "source": [
    "#### **a. Central Tendency pada Kolom `Last_Activity`**"
   ]
  },
  {
   "cell_type": "code",
   "execution_count": 916,
   "id": "823f215b",
   "metadata": {},
   "outputs": [
    {
     "name": "stdout",
     "output_type": "stream",
     "text": [
      "[Last_Activity] Minimum   : 1.00\n",
      "[Last_Activity] Maksimum  : 364.00\n",
      "[Last_Activity] Rata-rata : 181.44\n",
      "[Last_Activity] Median    : 182.00\n"
     ]
    }
   ],
   "source": [
    "print(f'[Last_Activity] Minimum   : {df_clean['Last_Activity'].min():.2f}')\n",
    "print(f'[Last_Activity] Maksimum  : {df_clean['Last_Activity'].max():.2f}')\n",
    "print(f'[Last_Activity] Rata-rata : {df_clean['Last_Activity'].mean():.2f}')\n",
    "print(f'[Last_Activity] Median    : {df_clean['Last_Activity'].median():.2f}')\n",
    "# df_clean['Last_Activity'].value_counts().sort_index().plot(kind='bar')"
   ]
  },
  {
   "cell_type": "markdown",
   "id": "d1c1e378",
   "metadata": {},
   "source": [
    "#### **b. Normal Test pada Kolom `Last_Activity`**"
   ]
  },
  {
   "cell_type": "markdown",
   "id": "b6e66e36",
   "metadata": {},
   "source": [
    "Dari _skewness_ dengan nilai negatif `-0.0008428635` namun sangat mendekati nol (`-0.5 < skewness < 0.5`), maka:\n",
    "\n",
    "> **Kolom `Last_Activity` memiliki distribusi normal yang simetris**."
   ]
  },
  {
   "cell_type": "code",
   "execution_count": 917,
   "id": "f13ec23f",
   "metadata": {},
   "outputs": [
    {
     "name": "stdout",
     "output_type": "stream",
     "text": [
      "[Last_Activity] normaltest p-value : 0.0000000000\n",
      "[Last_Activity] shapiro p-value    : 0.0000000000\n",
      "[Last_Activity] skewness           : -0.0008428635\n",
      "[Last_Activity] kurtosis           : -1.1981283180\n",
      "[Last_Activity] average            : 181.4414000000\n",
      "[Last_Activity] median             : 182.0000000000\n"
     ]
    }
   ],
   "source": [
    "print(f'[Last_Activity] normaltest p-value : {stats.normaltest(df_clean['Last_Activity']).pvalue:.10f}')\n",
    "print(f'[Last_Activity] shapiro p-value    : {stats.shapiro(df_clean['Last_Activity']).pvalue:.10f}')\n",
    "print(f'[Last_Activity] skewness           : {stats.skew(df_clean['Last_Activity']):.10f}')\n",
    "print(f'[Last_Activity] kurtosis           : {stats.kurtosis(df_clean['Last_Activity']):.10f}')\n",
    "print(f'[Last_Activity] average            : {df_clean['Last_Activity'].mean():.10f}')\n",
    "print(f'[Last_Activity] median             : {df_clean['Last_Activity'].median():.10f}')\n",
    "# df_clean['Last_Activity'].value_counts().sort_index()#.plot(kind='bar')"
   ]
  },
  {
   "cell_type": "markdown",
   "id": "8e82dff1",
   "metadata": {},
   "source": [
    "### **2. Kolom Numerik Monthly_Spend**"
   ]
  },
  {
   "cell_type": "markdown",
   "id": "6eddf3d1",
   "metadata": {},
   "source": [
    "#### **a. Central Tendency pada Kolom `Monthly_Spend`**"
   ]
  },
  {
   "cell_type": "code",
   "execution_count": 918,
   "id": "88266a5d",
   "metadata": {},
   "outputs": [
    {
     "name": "stdout",
     "output_type": "stream",
     "text": [
      "[Monthly_Spend] Minimum   : -85251.96\n",
      "[Monthly_Spend] Maksimum  : 2313428.06\n",
      "[Monthly_Spend] Rata-rata : 785460.03\n",
      "[Monthly_Spend] Median    : 785547.91\n"
     ]
    }
   ],
   "source": [
    "print(f'[Monthly_Spend] Minimum   : {df_clean['Monthly_Spend'].min():.2f}')\n",
    "print(f'[Monthly_Spend] Maksimum  : {df_clean['Monthly_Spend'].max():.2f}')\n",
    "print(f'[Monthly_Spend] Rata-rata : {df_clean['Monthly_Spend'].mean():.2f}')\n",
    "print(f'[Monthly_Spend] Median    : {df_clean['Monthly_Spend'].median():.2f}')\n",
    "# df_clean['Monthly_Spend'].value_counts().sort_index().plot(kind='hist')"
   ]
  },
  {
   "cell_type": "markdown",
   "id": "9e139662",
   "metadata": {},
   "source": [
    "#### **b. Normal Test pada Kolom `Monthly_Spend`**"
   ]
  },
  {
   "cell_type": "markdown",
   "id": "3074963b",
   "metadata": {},
   "source": [
    "Dari _skewness_ dengan nilai positif `0.2028798683` namun masih mendekati nol (`-0.5 < skewness < 0.5`), maka:\n",
    "\n",
    "> **Kolom `Monthly_Spend` memiliki distribusi normal yang simetris**."
   ]
  },
  {
   "cell_type": "code",
   "execution_count": 919,
   "id": "989fb8f2",
   "metadata": {},
   "outputs": [
    {
     "name": "stdout",
     "output_type": "stream",
     "text": [
      "[Monthly_Spend] normaltest p-value : 0.0000000000\n",
      "[Monthly_Spend] shapiro p-value    : 0.0000000000\n",
      "[Monthly_Spend] skewness           : 0.2028798659\n",
      "[Monthly_Spend] kurtosis           : 1.9039983023\n",
      "[Monthly_Spend] median             : 785547.9100000000\n",
      "[Monthly_Spend] average            : 785460.0289240000\n"
     ]
    }
   ],
   "source": [
    "print(f'[Monthly_Spend] normaltest p-value : {stats.normaltest(df_clean['Monthly_Spend']).pvalue:.10f}')\n",
    "print(f'[Monthly_Spend] shapiro p-value    : {stats.shapiro(df_clean['Monthly_Spend']).pvalue:.10f}')\n",
    "print(f'[Monthly_Spend] skewness           : {stats.skew(df_clean['Monthly_Spend']):.10f}')\n",
    "print(f'[Monthly_Spend] kurtosis           : {stats.kurtosis(df_clean['Monthly_Spend']):.10f}')\n",
    "print(f'[Monthly_Spend] median             : {df_clean['Monthly_Spend'].median():.10f}')\n",
    "print(f'[Monthly_Spend] average            : {df_clean['Monthly_Spend'].mean():.10f}')\n",
    "# df_clean['Monthly_Spend'].value_counts().sort_index()#.plot(kind='bar')"
   ]
  },
  {
   "cell_type": "markdown",
   "id": "509e0f2a",
   "metadata": {},
   "source": [
    "### **3. Kolom Numerik `Discount_Offered`**"
   ]
  },
  {
   "cell_type": "markdown",
   "id": "58a26592",
   "metadata": {},
   "source": [
    "#### **a. Central Tendency pada Kolom `Discount_Offered`**"
   ]
  },
  {
   "cell_type": "code",
   "execution_count": 920,
   "id": "fad9024b",
   "metadata": {},
   "outputs": [
    {
     "name": "stdout",
     "output_type": "stream",
     "text": [
      "[Discount_Offered] Minimum   : 84241.06\n",
      "[Discount_Offered] Maksimum  : 336964.25\n",
      "[Discount_Offered] Rata-rata : 209901.84\n",
      "[Discount_Offered] Median    : 210602.66\n"
     ]
    }
   ],
   "source": [
    "print(f'[Discount_Offered] Minimum   : {df_clean['Discount_Offered'].min():.2f}')\n",
    "print(f'[Discount_Offered] Maksimum  : {df_clean['Discount_Offered'].max():.2f}')\n",
    "print(f'[Discount_Offered] Rata-rata : {df_clean['Discount_Offered'].mean():.2f}')\n",
    "print(f'[Discount_Offered] Median    : {df_clean['Discount_Offered'].median():.2f}')"
   ]
  },
  {
   "cell_type": "markdown",
   "id": "50bff805",
   "metadata": {},
   "source": [
    "#### **b. Normal Test pada Kolom `Discount_Offered`**"
   ]
  },
  {
   "cell_type": "markdown",
   "id": "002dc60e",
   "metadata": {},
   "source": [
    "Dari _skewness_ dengan nilai negatif `0.0084179746` namun sangat mendekati nol (`-0.5 < skewness < 0.5`), maka:\n",
    "\n",
    "> **Kolom `Discount_Offered` memiliki distribusi normal yang simetris**."
   ]
  },
  {
   "cell_type": "code",
   "execution_count": 921,
   "id": "830810f2",
   "metadata": {},
   "outputs": [
    {
     "name": "stdout",
     "output_type": "stream",
     "text": [
      "[Discount_Offered] normaltest p-value : 0.0000000000\n",
      "[Discount_Offered] shapiro p-value    : 0.0000000000\n",
      "[Discount_Offered] skewness           : 0.0084179741\n",
      "[Discount_Offered] kurtosis           : -1.2028454082\n",
      "[Discount_Offered] median             : 210602.6600000000\n",
      "[Discount_Offered] average            : 209901.8383720000\n"
     ]
    }
   ],
   "source": [
    "print(f'[Discount_Offered] normaltest p-value : {stats.normaltest(df_clean['Discount_Offered']).pvalue:.10f}')\n",
    "print(f'[Discount_Offered] shapiro p-value    : {stats.shapiro(df_clean['Discount_Offered']).pvalue:.10f}')\n",
    "print(f'[Discount_Offered] skewness           : {stats.skew(df_clean['Discount_Offered']):.10f}')\n",
    "print(f'[Discount_Offered] kurtosis           : {stats.kurtosis(df_clean['Discount_Offered']):.10f}')\n",
    "print(f'[Discount_Offered] median             : {df_clean['Discount_Offered'].median():.10f}')\n",
    "print(f'[Discount_Offered] average            : {df_clean['Discount_Offered'].mean():.10f}')"
   ]
  },
  {
   "cell_type": "markdown",
   "id": "0f979e9e",
   "metadata": {},
   "source": [
    "### **4. Kolom Numerik `Support_Tickets_Raised`**"
   ]
  },
  {
   "cell_type": "markdown",
   "id": "ad0ca7f5",
   "metadata": {},
   "source": [
    "#### **a. Central Tendency pada Kolom `Support_Tickets_Raised`**"
   ]
  },
  {
   "cell_type": "code",
   "execution_count": 922,
   "id": "272618ad",
   "metadata": {},
   "outputs": [
    {
     "name": "stdout",
     "output_type": "stream",
     "text": [
      "[Support_Tickets_Raised] Minimum   : 0.00\n",
      "[Support_Tickets_Raised] Maksimum  : 9.00\n",
      "[Support_Tickets_Raised] Rata-rata : 2.04\n",
      "[Support_Tickets_Raised] Median    : 2.00\n"
     ]
    }
   ],
   "source": [
    "print(f'[Support_Tickets_Raised] Minimum   : {df_clean['Support_Tickets_Raised'].min():.2f}')\n",
    "print(f'[Support_Tickets_Raised] Maksimum  : {df_clean['Support_Tickets_Raised'].max():.2f}')\n",
    "print(f'[Support_Tickets_Raised] Rata-rata : {df_clean['Support_Tickets_Raised'].mean():.2f}')\n",
    "print(f'[Support_Tickets_Raised] Median    : {df_clean['Support_Tickets_Raised'].median():.2f}')"
   ]
  },
  {
   "cell_type": "markdown",
   "id": "feef1b61",
   "metadata": {},
   "source": [
    "#### **b. Normal Test pada Kolom `Support_Tickets_Raised`**"
   ]
  },
  {
   "cell_type": "markdown",
   "id": "35783657",
   "metadata": {},
   "source": [
    "Dari _skewness_ dengan nilai positif `0.7435583513` dan di atas `0.5` (`skewness > 0.5`), maka:\n",
    "\n",
    "> **Kolom `Support_Tickets_Raised` memiliki distribusi normal dengan kemiringan positif sedang, ke arah nilai minimum (kiri)**."
   ]
  },
  {
   "cell_type": "code",
   "execution_count": 923,
   "id": "978d2ecd",
   "metadata": {},
   "outputs": [
    {
     "name": "stdout",
     "output_type": "stream",
     "text": [
      "[Support_Tickets_Raised] normaltest p-value : 2.0130694929582423e-91\n",
      "[Support_Tickets_Raised] shapiro p-value    : 1.2213572958745686e-45\n",
      "[Support_Tickets_Raised] skewness           : 0.7435583513\n",
      "[Support_Tickets_Raised] kurtosis           : 0.5951943050\n",
      "[Support_Tickets_Raised] median             : 2.0000000000\n",
      "[Support_Tickets_Raised] average            : 2.0370000000\n"
     ]
    }
   ],
   "source": [
    "print(f'[Support_Tickets_Raised] normaltest p-value : {stats.normaltest(df_clean['Support_Tickets_Raised']).pvalue}')\n",
    "print(f'[Support_Tickets_Raised] shapiro p-value    : {stats.shapiro(df_clean['Support_Tickets_Raised']).pvalue}')\n",
    "print(f'[Support_Tickets_Raised] skewness           : {stats.skew(df_clean['Support_Tickets_Raised']):.10f}')\n",
    "print(f'[Support_Tickets_Raised] kurtosis           : {stats.kurtosis(df_clean['Support_Tickets_Raised']):.10f}')\n",
    "print(f'[Support_Tickets_Raised] median             : {df_clean['Support_Tickets_Raised'].median():.10f}')\n",
    "print(f'[Support_Tickets_Raised] average            : {df_clean['Support_Tickets_Raised'].mean():.10f}')"
   ]
  },
  {
   "cell_type": "markdown",
   "id": "655fbca2",
   "metadata": {},
   "source": [
    "### **5. Kolom Numerik `Subscription_Length`**"
   ]
  },
  {
   "cell_type": "markdown",
   "id": "2b1f8f98",
   "metadata": {},
   "source": [
    "#### **a. Central Tendency pada Kolom `Subscription_Length`**"
   ]
  },
  {
   "cell_type": "code",
   "execution_count": 924,
   "id": "b8c384be",
   "metadata": {},
   "outputs": [
    {
     "name": "stdout",
     "output_type": "stream",
     "text": [
      "[Subscription_Length] Minimum   : 1.00\n",
      "[Subscription_Length] Maksimum  : 59.00\n",
      "[Subscription_Length] Rata-rata : 29.70\n",
      "[Subscription_Length] Median    : 29.00\n"
     ]
    }
   ],
   "source": [
    "print(f'[Subscription_Length] Minimum   : {df_clean['Subscription_Length'].min():.2f}')\n",
    "print(f'[Subscription_Length] Maksimum  : {df_clean['Subscription_Length'].max():.2f}')\n",
    "print(f'[Subscription_Length] Rata-rata : {df_clean['Subscription_Length'].mean():.2f}')\n",
    "print(f'[Subscription_Length] Median    : {df_clean['Subscription_Length'].median():.2f}')"
   ]
  },
  {
   "cell_type": "markdown",
   "id": "0872521f",
   "metadata": {},
   "source": [
    "#### **b. Normal Test pada Kolom `Subscription_Length`**"
   ]
  },
  {
   "cell_type": "markdown",
   "id": "433c299b",
   "metadata": {},
   "source": [
    "Dari _skewness_ dengan nilai positif `0.0404987922` namun sangat mendekati nol (`-0.5 < skewness < 0.5`), maka:\n",
    "\n",
    "> **Kolom `Subscription_Length` memiliki distribusi normal yang simetris**."
   ]
  },
  {
   "cell_type": "code",
   "execution_count": 925,
   "id": "1d252c06",
   "metadata": {},
   "outputs": [
    {
     "name": "stdout",
     "output_type": "stream",
     "text": [
      "[Subscription_Length] normaltest p-value : 0.0\n",
      "[Subscription_Length] shapiro p-value    : 5.773629306695894e-37\n",
      "[Subscription_Length] skewness           : 0.0404987922\n",
      "[Subscription_Length] kurtosis           : -1.1950202238\n",
      "[Subscription_Length] median             : 29.0000000000\n",
      "[Subscription_Length] average            : 29.7044000000\n"
     ]
    }
   ],
   "source": [
    "print(f'[Subscription_Length] normaltest p-value : {stats.normaltest(df_clean['Subscription_Length']).pvalue}')\n",
    "print(f'[Subscription_Length] shapiro p-value    : {stats.shapiro(df_clean['Subscription_Length']).pvalue}')\n",
    "print(f'[Subscription_Length] skewness           : {stats.skew(df_clean['Subscription_Length']):.10f}')\n",
    "print(f'[Subscription_Length] kurtosis           : {stats.kurtosis(df_clean['Subscription_Length']):.10f}')\n",
    "print(f'[Subscription_Length] median             : {df_clean['Subscription_Length'].median():.10f}')\n",
    "print(f'[Subscription_Length] average            : {df_clean['Subscription_Length'].mean():.10f}')"
   ]
  },
  {
   "cell_type": "markdown",
   "id": "beac63f2",
   "metadata": {},
   "source": [
    "### **6. Kolom Numerik `Age`**"
   ]
  },
  {
   "cell_type": "markdown",
   "id": "83c1fb3f",
   "metadata": {},
   "source": [
    "#### **a. Central Tendency pada Kolom `Age`**"
   ]
  },
  {
   "cell_type": "code",
   "execution_count": 926,
   "id": "613944cd",
   "metadata": {},
   "outputs": [
    {
     "name": "stdout",
     "output_type": "stream",
     "text": [
      "[Age] Minimum   : 18.00\n",
      "[Age] Maksimum  : 69.00\n",
      "[Age] Rata-rata : 43.58\n",
      "[Age] Median    : 43.00\n"
     ]
    }
   ],
   "source": [
    "print(f'[Age] Minimum   : {df_clean['Age'].min():.2f}')\n",
    "print(f'[Age] Maksimum  : {df_clean['Age'].max():.2f}')\n",
    "print(f'[Age] Rata-rata : {df_clean['Age'].mean():.2f}')\n",
    "print(f'[Age] Median    : {df_clean['Age'].median():.2f}')"
   ]
  },
  {
   "cell_type": "markdown",
   "id": "64c22d09",
   "metadata": {},
   "source": [
    "#### **b. Normal Test pada Kolom `Age`**"
   ]
  },
  {
   "cell_type": "markdown",
   "id": "91f519f0",
   "metadata": {},
   "source": [
    "Dari _skewness_ dengan nilai negatif `-0.0066774549` namun sangat mendekati nol (`-0.5 < skewness < 0.5`), maka:\n",
    "\n",
    "> **Kolom `Age` memiliki distribusi normal yang simetris**."
   ]
  },
  {
   "cell_type": "code",
   "execution_count": 927,
   "id": "2aa999cf",
   "metadata": {},
   "outputs": [
    {
     "name": "stdout",
     "output_type": "stream",
     "text": [
      "[Age] normaltest p-value : 0.0\n",
      "[Age] shapiro p-value    : 3.924054133603813e-35\n",
      "[Age] skewness           : -0.0066774549\n",
      "[Age] kurtosis           : -1.1835724746\n",
      "[Age] median             : 43.0000000000\n",
      "[Age] average            : 43.5822222222\n"
     ]
    }
   ],
   "source": [
    "print(f'[Age] normaltest p-value : {stats.normaltest(df_clean['Age'].dropna()).pvalue}')\n",
    "print(f'[Age] shapiro p-value    : {stats.shapiro(df_clean['Age'].dropna()).pvalue}')\n",
    "print(f'[Age] skewness           : {stats.skew(df_clean['Age'].dropna()):.10f}')\n",
    "print(f'[Age] kurtosis           : {stats.kurtosis(df_clean['Age'].dropna()):.10f}')\n",
    "print(f'[Age] median             : {df_clean['Age'].median():.10f}')\n",
    "print(f'[Age] average            : {df_clean['Age'].mean():.10f}')"
   ]
  },
  {
   "cell_type": "markdown",
   "id": "b7d5b445",
   "metadata": {},
   "source": [
    "## **B. Analisis Distribusi Kolom Kategorikal**"
   ]
  },
  {
   "cell_type": "markdown",
   "id": "ac983fe8",
   "metadata": {},
   "source": [
    "### **1. Kolom Kategorikal `Age_Group`**"
   ]
  },
  {
   "cell_type": "code",
   "execution_count": 928,
   "id": "a28445b1",
   "metadata": {},
   "outputs": [
    {
     "data": {
      "image/png": "[encoded data removed]",
      "text/plain": [
       "<Figure size 640x480 with 1 Axes>"
      ]
     },
     "metadata": {},
     "output_type": "display_data"
    }
   ],
   "source": [
    "analysis_age_group_plot = df_clean['Age_Group'].value_counts().sort_index().plot.bar(\n",
    "    rot=0,\n",
    "    title='Distribusi Kelompok Usia'\n",
    ")\n",
    "analysis_age_group_plot.set_xlabel('Kelompok Usia')\n",
    "analysis_age_group_plot.set_ylabel('Jumlah')\n",
    "analysis_age_group_plot.bar_label(analysis_age_group_plot.containers[0])\n",
    "plt.savefig(f'{plot_dir}/plot_1_age_group.jpg', bbox_inches='tight')\n",
    "plt.show()"
   ]
  },
  {
   "cell_type": "markdown",
   "id": "fbbe22fa",
   "metadata": {},
   "source": [
    "### **2. Kolom Kategorikal `Gender`**"
   ]
  },
  {
   "cell_type": "code",
   "execution_count": 929,
   "id": "f1085184",
   "metadata": {},
   "outputs": [
    {
     "data": {
      "image/png": "[encoded data removed]",
      "text/plain": [
       "<Figure size 640x480 with 1 Axes>"
      ]
     },
     "metadata": {},
     "output_type": "display_data"
    }
   ],
   "source": [
    "analysis_gender_plot = df_clean['Gender'].value_counts().sort_index().plot.pie(\n",
    "    title='Distribusi Jenis Kelamin',\n",
    "    label='',\n",
    "    autopct=lambda pct: f'{pct:.2f}%\\n' + f'({round(len(df_clean)*pct/100,0):,.0f})'.replace(',', '.')\n",
    ")\n",
    "plt.savefig(f'{plot_dir}/plot_2_gender.jpg', bbox_inches='tight')\n",
    "plt.show()"
   ]
  },
  {
   "cell_type": "markdown",
   "id": "99807a30",
   "metadata": {},
   "source": [
    "### **3. Kolom Kategorikal `Payment_Method`**"
   ]
  },
  {
   "cell_type": "code",
   "execution_count": 930,
   "id": "22f67de6",
   "metadata": {},
   "outputs": [
    {
     "data": {
      "image/png": "[encoded data removed]",
      "text/plain": [
       "<Figure size 640x480 with 1 Axes>"
      ]
     },
     "metadata": {},
     "output_type": "display_data"
    }
   ],
   "source": [
    "analysis_payment_method_plot = df_clean['Payment_Method'].value_counts().sort_index().plot.bar(\n",
    "    rot=0,\n",
    "    title='Distribusi Metode Pembayaran'\n",
    ")\n",
    "analysis_payment_method_plot.set_xlabel('Metode Pembayaran')\n",
    "analysis_payment_method_plot.set_ylabel('Jumlah')\n",
    "analysis_payment_method_plot.bar_label(analysis_payment_method_plot.containers[0])\n",
    "plt.savefig(f'{plot_dir}/plot_3_payment_method.jpg', bbox_inches='tight')\n",
    "plt.show()"
   ]
  },
  {
   "cell_type": "markdown",
   "id": "1af69839",
   "metadata": {},
   "source": [
    "### **4. Kolom Kategorikal `Churned`**"
   ]
  },
  {
   "cell_type": "code",
   "execution_count": 931,
   "id": "a1d8bc03",
   "metadata": {},
   "outputs": [
    {
     "data": {
      "image/png": "[encoded data removed]",
      "text/plain": [
       "<Figure size 640x480 with 1 Axes>"
      ]
     },
     "metadata": {},
     "output_type": "display_data"
    }
   ],
   "source": [
    "df_churned     = df_clean[df_clean['Churned'] == True]\n",
    "df_not_churned = df_clean[df_clean['Churned'] == False]\n",
    "\n",
    "# print('Banyak customer yang tidak mengikuti streaming :', len(df_churned))\n",
    "# print('Banyak customer yang masih mengikuti streaming :', len(df_not_churned))\n",
    "df_churneds_plot = pd.DataFrame({'value': [len(df_not_churned.index), len(df_churned.index)]}, index=['Masih', 'Tidak']).plot.pie(\n",
    "    y='value', \n",
    "    label='',\n",
    "    title='Apakah Customer Masih Streaming?',\n",
    "    autopct=lambda pct: f'{pct:.2f}%\\n' + f'({round(len(df_clean)*pct/100,0):,.0f})'.replace(',', '.')\n",
    ")\n",
    "plt.savefig(f'{plot_dir}/plot_4_churned.jpg', bbox_inches='tight')\n",
    "plt.show()"
   ]
  },
  {
   "cell_type": "markdown",
   "id": "2b409394",
   "metadata": {},
   "source": [
    "### **5. Kolom Ordinal `Satisfaction_Score`**"
   ]
  },
  {
   "cell_type": "code",
   "execution_count": 932,
   "id": "c5475c02",
   "metadata": {},
   "outputs": [
    {
     "data": {
      "image/png": "[encoded data removed]",
      "text/plain": [
       "<Figure size 640x480 with 1 Axes>"
      ]
     },
     "metadata": {},
     "output_type": "display_data"
    }
   ],
   "source": [
    "analysis_satisfaction_score_plot = df_clean['Satisfaction_Score'].value_counts().sort_index().plot.bar(\n",
    "    rot=0,\n",
    "    title='Distribusi Nilai Kepuasan Customer'\n",
    ")\n",
    "analysis_satisfaction_score_plot.set_xlabel('Nilai Kepuasan Customer')\n",
    "analysis_satisfaction_score_plot.set_ylabel('Jumlah')\n",
    "analysis_satisfaction_score_plot.bar_label(analysis_satisfaction_score_plot.containers[0])\n",
    "plt.savefig(f'{plot_dir}/plot_5_satisfaction_score.jpg', bbox_inches='tight')\n",
    "plt.show()"
   ]
  },
  {
   "cell_type": "markdown",
   "id": "1bced3c9",
   "metadata": {},
   "source": [
    "## **C. Analisis Penjabaran Masalah**"
   ]
  },
  {
   "cell_type": "markdown",
   "id": "23d1bc37",
   "metadata": {},
   "source": [
    "Pada tahap ini, data sudah siap untuk dianalisis lebih lanjut. Pada bagian [Penjabaran Masalah](#e-penjabaran-masalah), sudah didefinisikan pertanyaan-pertanyaan yang akan dijawab dengan cara melakukan analisis data. Setiap pertanyaan akan terbagi menjadi section masing-masing."
   ]
  },
  {
   "cell_type": "markdown",
   "id": "462e5251",
   "metadata": {},
   "source": [
    "### **1. Demografi customer seperti apa jika dilihat dari kelompok usia dan jenis kelamin?**"
   ]
  },
  {
   "cell_type": "markdown",
   "id": "27b28522",
   "metadata": {},
   "source": [
    "Untuk pertanyaan ini, demografi yang digunakan adalah pengelompokan kombinasi antara kelompok usia `Age_Group` dengan jenis kelamin `Gender`."
   ]
  },
  {
   "cell_type": "code",
   "execution_count": 933,
   "id": "61c8135b",
   "metadata": {},
   "outputs": [
    {
     "data": {
      "text/html": [
       "<div>\n",
       "<style scoped>\n",
       "    .dataframe tbody tr th:only-of-type {\n",
       "        vertical-align: middle;\n",
       "    }\n",
       "\n",
       "    .dataframe tbody tr th {\n",
       "        vertical-align: top;\n",
       "    }\n",
       "\n",
       "    .dataframe thead th {\n",
       "        text-align: right;\n",
       "    }\n",
       "</style>\n",
       "<table border=\"1\" class=\"dataframe\">\n",
       "  <thead>\n",
       "    <tr style=\"text-align: right;\">\n",
       "      <th></th>\n",
       "      <th></th>\n",
       "      <th>Customer_ID</th>\n",
       "    </tr>\n",
       "    <tr>\n",
       "      <th>Age_Group</th>\n",
       "      <th>Gender</th>\n",
       "      <th></th>\n",
       "    </tr>\n",
       "  </thead>\n",
       "  <tbody>\n",
       "    <tr>\n",
       "      <th rowspan=\"2\" valign=\"top\">15-24</th>\n",
       "      <th>Laki-laki</th>\n",
       "      <td>294</td>\n",
       "    </tr>\n",
       "    <tr>\n",
       "      <th>Perempuan</th>\n",
       "      <td>294</td>\n",
       "    </tr>\n",
       "    <tr>\n",
       "      <th rowspan=\"2\" valign=\"top\">25-34</th>\n",
       "      <th>Laki-laki</th>\n",
       "      <td>420</td>\n",
       "    </tr>\n",
       "    <tr>\n",
       "      <th>Perempuan</th>\n",
       "      <td>435</td>\n",
       "    </tr>\n",
       "    <tr>\n",
       "      <th rowspan=\"2\" valign=\"top\">35-44</th>\n",
       "      <th>Laki-laki</th>\n",
       "      <td>449</td>\n",
       "    </tr>\n",
       "    <tr>\n",
       "      <th>Perempuan</th>\n",
       "      <td>426</td>\n",
       "    </tr>\n",
       "    <tr>\n",
       "      <th rowspan=\"2\" valign=\"top\">45-54</th>\n",
       "      <th>Laki-laki</th>\n",
       "      <td>473</td>\n",
       "    </tr>\n",
       "    <tr>\n",
       "      <th>Perempuan</th>\n",
       "      <td>436</td>\n",
       "    </tr>\n",
       "    <tr>\n",
       "      <th rowspan=\"2\" valign=\"top\">55-64</th>\n",
       "      <th>Laki-laki</th>\n",
       "      <td>402</td>\n",
       "    </tr>\n",
       "    <tr>\n",
       "      <th>Perempuan</th>\n",
       "      <td>436</td>\n",
       "    </tr>\n",
       "    <tr>\n",
       "      <th rowspan=\"2\" valign=\"top\">65-74</th>\n",
       "      <th>Laki-laki</th>\n",
       "      <td>205</td>\n",
       "    </tr>\n",
       "    <tr>\n",
       "      <th>Perempuan</th>\n",
       "      <td>230</td>\n",
       "    </tr>\n",
       "  </tbody>\n",
       "</table>\n",
       "</div>"
      ],
      "text/plain": [
       "                     Customer_ID\n",
       "Age_Group Gender                \n",
       "15-24     Laki-laki          294\n",
       "          Perempuan          294\n",
       "25-34     Laki-laki          420\n",
       "          Perempuan          435\n",
       "35-44     Laki-laki          449\n",
       "          Perempuan          426\n",
       "45-54     Laki-laki          473\n",
       "          Perempuan          436\n",
       "55-64     Laki-laki          402\n",
       "          Perempuan          436\n",
       "65-74     Laki-laki          205\n",
       "          Perempuan          230"
      ]
     },
     "execution_count": 933,
     "metadata": {},
     "output_type": "execute_result"
    }
   ],
   "source": [
    "problem_1_groupby = df_clean.dropna(subset='Age_Group').reset_index().loc[:, ['Age_Group', 'Gender', 'Customer_ID']].groupby(by=['Age_Group', 'Gender'])\n",
    "\n",
    "problem_1_count = problem_1_groupby.count()\n",
    "\n",
    "problem_1_count"
   ]
  },
  {
   "cell_type": "code",
   "execution_count": 934,
   "id": "6f2c4471",
   "metadata": {},
   "outputs": [
    {
     "data": {
      "image/png": "[encoded data removed]",
      "text/plain": [
       "<Figure size 640x480 with 1 Axes>"
      ]
     },
     "metadata": {},
     "output_type": "display_data"
    }
   ],
   "source": [
    "problem_1_plot = problem_1_count.apply(lambda c: c.apply(lambda x: round(x, 2))).unstack('Gender').sort_index().plot.bar(\n",
    "    rot=0,\n",
    "    title='Demografi',\n",
    ")\n",
    "problem_1_plot.legend(problem_1_count.unstack('Age_Group').index.to_list(), loc='upper right', bbox_to_anchor=(1, -0.1))\n",
    "problem_1_plot.set_xlabel('Kelompok Usia')\n",
    "problem_1_plot.set_ylabel('Jumlah')\n",
    "plt.savefig(f'{plot_dir}/plot_6_problem_1.jpg', bbox_inches='tight')\n",
    "plt.show()"
   ]
  },
  {
   "cell_type": "markdown",
   "id": "81f94ae8",
   "metadata": {},
   "source": [
    "### **2. Demografi customer seperti apa yang paling sering menonton streaming?**"
   ]
  },
  {
   "cell_type": "markdown",
   "id": "d0bd1bea",
   "metadata": {},
   "source": [
    "Untuk pertanyaan ini, demografi yang digunakan adalah kombinasi antara kelompok usia `Age_Group` dengan jenis kelamin `Gender`.\n",
    "\n",
    "Tingkat keseringan menonton streaming didapatkan dari **nilai rata-rata kolom `Last_Activity`** yang menghitung berapa hari customer terakhir kali berinteraksi dengan streaming service. Semakin sedikit angka pada kolom ini artinya customer semakin sering berinteraksi.\n",
    "\n",
    "Selain itu, dilakukan juga filter terhadap kolom `Churned` yang mengindikasikan apakah customer masih lanjut berlangganan streaming atau tidak. Customer yang masih berlangganan memiliki status `Churned` yang `False`."
   ]
  },
  {
   "cell_type": "markdown",
   "id": "4550bbd4",
   "metadata": {},
   "source": [
    "Dari hasil kode berikut, disimpulkan bahwa:\n",
    "\n",
    "> **Demografi kombinasi kelompok usia dan jenis kelamin yang paling sering menonton streaming adalah demografi `Laki-laki` dengan rentang usia `15-24` tahun, dengan rata-rata jarak menonton `139.03` hari**."
   ]
  },
  {
   "cell_type": "code",
   "execution_count": 935,
   "id": "933a93cd",
   "metadata": {},
   "outputs": [
    {
     "name": "stdout",
     "output_type": "stream",
     "text": [
      "Kelompok yang paling sering menonton streaming : [('15-24', 'Laki-laki')]\n",
      "Rata-rata jarak hari menonton streaming        : 139.03 hari\n"
     ]
    },
    {
     "data": {
      "text/html": [
       "<div>\n",
       "<style scoped>\n",
       "    .dataframe tbody tr th:only-of-type {\n",
       "        vertical-align: middle;\n",
       "    }\n",
       "\n",
       "    .dataframe tbody tr th {\n",
       "        vertical-align: top;\n",
       "    }\n",
       "\n",
       "    .dataframe thead th {\n",
       "        text-align: right;\n",
       "    }\n",
       "</style>\n",
       "<table border=\"1\" class=\"dataframe\">\n",
       "  <thead>\n",
       "    <tr style=\"text-align: right;\">\n",
       "      <th></th>\n",
       "      <th></th>\n",
       "      <th>Last_Activity</th>\n",
       "    </tr>\n",
       "    <tr>\n",
       "      <th>Age_Group</th>\n",
       "      <th>Gender</th>\n",
       "      <th></th>\n",
       "    </tr>\n",
       "  </thead>\n",
       "  <tbody>\n",
       "    <tr>\n",
       "      <th rowspan=\"2\" valign=\"top\">15-24</th>\n",
       "      <th>Laki-laki</th>\n",
       "      <td>139.03</td>\n",
       "    </tr>\n",
       "    <tr>\n",
       "      <th>Perempuan</th>\n",
       "      <td>155.22</td>\n",
       "    </tr>\n",
       "    <tr>\n",
       "      <th rowspan=\"2\" valign=\"top\">25-34</th>\n",
       "      <th>Laki-laki</th>\n",
       "      <td>156.44</td>\n",
       "    </tr>\n",
       "    <tr>\n",
       "      <th>Perempuan</th>\n",
       "      <td>157.55</td>\n",
       "    </tr>\n",
       "    <tr>\n",
       "      <th rowspan=\"2\" valign=\"top\">35-44</th>\n",
       "      <th>Laki-laki</th>\n",
       "      <td>143.14</td>\n",
       "    </tr>\n",
       "    <tr>\n",
       "      <th>Perempuan</th>\n",
       "      <td>147.38</td>\n",
       "    </tr>\n",
       "    <tr>\n",
       "      <th rowspan=\"2\" valign=\"top\">45-54</th>\n",
       "      <th>Laki-laki</th>\n",
       "      <td>142.76</td>\n",
       "    </tr>\n",
       "    <tr>\n",
       "      <th>Perempuan</th>\n",
       "      <td>151.22</td>\n",
       "    </tr>\n",
       "    <tr>\n",
       "      <th rowspan=\"2\" valign=\"top\">55-64</th>\n",
       "      <th>Laki-laki</th>\n",
       "      <td>152.12</td>\n",
       "    </tr>\n",
       "    <tr>\n",
       "      <th>Perempuan</th>\n",
       "      <td>148.69</td>\n",
       "    </tr>\n",
       "    <tr>\n",
       "      <th rowspan=\"2\" valign=\"top\">65-74</th>\n",
       "      <th>Laki-laki</th>\n",
       "      <td>157.64</td>\n",
       "    </tr>\n",
       "    <tr>\n",
       "      <th>Perempuan</th>\n",
       "      <td>155.25</td>\n",
       "    </tr>\n",
       "  </tbody>\n",
       "</table>\n",
       "</div>"
      ],
      "text/plain": [
       "                     Last_Activity\n",
       "Age_Group Gender                  \n",
       "15-24     Laki-laki         139.03\n",
       "          Perempuan         155.22\n",
       "25-34     Laki-laki         156.44\n",
       "          Perempuan         157.55\n",
       "35-44     Laki-laki         143.14\n",
       "          Perempuan         147.38\n",
       "45-54     Laki-laki         142.76\n",
       "          Perempuan         151.22\n",
       "55-64     Laki-laki         152.12\n",
       "          Perempuan         148.69\n",
       "65-74     Laki-laki         157.64\n",
       "          Perempuan         155.25"
      ]
     },
     "execution_count": 935,
     "metadata": {},
     "output_type": "execute_result"
    }
   ],
   "source": [
    "# Filter Customer Masih Berlangganan\n",
    "problem_2_not_churned = df_clean[df_clean['Churned'] == False]\n",
    "\n",
    "# Group By Age_Group, Gender\n",
    "problem_2_groupby = problem_2_not_churned.dropna(subset='Age_Group').loc[:, ['Age_Group', 'Gender', 'Last_Activity']].groupby(by=['Age_Group', 'Gender'])\n",
    "\n",
    "# Nilai Rata-rata\n",
    "problem_2_mean = problem_2_groupby.mean()\n",
    "\n",
    "# Split Hasil\n",
    "problem_2_result_index = problem_2_mean.index[0]\n",
    "problem_2_result_num   = round(problem_2_mean.iloc[0, 0], 2)\n",
    "\n",
    "# Print\n",
    "print(f'Kelompok yang paling sering menonton streaming : [{problem_2_result_index}]')\n",
    "print(f'Rata-rata jarak hari menonton streaming        : {problem_2_result_num} hari')\n",
    "problem_2_mean.apply(lambda c: c.apply(lambda x: round(x, 2)))"
   ]
  },
  {
   "cell_type": "code",
   "execution_count": 936,
   "id": "4861f5c7",
   "metadata": {},
   "outputs": [
    {
     "data": {
      "image/png": "[encoded data removed]",
      "text/plain": [
       "<Figure size 640x480 with 1 Axes>"
      ]
     },
     "metadata": {},
     "output_type": "display_data"
    }
   ],
   "source": [
    "problem_2_plot = problem_2_mean.apply(lambda c: c.apply(lambda x: round(x, 2))).unstack('Gender').sort_index().plot.bar(\n",
    "    rot=0,\n",
    "    title='Terakhir Menonton Streaming?',\n",
    ")\n",
    "problem_2_plot.legend(problem_2_mean.unstack('Age_Group').index.to_list(), loc='upper right', bbox_to_anchor=(1, -0.1))\n",
    "problem_2_plot.set_xlabel('Kelompok Usia')\n",
    "problem_2_plot.set_ylabel('Jumlah Hari tidak menonton')\n",
    "plt.savefig(f'{plot_dir}/plot_7_problem_2.jpg', bbox_inches='tight')\n",
    "plt.show()"
   ]
  },
  {
   "cell_type": "markdown",
   "id": "2cc845b1",
   "metadata": {},
   "source": [
    "### **3. Berapa rata-rata jangka waktu customer telah melakukan _subscribe_ berdasarkan demografi?**"
   ]
  },
  {
   "cell_type": "markdown",
   "id": "cee55bfc",
   "metadata": {},
   "source": [
    "Untuk pertanyaan ini, demografi yang digunakan adalah kombinasi antara kelompok usia `Age_Group` dengan jenis kelamin `Gender`.\n",
    "\n",
    "Jangka waktu customer telah melakukan subscribe didapatkan dari **nilai rata-rata kolom `Subscription_Length`** yang menghitung berapa bulan customer telah subscribe streaming service. Semakin banyak angka pada kolom ini artinya customer sudah subscribe sejak lama.\n",
    "\n",
    "Selain itu, dilakukan juga filter terhadap kolom `Churned` yang mengindikasikan apakah customer masih lanjut berlangganan streaming atau tidak. Customer yang masih berlangganan memiliki status `Churned` yang `False`."
   ]
  },
  {
   "cell_type": "markdown",
   "id": "22c5e17c",
   "metadata": {},
   "source": [
    "**Hasil rata-rata jangka waktu customer telah melakukan _subscribe_ berdasarkan demografi dapat dilihat pada grafik batang di bawah ini.**"
   ]
  },
  {
   "cell_type": "code",
   "execution_count": 937,
   "id": "239c2876",
   "metadata": {},
   "outputs": [
    {
     "data": {
      "text/html": [
       "<div>\n",
       "<style scoped>\n",
       "    .dataframe tbody tr th:only-of-type {\n",
       "        vertical-align: middle;\n",
       "    }\n",
       "\n",
       "    .dataframe tbody tr th {\n",
       "        vertical-align: top;\n",
       "    }\n",
       "\n",
       "    .dataframe thead th {\n",
       "        text-align: right;\n",
       "    }\n",
       "</style>\n",
       "<table border=\"1\" class=\"dataframe\">\n",
       "  <thead>\n",
       "    <tr style=\"text-align: right;\">\n",
       "      <th></th>\n",
       "      <th></th>\n",
       "      <th>Subscription_Length</th>\n",
       "    </tr>\n",
       "    <tr>\n",
       "      <th>Age_Group</th>\n",
       "      <th>Gender</th>\n",
       "      <th></th>\n",
       "    </tr>\n",
       "  </thead>\n",
       "  <tbody>\n",
       "    <tr>\n",
       "      <th rowspan=\"2\" valign=\"top\">15-24</th>\n",
       "      <th>Laki-laki</th>\n",
       "      <td>29.3</td>\n",
       "    </tr>\n",
       "    <tr>\n",
       "      <th>Perempuan</th>\n",
       "      <td>27.2</td>\n",
       "    </tr>\n",
       "    <tr>\n",
       "      <th rowspan=\"2\" valign=\"top\">25-34</th>\n",
       "      <th>Laki-laki</th>\n",
       "      <td>28.3</td>\n",
       "    </tr>\n",
       "    <tr>\n",
       "      <th>Perempuan</th>\n",
       "      <td>29.6</td>\n",
       "    </tr>\n",
       "    <tr>\n",
       "      <th rowspan=\"2\" valign=\"top\">35-44</th>\n",
       "      <th>Laki-laki</th>\n",
       "      <td>31.2</td>\n",
       "    </tr>\n",
       "    <tr>\n",
       "      <th>Perempuan</th>\n",
       "      <td>30.8</td>\n",
       "    </tr>\n",
       "    <tr>\n",
       "      <th rowspan=\"2\" valign=\"top\">45-54</th>\n",
       "      <th>Laki-laki</th>\n",
       "      <td>29.2</td>\n",
       "    </tr>\n",
       "    <tr>\n",
       "      <th>Perempuan</th>\n",
       "      <td>29.8</td>\n",
       "    </tr>\n",
       "    <tr>\n",
       "      <th rowspan=\"2\" valign=\"top\">55-64</th>\n",
       "      <th>Laki-laki</th>\n",
       "      <td>30.9</td>\n",
       "    </tr>\n",
       "    <tr>\n",
       "      <th>Perempuan</th>\n",
       "      <td>29.3</td>\n",
       "    </tr>\n",
       "    <tr>\n",
       "      <th rowspan=\"2\" valign=\"top\">65-74</th>\n",
       "      <th>Laki-laki</th>\n",
       "      <td>28.1</td>\n",
       "    </tr>\n",
       "    <tr>\n",
       "      <th>Perempuan</th>\n",
       "      <td>30.3</td>\n",
       "    </tr>\n",
       "  </tbody>\n",
       "</table>\n",
       "</div>"
      ],
      "text/plain": [
       "                     Subscription_Length\n",
       "Age_Group Gender                        \n",
       "15-24     Laki-laki                 29.3\n",
       "          Perempuan                 27.2\n",
       "25-34     Laki-laki                 28.3\n",
       "          Perempuan                 29.6\n",
       "35-44     Laki-laki                 31.2\n",
       "          Perempuan                 30.8\n",
       "45-54     Laki-laki                 29.2\n",
       "          Perempuan                 29.8\n",
       "55-64     Laki-laki                 30.9\n",
       "          Perempuan                 29.3\n",
       "65-74     Laki-laki                 28.1\n",
       "          Perempuan                 30.3"
      ]
     },
     "execution_count": 937,
     "metadata": {},
     "output_type": "execute_result"
    }
   ],
   "source": [
    "# Filter Customer Masih Berlangganan\n",
    "problem_3_not_churned = df_clean[df_clean['Churned'] == False]\n",
    "\n",
    "# Group By Age_Group, Gender\n",
    "problem_3_groupby = problem_3_not_churned.dropna(subset='Age_Group').loc[:, ['Age_Group', 'Gender', 'Subscription_Length']].groupby(by=['Age_Group', 'Gender'])\n",
    "\n",
    "# Nilai Rata-rata\n",
    "problem_3_mean = problem_3_groupby.mean()\n",
    "\n",
    "# Split Hasil\n",
    "problem_3_result_index = problem_3_mean.index[0]\n",
    "problem_3_result_num   = round(problem_3_mean.iloc[0, 0], 2)\n",
    "\n",
    "# Print\n",
    "problem_3_mean.apply(lambda c: c.apply(lambda x: round(x, 1)))"
   ]
  },
  {
   "cell_type": "code",
   "execution_count": 938,
   "id": "85fbe2c7",
   "metadata": {},
   "outputs": [
    {
     "data": {
      "image/png": "[encoded data removed]",
      "text/plain": [
       "<Figure size 640x480 with 1 Axes>"
      ]
     },
     "metadata": {},
     "output_type": "display_data"
    }
   ],
   "source": [
    "problem_3_plot = problem_3_mean.apply(lambda c: c.apply(lambda x: round(x, 2))).unstack('Gender').sort_index().plot.bar(\n",
    "    rot=0,\n",
    "    title='Jangka Waktu Subscribe',\n",
    ")\n",
    "problem_3_plot.legend(problem_3_mean.unstack('Age_Group').index.to_list(), loc='upper right', bbox_to_anchor=(1, -0.1))\n",
    "problem_3_plot.set_xlabel('Kelompok Usia')\n",
    "problem_3_plot.set_ylabel('Lama sudah subscribe (bulan)')\n",
    "plt.savefig(f'{plot_dir}/plot_8_problem_3.jpg', bbox_inches='tight')\n",
    "plt.show()"
   ]
  },
  {
   "cell_type": "markdown",
   "id": "5aab1668",
   "metadata": {},
   "source": [
    "### **4. Berapa rata-rata pengeluaran _subscription_ per bulan customer berdasarkan demografi?**"
   ]
  },
  {
   "cell_type": "markdown",
   "id": "cedd2639",
   "metadata": {},
   "source": [
    "Untuk pertanyaan ini, demografi yang digunakan adalah kombinasi antara kelompok usia `Age_Group` dengan jenis kelamin `Gender`.\n",
    "\n",
    "Pengeluaran _subscription_ didapatkan dari **nilai rata-rata kolom `Monthly_Spend`** yang menghitung berapa pengeluaran customer per bulan pada streaming service."
   ]
  },
  {
   "cell_type": "markdown",
   "id": "8d93427b",
   "metadata": {},
   "source": [
    "**Hasil rata-rata pengeluaran _subscription_ per bulan customer berdasarkan demografi dapat dilihat pada grafik batang di bawah ini.**"
   ]
  },
  {
   "cell_type": "code",
   "execution_count": 939,
   "id": "605ed961",
   "metadata": {},
   "outputs": [
    {
     "data": {
      "text/html": [
       "<div>\n",
       "<style scoped>\n",
       "    .dataframe tbody tr th:only-of-type {\n",
       "        vertical-align: middle;\n",
       "    }\n",
       "\n",
       "    .dataframe tbody tr th {\n",
       "        vertical-align: top;\n",
       "    }\n",
       "\n",
       "    .dataframe thead th {\n",
       "        text-align: right;\n",
       "    }\n",
       "</style>\n",
       "<table border=\"1\" class=\"dataframe\">\n",
       "  <thead>\n",
       "    <tr style=\"text-align: right;\">\n",
       "      <th></th>\n",
       "      <th></th>\n",
       "      <th>Monthly_Spend</th>\n",
       "    </tr>\n",
       "    <tr>\n",
       "      <th>Age_Group</th>\n",
       "      <th>Gender</th>\n",
       "      <th></th>\n",
       "    </tr>\n",
       "  </thead>\n",
       "  <tbody>\n",
       "    <tr>\n",
       "      <th rowspan=\"2\" valign=\"top\">15-24</th>\n",
       "      <th>Laki-laki</th>\n",
       "      <td>Rp 780.849</td>\n",
       "    </tr>\n",
       "    <tr>\n",
       "      <th>Perempuan</th>\n",
       "      <td>Rp 773.822</td>\n",
       "    </tr>\n",
       "    <tr>\n",
       "      <th rowspan=\"2\" valign=\"top\">25-34</th>\n",
       "      <th>Laki-laki</th>\n",
       "      <td>Rp 786.252</td>\n",
       "    </tr>\n",
       "    <tr>\n",
       "      <th>Perempuan</th>\n",
       "      <td>Rp 787.904</td>\n",
       "    </tr>\n",
       "    <tr>\n",
       "      <th rowspan=\"2\" valign=\"top\">35-44</th>\n",
       "      <th>Laki-laki</th>\n",
       "      <td>Rp 794.745</td>\n",
       "    </tr>\n",
       "    <tr>\n",
       "      <th>Perempuan</th>\n",
       "      <td>Rp 789.486</td>\n",
       "    </tr>\n",
       "    <tr>\n",
       "      <th rowspan=\"2\" valign=\"top\">45-54</th>\n",
       "      <th>Laki-laki</th>\n",
       "      <td>Rp 776.143</td>\n",
       "    </tr>\n",
       "    <tr>\n",
       "      <th>Perempuan</th>\n",
       "      <td>Rp 782.111</td>\n",
       "    </tr>\n",
       "    <tr>\n",
       "      <th rowspan=\"2\" valign=\"top\">55-64</th>\n",
       "      <th>Laki-laki</th>\n",
       "      <td>Rp 791.627</td>\n",
       "    </tr>\n",
       "    <tr>\n",
       "      <th>Perempuan</th>\n",
       "      <td>Rp 785.495</td>\n",
       "    </tr>\n",
       "    <tr>\n",
       "      <th rowspan=\"2\" valign=\"top\">65-74</th>\n",
       "      <th>Laki-laki</th>\n",
       "      <td>Rp 792.413</td>\n",
       "    </tr>\n",
       "    <tr>\n",
       "      <th>Perempuan</th>\n",
       "      <td>Rp 774.441</td>\n",
       "    </tr>\n",
       "  </tbody>\n",
       "</table>\n",
       "</div>"
      ],
      "text/plain": [
       "                    Monthly_Spend\n",
       "Age_Group Gender                 \n",
       "15-24     Laki-laki    Rp 780.849\n",
       "          Perempuan    Rp 773.822\n",
       "25-34     Laki-laki    Rp 786.252\n",
       "          Perempuan    Rp 787.904\n",
       "35-44     Laki-laki    Rp 794.745\n",
       "          Perempuan    Rp 789.486\n",
       "45-54     Laki-laki    Rp 776.143\n",
       "          Perempuan    Rp 782.111\n",
       "55-64     Laki-laki    Rp 791.627\n",
       "          Perempuan    Rp 785.495\n",
       "65-74     Laki-laki    Rp 792.413\n",
       "          Perempuan    Rp 774.441"
      ]
     },
     "execution_count": 939,
     "metadata": {},
     "output_type": "execute_result"
    }
   ],
   "source": [
    "problem_4_groupby = df_clean.dropna(subset='Age_Group').loc[:, ['Age_Group', 'Gender', 'Monthly_Spend']].groupby(by=['Age_Group', 'Gender'])\n",
    "\n",
    "# Nilai Rata-rata\n",
    "problem_4_mean = problem_4_groupby.mean()\n",
    "\n",
    "# Split Hasil\n",
    "problem_4_result_index = problem_4_mean.index[0]\n",
    "problem_4_result_num   = round(problem_4_mean.iloc[0, 0], 2)\n",
    "\n",
    "# Print\n",
    "problem_4_mean.apply(lambda c: c.apply(lambda x: f'Rp {x:,.0f}'.replace(',', '.')))"
   ]
  },
  {
   "cell_type": "code",
   "execution_count": 940,
   "id": "c54984f5",
   "metadata": {},
   "outputs": [
    {
     "data": {
      "image/png": "[encoded data removed]",
      "text/plain": [
       "<Figure size 640x480 with 1 Axes>"
      ]
     },
     "metadata": {},
     "output_type": "display_data"
    }
   ],
   "source": [
    "problem_4_plot = problem_4_mean.apply(lambda c: c.apply(lambda x: round(x, 2))).unstack('Gender').sort_index().plot.bar(\n",
    "    rot=0,\n",
    "    title='Pengeluaran per Bulan Customer Streaming',\n",
    ")\n",
    "problem_4_plot.legend(problem_4_mean.unstack('Age_Group').index.to_list(), loc='upper right', bbox_to_anchor=(1, -0.1))\n",
    "problem_4_plot.set_xlabel('Kelompok Usia')\n",
    "problem_4_plot.set_ylabel('Pengeluaran per bulan (rupiah)')\n",
    "plt.savefig(f'{plot_dir}/plot_9_problem_4.jpg', bbox_inches='tight')\n",
    "plt.show()"
   ]
  },
  {
   "cell_type": "markdown",
   "id": "6ad577b8",
   "metadata": {},
   "source": [
    "### **5. Bagaimana diskon yang ditawarkan mempengaruhi pengeluaran langganan per bulan?**"
   ]
  },
  {
   "cell_type": "markdown",
   "id": "af6f6bb0",
   "metadata": {},
   "source": [
    "Pertanyaan ini dapat dijawab dengan cara melakukan analisis korelasi. Karena diskon yang ditawarkan dan pengeluaran langganan per bulan sama-sama merupakan data numerik dengan distribusi normal, maka analisis korelasi yang digunakan adalah menggunakan teknik **Pearson**.\n",
    "\n",
    "Dari hasil kode berikut, analisis korelasi dengan teknik Pearson menghasilkan koefisien r-correlation `0.2160`. Nilai tersebut menunjukkan bahwa ada sedikit korelasi positif antara diskon yang ditawarkan dengan pengeluaran langganan per bulan.\n",
    "\n",
    "Karena nilainya yang positif di atas nol namun masih mendekati nol, maka dapat disimpulkan bahwa:\n",
    "\n",
    "> **Diskon yang ditawarkan memiliki korelasi positif yang kecil dan hanya sedikit mempengaruhi pengeluaran langganan per bulan.**\n",
    ">\n",
    "> **Semakin besar diskon yang ditawarkan, maka semakin besar pula pengeluaran langganan per bulan.**"
   ]
  },
  {
   "cell_type": "code",
   "execution_count": 941,
   "id": "07544055",
   "metadata": {},
   "outputs": [
    {
     "name": "stdout",
     "output_type": "stream",
     "text": [
      "[Discount_Offered - Monthly_Spend] Pearson\n",
      " r-correlation: 0.2160,\n",
      " p-value: 0.000000000000000000000000000000000000000000000000000007320572\n"
     ]
    },
    {
     "data": {
      "text/plain": [
       "<seaborn.axisgrid.FacetGrid at 0x236557599a0>"
      ]
     },
     "execution_count": 941,
     "metadata": {},
     "output_type": "execute_result"
    },
    {
     "data": {
      "image/png": "[encoded data removed]",
      "text/plain": [
       "<Figure size 500x500 with 1 Axes>"
      ]
     },
     "metadata": {},
     "output_type": "display_data"
    }
   ],
   "source": [
    "problem_5_corr_r, problem_5_pval_p = stats.pearsonr(df_clean['Discount_Offered'], df_clean['Monthly_Spend'])\n",
    "\n",
    "print(f\"[Discount_Offered - Monthly_Spend] Pearson\\n r-correlation: {problem_5_corr_r:.4f},\\n p-value: {problem_5_pval_p:.60f}\")\n",
    "\n",
    "sns.lmplot(data=df_clean,x='Monthly_Spend', y='Discount_Offered')"
   ]
  },
  {
   "cell_type": "markdown",
   "id": "b0789581",
   "metadata": {},
   "source": [
    "### **6. Apakah ada hubungan antara tiket bantuan yang diajukan dengan nilai kepuasan customer?**"
   ]
  },
  {
   "cell_type": "markdown",
   "id": "77700c32",
   "metadata": {},
   "source": [
    "Pertanyaan ini dapat dijawab dengan cara melakukan analisis korelasi. Karena tiket bantuan yang diajukan merupakan data numerik dengan distribusi normal dan nilai kepuasan customer merupakan data ordinal, maka analisis korelasi yang digunakan adalah menggunakan teknik **Kendall**.\n",
    "\n",
    "Dari hasil kode berikut, analisis korelasi dengan teknik Kendall menghasilkan koefisien r-correlation `0.0108`. Nilai tersebut menunjukkan bahwa tidak ada korelasi antara tiket bantuan yang diajukan dengan nilai kepuasan customer, atau dari sudut pandang tertentu dianggap ada korelasi positif namun sangat lemah.\n",
    "\n",
    "Karena nilainya yang positif dan sangat kecil mendekati nol, maka dapat disimpulkan bahwa:\n",
    "\n",
    "> **Tiket bantuan yang diajukan tidak mempengaruhi nilai kepuasan customer dan tidak ada korelasi.**"
   ]
  },
  {
   "cell_type": "code",
   "execution_count": 942,
   "id": "6ea2ae98",
   "metadata": {},
   "outputs": [
    {
     "name": "stdout",
     "output_type": "stream",
     "text": [
      "[Support_Tickets_Raised - Satisfaction_Score] Kendall\n",
      " r-correlation: 0.0108,\n",
      " p-value: 0.343268\n"
     ]
    },
    {
     "data": {
      "text/plain": [
       "<seaborn.axisgrid.FacetGrid at 0x23646a41670>"
      ]
     },
     "execution_count": 942,
     "metadata": {},
     "output_type": "execute_result"
    },
    {
     "data": {
      "image/png": "[encoded data removed]",
      "text/plain": [
       "<Figure size 500x500 with 1 Axes>"
      ]
     },
     "metadata": {},
     "output_type": "display_data"
    }
   ],
   "source": [
    "problem_6_dropna = df_clean.dropna(subset='Satisfaction_Score')\n",
    "\n",
    "problem_6_corr_r, problem_6_pval_p = stats.kendalltau(problem_6_dropna['Support_Tickets_Raised'], problem_6_dropna['Satisfaction_Score'])\n",
    "\n",
    "print(f\"[Support_Tickets_Raised - Satisfaction_Score] Kendall\\n r-correlation: {problem_6_corr_r:.4f},\\n p-value: {problem_6_pval_p:.6f}\")\n",
    "\n",
    "sns.lmplot(data=df_clean,x='Support_Tickets_Raised', y='Satisfaction_Score')"
   ]
  },
  {
   "cell_type": "markdown",
   "id": "d9d0e246",
   "metadata": {},
   "source": [
    "### **7. Apakah tiket bantuan yang diajukan mempengaruhi berhentinya customer mengikuti streaming?**"
   ]
  },
  {
   "cell_type": "markdown",
   "id": "76e19d7e",
   "metadata": {},
   "source": [
    "Pertanyaan ini dapat dijawab dengan melakukan uji hipotesis/_Hypothesis Testing_. Data yang akan diuji adalah data tiket bantuan yang diajukan yang merupakan data numerik diskrit, dengan data status customer berhenti mengikuti streaming yang merupakan data kategorikal. Untuk itu jenis uji hipotesis yang digunakan adalah **Chi-Squared Test**.\n",
    "  - `H0` _Hypothesis Null_ : Tidak ada hubungan antara tiket bantuan yang diajukan dengan berhentinya customer mengikuti streaming.\n",
    "  - `H1` _Hypothesis Alternative_ : Ada hubungan antara tiket bantuan yang diajukan dengan berhentinya customer mengikuti streaming."
   ]
  },
  {
   "cell_type": "code",
   "execution_count": 943,
   "id": "ea02dd44",
   "metadata": {},
   "outputs": [
    {
     "data": {
      "text/html": [
       "<div>\n",
       "<style scoped>\n",
       "    .dataframe tbody tr th:only-of-type {\n",
       "        vertical-align: middle;\n",
       "    }\n",
       "\n",
       "    .dataframe tbody tr th {\n",
       "        vertical-align: top;\n",
       "    }\n",
       "\n",
       "    .dataframe thead th {\n",
       "        text-align: right;\n",
       "    }\n",
       "</style>\n",
       "<table border=\"1\" class=\"dataframe\">\n",
       "  <thead>\n",
       "    <tr style=\"text-align: right;\">\n",
       "      <th>Churned</th>\n",
       "      <th>False</th>\n",
       "      <th>True</th>\n",
       "    </tr>\n",
       "    <tr>\n",
       "      <th>Support_Tickets_Raised</th>\n",
       "      <th></th>\n",
       "      <th></th>\n",
       "    </tr>\n",
       "  </thead>\n",
       "  <tbody>\n",
       "    <tr>\n",
       "      <th>0</th>\n",
       "      <td>378</td>\n",
       "      <td>250</td>\n",
       "    </tr>\n",
       "    <tr>\n",
       "      <th>1</th>\n",
       "      <td>765</td>\n",
       "      <td>575</td>\n",
       "    </tr>\n",
       "    <tr>\n",
       "      <th>2</th>\n",
       "      <td>811</td>\n",
       "      <td>592</td>\n",
       "    </tr>\n",
       "    <tr>\n",
       "      <th>3</th>\n",
       "      <td>536</td>\n",
       "      <td>354</td>\n",
       "    </tr>\n",
       "    <tr>\n",
       "      <th>4</th>\n",
       "      <td>270</td>\n",
       "      <td>191</td>\n",
       "    </tr>\n",
       "    <tr>\n",
       "      <th>5</th>\n",
       "      <td>0</td>\n",
       "      <td>180</td>\n",
       "    </tr>\n",
       "    <tr>\n",
       "      <th>6</th>\n",
       "      <td>0</td>\n",
       "      <td>67</td>\n",
       "    </tr>\n",
       "    <tr>\n",
       "      <th>7</th>\n",
       "      <td>0</td>\n",
       "      <td>26</td>\n",
       "    </tr>\n",
       "    <tr>\n",
       "      <th>8</th>\n",
       "      <td>0</td>\n",
       "      <td>4</td>\n",
       "    </tr>\n",
       "    <tr>\n",
       "      <th>9</th>\n",
       "      <td>0</td>\n",
       "      <td>1</td>\n",
       "    </tr>\n",
       "  </tbody>\n",
       "</table>\n",
       "</div>"
      ],
      "text/plain": [
       "Churned                 False  True \n",
       "Support_Tickets_Raised              \n",
       "0                         378    250\n",
       "1                         765    575\n",
       "2                         811    592\n",
       "3                         536    354\n",
       "4                         270    191\n",
       "5                           0    180\n",
       "6                           0     67\n",
       "7                           0     26\n",
       "8                           0      4\n",
       "9                           0      1"
      ]
     },
     "execution_count": 943,
     "metadata": {},
     "output_type": "execute_result"
    }
   ],
   "source": [
    "problem_7_contingency_table = pd.crosstab(df_clean['Support_Tickets_Raised'], df_clean['Churned'])\n",
    "\n",
    "problem_7_contingency_table"
   ]
  },
  {
   "cell_type": "markdown",
   "id": "230cc50c",
   "metadata": {},
   "source": [
    "Dari kode di bawah ini, dengan nilai `p-value` yang sangat kecil mendekati nol maka:\n",
    "  1. `critical value` = `0.05`\n",
    "  2. `p-value` = `2.6180 x 10^73` < `critical value`\n",
    "  3. **`H0` _rejected_/ditolak**\n",
    "\n",
    "Kesimpulannya adalah **Ada hubungan antara tiket bantuan yang diajukan dengan berhentinya customer mengikuti streaming**."
   ]
  },
  {
   "cell_type": "code",
   "execution_count": 944,
   "id": "aab21510",
   "metadata": {},
   "outputs": [
    {
     "name": "stdout",
     "output_type": "stream",
     "text": [
      "[Churned - Support_Tickets_Raised] Chi-squared p-value: 2.618018475098584e-73\n"
     ]
    }
   ],
   "source": [
    "problem_7_chi = stats.chi2_contingency(problem_7_contingency_table)\n",
    "\n",
    "print(f\"[Churned - Support_Tickets_Raised] Chi-squared p-value: {problem_7_chi.pvalue}\")"
   ]
  },
  {
   "cell_type": "markdown",
   "id": "20e01471",
   "metadata": {},
   "source": [
    "### **8. Apakah metode pembayaran mempengaruhi pengeluaran langganan per bulan?**"
   ]
  },
  {
   "cell_type": "markdown",
   "id": "6efca81a",
   "metadata": {},
   "source": [
    "Pertanyaan ini dapat dijawab dengan melakukan uji hipotesis/_Hypothesis Testing_. Data yang akan diuji adalah metode pembayaran yang merupakan data kategorikal `3` kategori, dengan data pengeluaran langganan per bulan yang merupakan data numerik. Untuk itu jenis uji hipotesis yang digunakan adalah **ANOVA Test**.\n",
    "  - `H0` _Hypothesis Null_ : Tidak ada perbedaan signifikan rata-rata pengeluaran langganan per bulan untuk setiap metode pembayaran.\n",
    "  - `H1` _Hypothesis Alternative_ : Ada setidaknya perbedaan signifikan rata-rata pengeluaran langganan per bulan pada salah satu metode pembayaran."
   ]
  },
  {
   "cell_type": "code",
   "execution_count": 945,
   "id": "3c54ff13",
   "metadata": {},
   "outputs": [
    {
     "data": {
      "text/html": [
       "<div>\n",
       "<style scoped>\n",
       "    .dataframe tbody tr th:only-of-type {\n",
       "        vertical-align: middle;\n",
       "    }\n",
       "\n",
       "    .dataframe tbody tr th {\n",
       "        vertical-align: top;\n",
       "    }\n",
       "\n",
       "    .dataframe thead th {\n",
       "        text-align: right;\n",
       "    }\n",
       "</style>\n",
       "<table border=\"1\" class=\"dataframe\">\n",
       "  <thead>\n",
       "    <tr style=\"text-align: right;\">\n",
       "      <th></th>\n",
       "      <th>Monthly_Spend</th>\n",
       "    </tr>\n",
       "    <tr>\n",
       "      <th>Payment_Method</th>\n",
       "      <th></th>\n",
       "    </tr>\n",
       "  </thead>\n",
       "  <tbody>\n",
       "    <tr>\n",
       "      <th>Credit Card</th>\n",
       "      <td>Rp 784.241</td>\n",
       "    </tr>\n",
       "    <tr>\n",
       "      <th>Debit Card</th>\n",
       "      <td>Rp 787.441</td>\n",
       "    </tr>\n",
       "    <tr>\n",
       "      <th>PayPal</th>\n",
       "      <td>Rp 784.638</td>\n",
       "    </tr>\n",
       "  </tbody>\n",
       "</table>\n",
       "</div>"
      ],
      "text/plain": [
       "               Monthly_Spend\n",
       "Payment_Method              \n",
       "Credit Card       Rp 784.241\n",
       "Debit Card        Rp 787.441\n",
       "PayPal            Rp 784.638"
      ]
     },
     "execution_count": 945,
     "metadata": {},
     "output_type": "execute_result"
    }
   ],
   "source": [
    "problem_8_groupby = df_clean.loc[:, ['Payment_Method', 'Monthly_Spend']].groupby(by='Payment_Method')\n",
    "\n",
    "# Nilai Rata-rata\n",
    "problem_8_mean = problem_8_groupby.mean()\n",
    "\n",
    "# Print\n",
    "problem_8_mean.apply(lambda c: c.apply(lambda x: f'Rp {x:,.0f}'.replace(',', '.')))"
   ]
  },
  {
   "cell_type": "markdown",
   "id": "e619f4f7",
   "metadata": {},
   "source": [
    "Dari kode di bawah ini, dengan nilai `p-value` yang besar maka:\n",
    "  1. `critical value` = `0.05`\n",
    "  2. `p-value` = `0.8201384282535078` > `critical value`\n",
    "  3. **`H0` _failed to reject_/gagal ditolak**\n",
    "\n",
    "Kesimpulannya adalah **Tidak ada perbedaan signifikan rata-rata pengeluaran langganan per bulan untuk setiap metode pembayaran**."
   ]
  },
  {
   "cell_type": "code",
   "execution_count": 946,
   "id": "dd827392",
   "metadata": {},
   "outputs": [
    {
     "name": "stdout",
     "output_type": "stream",
     "text": [
      "P-value: 0.8201384152687364\n"
     ]
    }
   ],
   "source": [
    "problem_8_mean_list = [y['Monthly_Spend'] for x, y in problem_8_groupby]\n",
    "\n",
    "problem_8_anova = stats.f_oneway(*problem_8_mean_list)\n",
    "print('P-value:',problem_8_anova.pvalue)"
   ]
  },
  {
   "cell_type": "markdown",
   "id": "407ff243",
   "metadata": {},
   "source": [
    "### **9. Apakah penilaian kepuasan customer yang masih berlangganan sama dengan customer yang sudah tidak berlangganan?**"
   ]
  },
  {
   "cell_type": "markdown",
   "id": "b53701b0",
   "metadata": {},
   "source": [
    "Pertanyaan ini dapat dijawab dengan melakukan uji hipotesis/_Hypothesis Testing_. Data yang akan diuji adalah data nilai kepuasan customer untuk customer yang masih mengikuti streaming dengan data nilai kepuasan customer yang tidak mengikuti streaming. Untuk itu jenis uji hipotesis yang digunakan adalah **Two-Sided Two-Sample Independent Test**.\n",
    "  - `H0` _Hypothesis Null_ : Rata-rata nilai kepuasan customer untuk customer yang masih mengikuti streaming sama dengan customer yang tidak mengikuti streaming.\n",
    "  - `H1` _Hypothesis Alternative_ : Rata-rata nilai kepuasan customer untuk customer yang masih mengikuti streaming tidak sama dengan customer yang tidak mengikuti streaming."
   ]
  },
  {
   "cell_type": "code",
   "execution_count": 947,
   "id": "2ebac687",
   "metadata": {},
   "outputs": [
    {
     "data": {
      "text/html": [
       "<div>\n",
       "<style scoped>\n",
       "    .dataframe tbody tr th:only-of-type {\n",
       "        vertical-align: middle;\n",
       "    }\n",
       "\n",
       "    .dataframe tbody tr th {\n",
       "        vertical-align: top;\n",
       "    }\n",
       "\n",
       "    .dataframe thead th {\n",
       "        text-align: right;\n",
       "    }\n",
       "</style>\n",
       "<table border=\"1\" class=\"dataframe\">\n",
       "  <thead>\n",
       "    <tr style=\"text-align: right;\">\n",
       "      <th>Churned</th>\n",
       "      <th>False</th>\n",
       "      <th>True</th>\n",
       "    </tr>\n",
       "    <tr>\n",
       "      <th>Satisfaction_Score</th>\n",
       "      <th></th>\n",
       "      <th></th>\n",
       "    </tr>\n",
       "  </thead>\n",
       "  <tbody>\n",
       "    <tr>\n",
       "      <th>1.0</th>\n",
       "      <td>0</td>\n",
       "      <td>450</td>\n",
       "    </tr>\n",
       "    <tr>\n",
       "      <th>2.0</th>\n",
       "      <td>0</td>\n",
       "      <td>439</td>\n",
       "    </tr>\n",
       "    <tr>\n",
       "      <th>3.0</th>\n",
       "      <td>0</td>\n",
       "      <td>407</td>\n",
       "    </tr>\n",
       "    <tr>\n",
       "      <th>4.0</th>\n",
       "      <td>360</td>\n",
       "      <td>109</td>\n",
       "    </tr>\n",
       "    <tr>\n",
       "      <th>5.0</th>\n",
       "      <td>333</td>\n",
       "      <td>103</td>\n",
       "    </tr>\n",
       "    <tr>\n",
       "      <th>6.0</th>\n",
       "      <td>367</td>\n",
       "      <td>110</td>\n",
       "    </tr>\n",
       "    <tr>\n",
       "      <th>7.0</th>\n",
       "      <td>365</td>\n",
       "      <td>98</td>\n",
       "    </tr>\n",
       "    <tr>\n",
       "      <th>8.0</th>\n",
       "      <td>328</td>\n",
       "      <td>121</td>\n",
       "    </tr>\n",
       "    <tr>\n",
       "      <th>9.0</th>\n",
       "      <td>351</td>\n",
       "      <td>92</td>\n",
       "    </tr>\n",
       "    <tr>\n",
       "      <th>10.0</th>\n",
       "      <td>373</td>\n",
       "      <td>94</td>\n",
       "    </tr>\n",
       "  </tbody>\n",
       "</table>\n",
       "</div>"
      ],
      "text/plain": [
       "Churned             False  True \n",
       "Satisfaction_Score              \n",
       "1.0                     0    450\n",
       "2.0                     0    439\n",
       "3.0                     0    407\n",
       "4.0                   360    109\n",
       "5.0                   333    103\n",
       "6.0                   367    110\n",
       "7.0                   365     98\n",
       "8.0                   328    121\n",
       "9.0                   351     92\n",
       "10.0                  373     94"
      ]
     },
     "execution_count": 947,
     "metadata": {},
     "output_type": "execute_result"
    }
   ],
   "source": [
    "problem_9_not_churned = df_not_churned.loc[:, ['Satisfaction_Score']].dropna()\n",
    "problem_9_churned = df_churned.loc[:, ['Satisfaction_Score']].dropna()\n",
    "\n",
    "problem_9_crosstab = pd.crosstab(df_clean['Satisfaction_Score'], df_clean['Churned'])\n",
    "problem_9_crosstab"
   ]
  },
  {
   "cell_type": "code",
   "execution_count": 948,
   "id": "d7f90d03",
   "metadata": {},
   "outputs": [
    {
     "data": {
      "image/png": "[encoded data removed]",
      "text/plain": [
       "<Figure size 640x480 with 1 Axes>"
      ]
     },
     "metadata": {},
     "output_type": "display_data"
    }
   ],
   "source": [
    "problem_9_plot1 = problem_9_crosstab.sort_index().plot.bar(\n",
    "    rot=0,\n",
    "    title='Nilai Kepuasan Customer',\n",
    ")\n",
    "problem_9_plot1.legend(['Masih Streaming', 'Tidak Streaming'], loc='lower left', bbox_to_anchor=(0.7, -0.25))\n",
    "problem_9_plot1.set_xlabel('Nilai Kepuasan')\n",
    "problem_9_plot1.set_ylabel('Frekuensi')\n",
    "plt.savefig(f'{plot_dir}/plot_10_problem_9.jpg', bbox_inches='tight')\n",
    "plt.show()"
   ]
  },
  {
   "cell_type": "code",
   "execution_count": 949,
   "id": "25596948",
   "metadata": {},
   "outputs": [
    {
     "name": "stdout",
     "output_type": "stream",
     "text": [
      "Rata-rata Nilai Kepuasan Masih Streaming : 7.01\n",
      "Rata-rata Nilai Kepuasan Tidak Streaming : 3.75\n"
     ]
    }
   ],
   "source": [
    "print(f'Rata-rata Nilai Kepuasan Masih Streaming : {problem_9_not_churned['Satisfaction_Score'].mean():.2f}')\n",
    "print(f'Rata-rata Nilai Kepuasan Tidak Streaming : {problem_9_churned['Satisfaction_Score'].mean():.2f}')"
   ]
  },
  {
   "cell_type": "markdown",
   "id": "421e625a",
   "metadata": {},
   "source": [
    "Dari kode di bawah ini, dengan nilai `p-value` sama dengan nol maka:\n",
    "  1. `critical value` = `0.05`\n",
    "  2. `p-value` = `0.0` < `critical value`\n",
    "  3. **`H0` _rejected_/ditolak**\n",
    "\n",
    "Kesimpulannya adalah **Rata-rata nilai kepuasan customer untuk customer yang masih mengikuti streaming tidak sama dengan customer yang tidak mengikuti streaming**."
   ]
  },
  {
   "cell_type": "code",
   "execution_count": 950,
   "id": "a438ec41",
   "metadata": {},
   "outputs": [
    {
     "name": "stdout",
     "output_type": "stream",
     "text": [
      "T-Statistic: 46.093146582773485\n",
      "P-value: 0.0\n"
     ]
    }
   ],
   "source": [
    "problem_9_t_stat, problem_9_p_val = stats.ttest_ind(problem_9_not_churned['Satisfaction_Score'],problem_9_churned['Satisfaction_Score'])\n",
    "print('T-Statistic:',problem_9_t_stat)\n",
    "print('P-value:',problem_9_p_val)"
   ]
  },
  {
   "cell_type": "markdown",
   "id": "5cc31232",
   "metadata": {},
   "source": [
    "## **D. Dashboard Tableau**"
   ]
  },
  {
   "cell_type": "markdown",
   "id": "cce5a3eb",
   "metadata": {},
   "source": [
    "Hasil analisis bisa diakses pada [Tableau Public berikut](https://public.tableau.com/app/profile/elang.cergas.pembrani/viz/FTDS_P0M1/Dashboard?publish=yes).\n",
    "\n",
    "Terdapat 2 halaman visualisasi data yang bisa diakses dengan menekan tombol `Visualisasi Data`, dan juga terdapat 9 halaman Penjabaran Masalah yang bisa diakses dengan menekan masing-masing tombol `Go >`.\n",
    "\n",
    "### Tampilan Tableau - Dashboard\n",
    "![tableau_dashboard](./tableau/tableau_dashboard.png)\n",
    "\n",
    "\n",
    "<!-- \n",
    "### Tampilan Tableau - Visualisasi Data 1\n",
    "![tableau_vis1](tableau/tableau_vis1.png)\n",
    "\n",
    "### Tampilan Tableau - Visualisasi Data 2\n",
    "![tableau_vis2](tableau/tableau_vis2.png)\n",
    "\n",
    "### Tampilan Tableau - Penjabaran Masalah #1\n",
    "![tableau_problem1](tableau/tableau_problem1.png)\n",
    "\n",
    "### Tampilan Tableau - Penjabaran Masalah #2\n",
    "![tableau_problem2](tableau/tableau_problem2.png)\n",
    "\n",
    "### Tampilan Tableau - Penjabaran Masalah #3\n",
    "![tableau_problem3](tableau/tableau_problem3.png)\n",
    "\n",
    "### Tampilan Tableau - Penjabaran Masalah #4\n",
    "![tableau_problem4](tableau/tableau_problem4.png)\n",
    "\n",
    "### Tampilan Tableau - Penjabaran Masalah #5\n",
    "![tableau_problem5](tableau/tableau_problem5.png)\n",
    "\n",
    "### Tampilan Tableau - Penjabaran Masalah #6\n",
    "![tableau_problem6](tableau/tableau_problem6.png)\n",
    "\n",
    "### Tampilan Tableau - Penjabaran Masalah #7\n",
    "![tableau_problem7](tableau/tableau_problem7.png)\n",
    "\n",
    "### Tampilan Tableau - Penjabaran Masalah #8\n",
    "![tableau_problem8](tableau/tableau_problem8.png)\n",
    "\n",
    "### Tampilan Tableau - Penjabaran Masalah #9\n",
    "![tableau_problem9](tableau/tableau_problem9.png)\n",
    "-->\n"
   ]
  },
  {
   "cell_type": "markdown",
   "id": "702abc6f",
   "metadata": {},
   "source": [
    "---"
   ]
  },
  {
   "cell_type": "markdown",
   "id": "d701a827",
   "metadata": {},
   "source": [
    "# **VI. Conclusion**"
   ]
  },
  {
   "cell_type": "markdown",
   "id": "2fafd887",
   "metadata": {},
   "source": [
    "Dashboard bisa diakses pada link [Tableau Public berikut](https://public.tableau.com/app/profile/elang.cergas.pembrani/viz/FTDS_P0M1/Dashboard?publish=yes)."
   ]
  },
  {
   "cell_type": "markdown",
   "id": "1c58525c",
   "metadata": {},
   "source": [
    "## **Rangkuman Hasil Analisis Penjabaran Masalah**"
   ]
  },
  {
   "cell_type": "markdown",
   "id": "9ee4cfc2",
   "metadata": {},
   "source": [
    "Berikut adalah rangkuman atas penjabaran masalah yang sudah dianalisis:\n",
    "  1. **Demografi customer seperti apa jika dilihat dari kelompok usia dan jenis kelamin?**\n",
    "     \n",
    "     ![demografi-customer-seperti-apa-jika-dilihat-dari-kelompok-usia-dan-jenis-kelamin](plot/df_problem_1.png)\n",
    "     \n",
    "     ![demografi-customer-seperti-apa-jika-dilihat-dari-kelompok-usia-dan-jenis-kelamin](plot/plot_6_problem_1.jpg)\n",
    "  \n",
    "  <br />\n",
    "\n",
    "  2. **Demografi customer seperti apa yang paling sering menonton streaming?**\n",
    "     \n",
    "     > **Demografi yang paling sering menonton streaming adalah `Laki-laki` dengan kelompok usia `15-24` tahun.**\n",
    "\n",
    "     <!--\n",
    "     ![demografi-customer-seperti-apa-yang-paling-sering-menonton-streaming](plot/df_problem_2.png)\n",
    "     ![demografi-customer-seperti-apa-yang-paling-sering-menonton-streaming](plot/plot_7_problem_2.jpg)\n",
    "     -->\n",
    "\n",
    "  <br />\n",
    "  <br />\n",
    "\n",
    "  3. **Berapa rata-rata jangka waktu customer telah melakukan _subscribe_ berdasarkan demografi?**\n",
    "     \n",
    "     ![berapa-rata-rata-jangka-waktu-customer-telah-melakukan-subscribe-berdasarkan-demografi](plot/df_problem_3.png)\n",
    "\n",
    "     ![berapa-rata-rata-jangka-waktu-customer-telah-melakukan-subscribe-berdasarkan-demografi](plot/plot_8_problem_3.jpg)\n",
    "\n",
    "  <br />\n",
    "\n",
    "  4. **Berapa rata-rata pengeluaran _subscription_ per bulan customer berdasarkan demografi?**\n",
    "     \n",
    "     ![berapa-rata-rata-pengeluaran-subscription-per-bulan-customer-berdasarkan-demografi](plot/df_problem_4.png)\n",
    "\n",
    "     ![berapa-rata-rata-pengeluaran-subscription-per-bulan-customer-berdasarkan-demografi](plot/plot_9_problem_4.jpg)\n",
    "\n",
    "  <br />\n",
    "\n",
    "  5. **Bagaimana diskon yang ditawarkan mempengaruhi pengeluaran langganan per bulan?**\n",
    "     \n",
    "     > **Diskon yang ditawarkan memiliki korelasi positif yang kecil dan hanya sedikit mempengaruhi pengeluaran langganan per bulan.**\n",
    "     >\n",
    "     > **Semakin besar diskon yang ditawarkan, maka semakin besar pula pengeluaran langganan per bulan.**\n",
    "\n",
    "  <br />\n",
    "\n",
    "  6. **Apakah ada hubungan antara tiket bantuan yang diajukan dengan nilai kepuasan customer?**\n",
    "     \n",
    "     > **Tiket bantuan yang diajukan tidak mempengaruhi nilai kepuasan customer dan tidak ada korelasi.**\n",
    "\n",
    "  <br />\n",
    "\n",
    "  7. **Apakah tiket bantuan yang diajukan mempengaruhi berhentinya customer mengikuti streaming?**\n",
    "     \n",
    "     > **Ada hubungan antara tiket bantuan yang diajukan dengan berhentinya customer mengikuti streaming**\n",
    "\n",
    "  <br />\n",
    "\n",
    "  8. **Apakah metode pembayaran mempengaruhi pengeluaran langganan per bulan?**\n",
    "     \n",
    "     > **Tidak ada perbedaan signifikan rata-rata pengeluaran langganan per bulan untuk setiap metode pembayaran.**\n",
    "\n",
    "  <br />\n",
    "\n",
    "  9. **Apakah penilaian kepuasan customer yang masih berlangganan sama dengan customer yang sudah tidak berlangganan?**\n",
    "     \n",
    "     > **Rata-rata nilai kepuasan customer untuk customer yang masih mengikuti streaming tidak sama dengan customer yang tidak mengikuti streaming.**\n",
    "     >\n",
    "     > **Rata-rata Masih streaming `7.01` - Tidak streaming `3.75`**\n"
   ]
  },
  {
   "cell_type": "markdown",
   "id": "180b422d",
   "metadata": {},
   "source": [
    "## **Kesimpulan Akhir**"
   ]
  },
  {
   "cell_type": "markdown",
   "id": "eb777e3f",
   "metadata": {},
   "source": [
    "Jika dilihat dari _problem statement_ di awal yaitu:\n",
    "> Menganalisis demografi, perilaku dan _engagement_ customer streaming dalam kurun waktu 1 minggu dengan cara menganalisis dataset Streaming Service 1 tahun terakhir, sehingga dapat menentukan strategi yang tepat untuk mempertahankan customer streaming\n",
    "\n",
    "Dengan tujuan **Menentukan strategi untuk mempertahankan customer streaming**, maka kesimpulan yang dapat diambil setelah mendapatkan hasil analisis tersebut adalah:\n",
    "  1. Demografi customer yang paling sering menonton streaming adalah `Laki-laki` dengan kelompok usia muda `15-24`. Oleh karena itu, salah satu strategi yang bisa diterapkan untuk mempertahankan customer streaming yaitu memfokuskan target pemasaran ke demografi tersebut kemudian menyesuaikan strategi pemasaran dan promosi yang sesuai dan efektif.\n",
    "  2. Diskon yang ditawarkan memiliki korelasi positif yang kecil dengan pengeluaran customer streaming. Dapat disimpulkan bahwa peningkatan tawaran diskon belum perlu dilakukan karena korelasinya tidak signifikan dan ada potensi kerugian finansial.\n",
    "  3. Melihat bahwa ada hubungan antara jumlah tiket bantuan yang diajukan dengan berhentinya customer streaming, dapat diasumsikan bahwa harus ada usaha untuk mengurangi jumlah tiket bantuan, misalnya dengan memperbaiki kualitas layanan sehingga customer lebih jarang komplain lewat tiket bantuan. Atau juga dengan meningkatkan responsivitas terhadap tiket bantuan.\n",
    "  4. Metode pembayaran yang ditawarkan tidak mempengaruhi rata-rata pengeluaran customer, oleh karena itu bisa disimpulkan bahwa tidak perlu adanya strategi baru terkait dengan metode pembayaran.\n",
    "  5. Rata-rata nilai kepuasan untuk customer yang masih streaming berbeda dengan yang sudah berhenti streaming. Dari nilai rata-ratanya sendiri juga terlihat ada ketimpangan yang cukup tinggi (`7.01` vs `3.75`). Ini menunjukkan bahwa salah satu faktor utama yang menyebabkan customer berhenti streaming adalah ketidakpuasan terhadap layanan. Oleh karena itu diperlukan strategi baru untuk membuat customer menjadi lebih puas dengan layanan streaming kita. Strategi-strategi baru ini perlu dilakukan analisis lebih lanjut.\n"
   ]
  },
  {
   "cell_type": "markdown",
   "id": "82d580d0",
   "metadata": {},
   "source": [
    "Hasil analisis bisa dilihat pada [Tableau Public berikut](https://public.tableau.com/app/profile/elang.cergas.pembrani/viz/FTDS_P0M1/Dashboard?publish=yes)."
   ]
  }
 ],
 "metadata": {
  "kernelspec": {
   "display_name": "base",
   "language": "python",
   "name": "python3"
  },
  "language_info": {
   "codemirror_mode": {
    "name": "ipython",
    "version": 3
   },
   "file_extension": ".py",
   "mimetype": "text/x-python",
   "name": "python",
   "nbconvert_exporter": "python",
   "pygments_lexer": "ipython3",
   "version": "3.12.3"
  }
 },
 "nbformat": 4,
 "nbformat_minor": 5
}
